{
 "cells": [
  {
   "cell_type": "markdown",
   "metadata": {
    "deletable": false,
    "editable": false,
    "nbgrader": {
     "cell_type": "markdown",
     "checksum": "a7f74022407bbe707f3179928f107922",
     "grade": false,
     "grade_id": "cell-80d2c074a80faa82",
     "locked": true,
     "schema_version": 3,
     "solution": false,
     "task": false
    }
   },
   "source": [
    " Homework 2 : Classes\n",
    "\n",
    "\n",
    "In this assignment, we will learn to combine containers and functions into classes. We will explore ways to make connections between classes through inheritance. \n",
    "\n",
    "The questions guide you step-by-step through these approaches. Please post to Slack with any questions under the #homework-2 channel. \n"
   ]
  },
  {
   "cell_type": "markdown",
   "metadata": {
    "deletable": false,
    "editable": false,
    "nbgrader": {
     "cell_type": "markdown",
     "checksum": "777ace920507f7cccc43b97268071201",
     "grade": false,
     "grade_id": "cell-946f429ec7438c5b",
     "locked": true,
     "schema_version": 3,
     "solution": false,
     "task": false
    }
   },
   "source": [
    "### Rubric\n",
    "\n",
    "Question | Points\n",
    "--- | ---\n",
    "Question 1.1 | 1\n",
    "Question 1.2 | 1\n",
    "Question 1.3 | 1\n",
    "Question 2 | 1\n",
    "Question 3 | 1\n",
    "Question 4 | 0\n",
    "Question 5.1 | 1\n",
    "Question 5.2 | 1\n",
    "Question 5.3 | 1\n",
    "Total | 8"
   ]
  },
  {
   "cell_type": "markdown",
   "metadata": {
    "deletable": false,
    "editable": false,
    "nbgrader": {
     "cell_type": "markdown",
     "checksum": "206a08ec0f7d71ea8a28a0e60392160c",
     "grade": false,
     "grade_id": "cell-2c3db4932982c88b",
     "locked": true,
     "schema_version": 3,
     "solution": false,
     "task": false
    }
   },
   "source": [
    "We discussed research of Edmond Halley in Lecture 1. Remember that Edmond Halley used demographics data from Poland to estimate life expectancy at different ages. Using these estimates for life expectancy, Edmond Hally could determine a price for annuities in England. Remember that annuities are contracts in the insurance industry. \n",
    "\n",
    "Here we will study the price of bonds. Bonds are contracts in the finance industry. We can understand the price of bonds in terms of schedule, payments and discounts. Following the jargon of the finance industry, we will refer to a schedule of payments as a cash-flow. \n",
    "\n",
    "##### Schedule \n",
    "\n",
    "Since bonds are contracts, bonds have a starting time and an ending time. We will study contracts with starting time $0$ years and ending time $T$ years. So the contract ends $T$ years from the present time. The schedule consists of years \n",
    "\n",
    "> $1,2,\\ldots,T-1,T$ years.\n",
    "\n",
    "For each year in the schedule, the bond has a payment.\n",
    "\n",
    "##### Payment\n",
    "\n",
    "The payment depends on the principal of the bond and on the coupon of the bond. Let $P$ denote the principal of the bond. Let $c$ denote the coupon of the bond. For each year in the schedule, the bond pays \n",
    "\n",
    "> $c \\cdot P$ dollars \n",
    "\n",
    "Additionally the bond pays the principal at the ending time $T$. The contract behind the bond depends on the schedule and payments. However the price of the bond requires more information than the schedule and payments. The missing components come from financial markets. \n",
    "\n",
    "##### Discount \n",
    "\n",
    "The missing components of the price of bonds are discount factors. If we study a payment at a future time, then we need to discount the payment by some factor to determine the value at the present time. \n",
    "\n",
    "We can understand discounting by analogy with inflation. If a product costs $\\$1$ at the present time, it might cost $\\$10$ at time $T$ years. So a payment of $\\$10$ at year $T$ would need to be discounted by a factor of $0.1$ to obtain a payment of \\$1 at the present time.  \n",
    "\n",
    "We have two ways to specify a discount factor for time $T$ years using a discount rate $r$\n",
    "\n",
    "> - Simple Discounting\n",
    ">   * $\\left(\\frac{1}{1 + r}\\right)^T$\n",
    "> - Continuous Discounting\n",
    ">   * $e^{-r T}$ where $e = 2.7182\\ldots$\n",
    "\n",
    "Let $D_t$ denote the discount factor at time $t$ years. \n",
    "\n",
    "By combining schedule, payment, and discounts, we can determine the price of the bond $$\\text{Price} =  P \\cdot D_T + \\sum_{t = 1}^{T}\\;  c \\cdot  P \\cdot D_t \\ . $$ Please check [here](https://en.wikipedia.org/wiki/Summation) for information about the notation.  For example, take \n",
    "\n",
    " - $P = 100$ dollars\n",
    " - $T = 3$ years \n",
    " - $c = 0.05$ coupon \n",
    " - $r_1 = 0.04$, $r_2 = 0.05$, $r_3 = 0.06$ rates\n",
    " \n",
    "For simple discounting, we would have \n",
    "\n",
    "$$97.5 = 100 \\cdot \\left(\\frac{1}{1 + 0.06}\\right)^3 + 0.05 \\cdot 100 \\cdot \\left(\\frac{1}{1 + 0.04}\\right)^1 + 0.05 \\cdot 100 \\cdot \\left(\\frac{1}{1 + 0.05}\\right)^2 + 0.05 \\cdot 100 \\cdot \\left(\\frac{1}{1 + 0.06}\\right)^3 $$  \n",
    "\n",
    "For continuous discounting, we would have \n",
    "\n",
    "$$97.0 = 100 \\cdot e^{-0.06 \\cdot 3}  + 0.05 \\cdot 100 \\cdot e^{-0.04 \\cdot 1} + 0.05 \\cdot 100 \\cdot e^{-0.05 \\cdot 2} + 0.05 \\cdot 100 \\cdot e^{-0.06 \\cdot 3} $$  "
   ]
  },
  {
   "cell_type": "markdown",
   "metadata": {
    "deletable": false,
    "editable": false,
    "nbgrader": {
     "cell_type": "markdown",
     "checksum": "3f55c6cfd426e6889e127b928b1d06eb",
     "grade": false,
     "grade_id": "cell-55baa71ec1ac0565",
     "locked": true,
     "schema_version": 3,
     "solution": false,
     "task": false
    }
   },
   "source": [
    "### Question 1. Function for Calculating Bond Prices  \n",
    "\n",
    "We want to write functions to compute the price of bonds \n",
    "\n",
    "- a function that computes the price from cash-flows and discount factors \n",
    "- a function to generate discount factors from rates\n",
    "\n",
    "Combining these functions, we will be able to determine the price of a bond.\n",
    "\n",
    "#### Question 1.1\n",
    "\n",
    "We want to write a function called `price_product`. The inputs are \n",
    " \n",
    " - ```C``` a list of cash-flows\n",
    " - ```D``` a list of discount factors\n",
    " \n",
    "We assume `C` and `D` have the same length. The output is a number. The number is the sum of the products \n",
    "\n",
    "- `C[i] * D[i]`\n",
    " \n",
    "Here `i` ranges from 0 to the length `C` or equivalently the length of `D`. Complete the following code to implement the function."
   ]
  },
  {
   "cell_type": "code",
   "execution_count": 1,
   "metadata": {
    "deletable": false,
    "nbgrader": {
     "cell_type": "code",
     "checksum": "d51e8777d8f09da556f902b360d4a48a",
     "grade": false,
     "grade_id": "cell-584e947774ffa149",
     "locked": false,
     "schema_version": 3,
     "solution": true,
     "task": false
    }
   },
   "outputs": [],
   "source": [
    "def price_product(C, D):\n",
    "    output = 0\n",
    "    x=len(C)\n",
    "    \n",
    "    for i in range(0,x):\n",
    "        output = C[i]*D[i] + output\n",
    "    \n",
    "    return output\n"
   ]
  },
  {
   "cell_type": "code",
   "execution_count": 2,
   "metadata": {
    "deletable": false,
    "editable": false,
    "nbgrader": {
     "cell_type": "code",
     "checksum": "abcbdad5b96c0d17797351ac90284e70",
     "grade": true,
     "grade_id": "cell-3173068f98658409",
     "locked": true,
     "points": 1,
     "schema_version": 3,
     "solution": false,
     "task": false
    }
   },
   "outputs": [],
   "source": [
    "# TEST \n",
    "\n",
    "C = [5.0, 5.0, 105.0]\n",
    "D = [0.96, 0.90, 0.83]\n",
    "\n",
    "assert type(price_product(C,D)) == float\n"
   ]
  },
  {
   "cell_type": "markdown",
   "metadata": {
    "deletable": false,
    "editable": false,
    "nbgrader": {
     "cell_type": "markdown",
     "checksum": "0ee38763bb4682edf16e04c84064bc45",
     "grade": false,
     "grade_id": "cell-e92d3f007ab45be4",
     "locked": true,
     "schema_version": 3,
     "solution": false,
     "task": false
    }
   },
   "source": [
    "#### Question 1.2\n",
    "\n",
    "We want to write a function called ```generate_simple_discount``` with inputs \n",
    " \n",
    " - ```r``` rates\n",
    "\n",
    "Here the rates `r` should be a list. The output is a list. The list contains the discount factors \n",
    "\n",
    "$$\\left(\\frac{1}{1 + r_1}\\right)^1,\\left(\\frac{1}{1 + r_2}\\right)^2,\\ldots,\\left(\\frac{1}{1 + r_{T-1}}\\right)^{T-1}, \\left(\\frac{1}{1 + r_T}\\right)^T $$ \n",
    "\n",
    "Note that $T$ should be the length of the list with $r_1$ the entry with index 0, $r_2$ the entry with index 1,..."
   ]
  },
  {
   "cell_type": "code",
   "execution_count": 3,
   "metadata": {
    "deletable": false,
    "nbgrader": {
     "cell_type": "code",
     "checksum": "0f97e0c95b64d692a9422fd2ce6338b6",
     "grade": false,
     "grade_id": "cell-e7a71350541efc32",
     "locked": false,
     "schema_version": 3,
     "solution": true,
     "task": false
    }
   },
   "outputs": [],
   "source": [
    "def generate_simple_discount(r):\n",
    "    output = []\n",
    "\n",
    "    for i in range(0,len(r)):\n",
    "        t=i+1\n",
    "        output.append(pow(1/(1+r[i]),t))\n",
    "    # YOUR CODE HERE\n",
    "    #raise NotImplementedError()\n",
    "    \n",
    "    return output"
   ]
  },
  {
   "cell_type": "code",
   "execution_count": 4,
   "metadata": {
    "deletable": false,
    "editable": false,
    "nbgrader": {
     "cell_type": "code",
     "checksum": "bcf892def338088f6883fa7162a1be7a",
     "grade": true,
     "grade_id": "cell-0df2eadcb6c0fba4",
     "locked": true,
     "points": 1,
     "schema_version": 3,
     "solution": false,
     "task": false
    }
   },
   "outputs": [],
   "source": [
    "# TEST \n",
    "\n",
    "r = [0.04, 0.05, 0.06]\n",
    "discount_factors = generate_simple_discount(r)\n",
    "\n",
    "assert abs(discount_factors[0] - 0.96) < 1\n"
   ]
  },
  {
   "cell_type": "markdown",
   "metadata": {
    "deletable": false,
    "editable": false,
    "nbgrader": {
     "cell_type": "markdown",
     "checksum": "8516b642bec1e68061cc5b04370c0220",
     "grade": false,
     "grade_id": "cell-c7b4b8f19f28343c",
     "locked": true,
     "schema_version": 3,
     "solution": false,
     "task": false
    }
   },
   "source": [
    "#### Question 1.3 \n",
    "\n",
    "We want to compute the price of a bond \n",
    " \n",
    " - $P = 1000$ dollars\n",
    " - $T = 3$ years \n",
    " - $c = 0.03$ coupon \n",
    " - $r_1 = 0.07$, $r_2 = 0.08$, $r_3 = 0.09$ rates \n",
    "\n",
    "We need to determine the cash-flows."
   ]
  },
  {
   "cell_type": "code",
   "execution_count": 5,
   "metadata": {
    "deletable": false,
    "editable": false,
    "nbgrader": {
     "cell_type": "code",
     "checksum": "56f79aea9b0c8aa632d72600715f6495",
     "grade": false,
     "grade_id": "cell-711277071a577b01",
     "locked": true,
     "schema_version": 3,
     "solution": false,
     "task": false
    }
   },
   "outputs": [],
   "source": [
    "P = 1000 \n",
    "c = 0.03\n",
    "T = 3\n",
    "r = [0.07, 0.08, 0.09]\n",
    "\n",
    "C = T * [c * P]\n",
    "C[-1] = C[-1] + P"
   ]
  },
  {
   "cell_type": "markdown",
   "metadata": {
    "deletable": false,
    "editable": false,
    "nbgrader": {
     "cell_type": "markdown",
     "checksum": "26c9646d9cd98db84a837eb8e830ebde",
     "grade": false,
     "grade_id": "cell-cb20ec0c340e11c9",
     "locked": true,
     "schema_version": 3,
     "solution": false,
     "task": false
    }
   },
   "source": [
    "Note that we have to add `P` to the last entry of the list because the bond pays the principal at the ending time.\n",
    " \n",
    "Use `price_product` from Question 1.1 and `generate_simple_discount` from Question 1.2 to calculate the price of the bond. Note you answer should equal\n",
    "\n",
    "$$1000 \\cdot \\left(\\frac{1}{1 + 0.09}\\right)^3 + 0.03 \\cdot 1000 \\cdot \\left(\\frac{1}{1 + 0.07}\\right)^1 + 0.03 \\cdot 1000 \\cdot \\left(\\frac{1}{1 + 0.08}\\right)^2 + 0.03 \\cdot 1000 \\cdot \\left(\\frac{1}{1 + 0.09}\\right)^3 $$  "
   ]
  },
  {
   "cell_type": "code",
   "execution_count": 8,
   "metadata": {
    "deletable": false,
    "nbgrader": {
     "cell_type": "code",
     "checksum": "e19ccc97b7b1b0868f2267fe9adc7cc7",
     "grade": false,
     "grade_id": "cell-edfb3298b3ff9cdf",
     "locked": false,
     "schema_version": 3,
     "solution": true,
     "task": false
    }
   },
   "outputs": [],
   "source": [
    "discount_factors1 = generate_simple_discount(r)\n",
    "q1_3 = price_product(C,discount_factors1)\n",
    "\n",
    "# YOUR CODE HERE\n",
    "#raise NotImplementedError()"
   ]
  },
  {
   "cell_type": "code",
   "execution_count": 7,
   "metadata": {
    "deletable": false,
    "editable": false,
    "nbgrader": {
     "cell_type": "code",
     "checksum": "e5d329d557920cb42ac134424ed27afa",
     "grade": true,
     "grade_id": "cell-840c0f67a57d7f3b",
     "locked": true,
     "points": 1,
     "schema_version": 3,
     "solution": false,
     "task": false
    }
   },
   "outputs": [],
   "source": [
    "# TEST \n",
    "\n",
    "\n",
    "assert 750 < q1_3 < 1000\n"
   ]
  },
  {
   "cell_type": "markdown",
   "metadata": {
    "deletable": false,
    "editable": false,
    "nbgrader": {
     "cell_type": "markdown",
     "checksum": "2e70ae9b264fef6e99a70524647b55b7",
     "grade": false,
     "grade_id": "cell-2f28e4f68411a34d",
     "locked": true,
     "schema_version": 3,
     "solution": false,
     "task": false
    }
   },
   "source": [
    "### Question 2 : Class for Schedule and Payment\n",
    "\n",
    "We want a class to store the schedule and payment of a bond."
   ]
  },
  {
   "cell_type": "code",
   "execution_count": 10,
   "metadata": {
    "deletable": false,
    "editable": false,
    "nbgrader": {
     "cell_type": "code",
     "checksum": "6f4678099469945c57fb304efc57b863",
     "grade": false,
     "grade_id": "cell-e274538608cc2849",
     "locked": true,
     "schema_version": 3,
     "solution": false,
     "task": false
    }
   },
   "outputs": [],
   "source": [
    "class Bond(object):\n",
    "    def __init__(self, P, T, c):\n",
    "        self.cash_flows = self.generate_cash_flows(P, T, c)\n",
    "    \n",
    "    def generate_cash_flows(self, P, T, c):\n",
    "        output = T * [c * P]\n",
    "        output[-1] = output[-1] + P\n",
    "        return output"
   ]
  },
  {
   "cell_type": "markdown",
   "metadata": {
    "deletable": false,
    "editable": false,
    "nbgrader": {
     "cell_type": "markdown",
     "checksum": "12659925f458ed75f605051bfea82ca2",
     "grade": false,
     "grade_id": "cell-20d1784527273f6c",
     "locked": true,
     "schema_version": 3,
     "solution": false,
     "task": false
    }
   },
   "source": [
    "Here we have a class called `Bond`. The class has two methods \n",
    "\n",
    "- `__init__` makes an object from the class \n",
    "- `generate_cash_flows` determines the cash-flows\n",
    "\n",
    "Rememeber that cash-flows means the schedule of payments. The function `__init__` calls the function `generate_cash_flows` with the values of the principal `P`, ending time `T` and coupon `c` to determine the payments \n",
    "\n",
    "> `[c * P, c * P,...,c * P, c * P + P]` \n",
    "\n",
    "Here the list has `T` entries.\n",
    "\n",
    "Create an object from the `Bond` class  with \n",
    "\n",
    " - $P = 1000$ dollars\n",
    " - $T = 3$ years \n",
    " - $c = 0.03$ coupon \n",
    "\n",
    "Call the object `bond_object`."
   ]
  },
  {
   "cell_type": "code",
   "execution_count": 16,
   "metadata": {
    "deletable": false,
    "nbgrader": {
     "cell_type": "code",
     "checksum": "229a5ef03048c12e64f3ad1ba13972c3",
     "grade": false,
     "grade_id": "cell-6d341117143a840e",
     "locked": false,
     "schema_version": 3,
     "solution": true,
     "task": false
    }
   },
   "outputs": [],
   "source": [
    "P = 1000\n",
    "T = 3\n",
    "c = 0.03\n",
    "\n",
    "bond_object = Bond(P,T,c)\n",
    "\n",
    "# YOUR CODE HERE\n",
    "#raise NotImplementedError()"
   ]
  },
  {
   "cell_type": "code",
   "execution_count": 17,
   "metadata": {
    "deletable": false,
    "editable": false,
    "nbgrader": {
     "cell_type": "code",
     "checksum": "acb9837cc92aa4f3e62a4aebaca929ea",
     "grade": true,
     "grade_id": "cell-cab182f8645252a7",
     "locked": true,
     "points": 1,
     "schema_version": 3,
     "solution": false,
     "task": false
    }
   },
   "outputs": [],
   "source": [
    "# TEST \n",
    "\n",
    "assert len(bond_object.cash_flows) == 3\n"
   ]
  },
  {
   "cell_type": "markdown",
   "metadata": {
    "deletable": false,
    "editable": false,
    "nbgrader": {
     "cell_type": "markdown",
     "checksum": "a493f471f077f784fe455b7c31de79ef",
     "grade": false,
     "grade_id": "cell-12231c746aa626d0",
     "locked": true,
     "schema_version": 3,
     "solution": false,
     "task": false
    }
   },
   "source": [
    "### Question 3 : Class for Discount\n",
    "\n",
    "We would have to use market conditions to determine discount factors. Practitioners tend to use discount factors determined from government bonds like US Treasury bonds with ending time 1 year, 5 year or 10 year.\n",
    "\n",
    "<img src=\"image_2.png\">\n",
    "\n",
    "Since we have a class to store the schedule and payment of the bond, we need a class to determine the discount factors. "
   ]
  },
  {
   "cell_type": "code",
   "execution_count": 19,
   "metadata": {
    "deletable": false,
    "editable": false,
    "nbgrader": {
     "cell_type": "code",
     "checksum": "7d3acca50c92752c7f758f06147269ab",
     "grade": false,
     "grade_id": "cell-6447d069d6faca66",
     "locked": true,
     "schema_version": 3,
     "solution": false,
     "task": false
    }
   },
   "outputs": [],
   "source": [
    "class Discounter(object):\n",
    "    def __init__(self, rates):\n",
    "        self.rates = rates \n",
    "        \n",
    "    def get_discount_factors(self):\n",
    "        raise(NotImplementedError)"
   ]
  },
  {
   "cell_type": "markdown",
   "metadata": {
    "deletable": false,
    "editable": false,
    "nbgrader": {
     "cell_type": "markdown",
     "checksum": "9145cb96f4cebbc210a38378d0428aef",
     "grade": false,
     "grade_id": "cell-411d7dc421f511b5",
     "locked": true,
     "schema_version": 3,
     "solution": false,
     "task": false
    }
   },
   "source": [
    "Here we have a class called `Discounter`. The class has two methods \n",
    "\n",
    "- `__init__` makes an object from the class \n",
    "- `get_discount_factors` does not have an implementation\n",
    "\n",
    "We can determine the discount factors from the rates. However, we need to specify simple discounting or continuous discounting. We can use a child class to implement `get_discount_factors`."
   ]
  },
  {
   "cell_type": "code",
   "execution_count": 20,
   "metadata": {
    "deletable": false,
    "editable": false,
    "nbgrader": {
     "cell_type": "code",
     "checksum": "69e28ab0d2b1bf2c65acfd328c3a9d77",
     "grade": false,
     "grade_id": "cell-06e72f126cfc28c3",
     "locked": true,
     "schema_version": 3,
     "solution": false,
     "task": false
    }
   },
   "outputs": [],
   "source": [
    "class DiscounterContinuous(Discounter):\n",
    "    def __init__(self, rates):\n",
    "         super().__init__(rates)\n",
    "        \n",
    "    def get_discount_factors(self):        \n",
    "        constant = 2.7182\n",
    "        \n",
    "        discount_factors = []\n",
    "        for i,r in enumerate(self.rates): \n",
    "            discount_factors.append(constant**(-r * (i+1)))\n",
    "        \n",
    "        return discount_factors"
   ]
  },
  {
   "cell_type": "markdown",
   "metadata": {
    "deletable": false,
    "editable": false,
    "nbgrader": {
     "cell_type": "markdown",
     "checksum": "0d4b676234d360f49aa79d4c620a98b0",
     "grade": false,
     "grade_id": "cell-3b3b35f15a4a5315",
     "locked": true,
     "schema_version": 3,
     "solution": false,
     "task": false
    }
   },
   "source": [
    "Here we have a class called `DiscounterContinuous`. The class has two methods \n",
    "\n",
    "- `__init__` makes an object from the class by passing `rates` to the parent class \n",
    "- `get_discount_factors` determines discount factors from `rates`\n",
    "\n",
    "Use `generate_simple_discount` from Question 1.2 to complete the code for a class `DiscounterSimple`."
   ]
  },
  {
   "cell_type": "code",
   "execution_count": 27,
   "metadata": {
    "deletable": false,
    "nbgrader": {
     "cell_type": "code",
     "checksum": "7ca70065e9ae662060ea2c73c7121ba9",
     "grade": false,
     "grade_id": "cell-08f7c5b916ea3087",
     "locked": false,
     "schema_version": 3,
     "solution": true,
     "task": false
    }
   },
   "outputs": [],
   "source": [
    "class DiscounterSimple(Discounter):\n",
    "    def __init__(self, rates):\n",
    "         super().__init__(rates)\n",
    "        \n",
    "    def get_discount_factors(self):            \n",
    "        discount_factors = generate_simple_discount(r)\n",
    "        \n",
    "        # YOUR CODE HERE\n",
    "        #raise NotImplementedError()\n",
    "        \n",
    "        return discount_factors"
   ]
  },
  {
   "cell_type": "code",
   "execution_count": 28,
   "metadata": {
    "deletable": false,
    "editable": false,
    "nbgrader": {
     "cell_type": "code",
     "checksum": "8f81c7dc83c106c7291b99e2b027dd70",
     "grade": true,
     "grade_id": "cell-a0f2e989ff993b2f",
     "locked": true,
     "points": 1,
     "schema_version": 3,
     "solution": false,
     "task": false
    }
   },
   "outputs": [],
   "source": [
    "# TEST \n",
    "\n",
    "r = [0.04, 0.05, 0.06]\n",
    "discounter_simple_object = DiscounterSimple(r)\n",
    "discount_factors = discounter_simple_object.get_discount_factors()\n",
    "\n",
    "assert abs(discount_factors[0] - 0.96) < 1\n"
   ]
  },
  {
   "cell_type": "markdown",
   "metadata": {
    "deletable": false,
    "editable": false,
    "nbgrader": {
     "cell_type": "markdown",
     "checksum": "bd5071db93efa43f4533664ceb3650a8",
     "grade": false,
     "grade_id": "cell-d45515f688c8c5fe",
     "locked": true,
     "schema_version": 3,
     "solution": false,
     "task": false
    }
   },
   "source": [
    "### Question 4 : Class for Pricing Products\n",
    "\n",
    "We want to have a class that prices bonds. However, we want to make the class useful for calculating the price of financial products that resemble bonds. \n",
    "\n",
    "Remember that the schedule and payments in the contract for the bond determine the cash-flows. We want the class that prices bonds to handle any financial product with cash-flows. "
   ]
  },
  {
   "cell_type": "code",
   "execution_count": 29,
   "metadata": {
    "deletable": false,
    "editable": false,
    "nbgrader": {
     "cell_type": "code",
     "checksum": "a2f03a14f66ce3f332021dfa5afeb457",
     "grade": false,
     "grade_id": "cell-2d0c7494bc254c73",
     "locked": true,
     "schema_version": 3,
     "solution": false,
     "task": false
    }
   },
   "outputs": [],
   "source": [
    "class Pricer(object):\n",
    "    def __init__(self, Discounter):\n",
    "        self.discounts = Discounter\n",
    "        \n",
    "    def price(self, Product):\n",
    "        cash_flows = Product.get_cash_flows() \n",
    "        discount_factors = self.discounts.get_discount_factors()\n",
    "\n",
    "        return price_product(cash_flows, discount_factors)"
   ]
  },
  {
   "cell_type": "markdown",
   "metadata": {
    "deletable": false,
    "editable": false,
    "nbgrader": {
     "cell_type": "markdown",
     "checksum": "be4d981c7f14c435ddca3e1ee9501ead",
     "grade": false,
     "grade_id": "cell-60974e11e410d6a8",
     "locked": true,
     "schema_version": 3,
     "solution": false,
     "task": false
    }
   },
   "source": [
    "Here we have a class called `Pricer`. The class has two methods \n",
    "\n",
    "- `__init__` makes an object from the class \n",
    "- `price` determines the price of a `Product` object\n",
    "\n",
    "Since we need discount factors to determine the price of the financial product from the cash-flows, we need to use the `Discounter` class. If we make an object of the `Pricer` class, then we need to pass an object from the `Discounter` class to `__init__`. \n",
    "\n",
    "Note that we pass an object from the `Product` class to `price`. We need to obtain the cash-flows from the object. With the cash-flows and discount factors, we can compute the price of the financial product with `price_product` function from Question 1.1."
   ]
  },
  {
   "cell_type": "markdown",
   "metadata": {
    "deletable": false,
    "editable": false,
    "nbgrader": {
     "cell_type": "markdown",
     "checksum": "b213991d40de4ffb184bfcca7623b214",
     "grade": false,
     "grade_id": "cell-d2f34d2a080a7f47",
     "locked": true,
     "schema_version": 3,
     "solution": false,
     "task": false
    }
   },
   "source": [
    "### Question 5 : Class for Pricing Bonds\n",
    "\n",
    "We want to modify the `Bond` class from Question 2. We will have the `Bond` class inherit from a `Product` class. We should be able to price any object in the `Product` class. So we need to have a `get_cash_flows` from Question 4."
   ]
  },
  {
   "cell_type": "code",
   "execution_count": 30,
   "metadata": {
    "deletable": false,
    "editable": false,
    "nbgrader": {
     "cell_type": "code",
     "checksum": "e23ecb2a66d7e6c80607c5f000fc2542",
     "grade": false,
     "grade_id": "cell-08d31166e4878efa",
     "locked": true,
     "schema_version": 3,
     "solution": false,
     "task": false
    }
   },
   "outputs": [],
   "source": [
    "class Product(object):\n",
    "    def __init__(self):\n",
    "        self.cash_flows = []\n",
    "        \n",
    "    def get_cash_flows(self):\n",
    "        return self.cash_flows\n",
    "        \n",
    "    def generate_price(self, Pricer):\n",
    "        return Pricer.price(self)\n",
    "\n",
    "class Bond(Product):\n",
    "    def __init__(self, P, T, c):\n",
    "        super().__init__()\n",
    "        self.cash_flows = self.generate_cash_flows(P, T, c)\n",
    "        \n",
    "    def generate_cash_flows(self, P, T, c):\n",
    "        output = T * [c * P]\n",
    "        output[-1] = output[-1] + P\n",
    "        return output        "
   ]
  },
  {
   "cell_type": "markdown",
   "metadata": {
    "deletable": false,
    "editable": false,
    "nbgrader": {
     "cell_type": "markdown",
     "checksum": "700c51e73f75b205d8619b1cce303b32",
     "grade": false,
     "grade_id": "cell-7ba95ccdbd1261e0",
     "locked": true,
     "schema_version": 3,
     "solution": false,
     "task": false
    }
   },
   "source": [
    "Here we have a class called `Product`. The class has three methods \n",
    "\n",
    "- `__init__` makes an object from the class\n",
    "- `get_cash_flows` accesses the list `cash_flows` stored in the object\n",
    "- `generate_price` determines price with the help of an object from the `Pricer` class\n",
    "\n",
    "The class `Product` is the parent class to the child class `Bond`. We have not changed the code for the child class `Bond` from Question 2 with the exception of calling `__init__` from the parent class `Product` to make an object. \n",
    "\n",
    "We can visualize the connections between classes with a diagram. See Instructional Video Module 2 for more information about the diagram. "
   ]
  },
  {
   "cell_type": "markdown",
   "metadata": {
    "deletable": false,
    "editable": false,
    "nbgrader": {
     "cell_type": "markdown",
     "checksum": "6f168da37e236c7db6d10cc0460b3357",
     "grade": false,
     "grade_id": "cell-1e2564e146a03ba7",
     "locked": true,
     "schema_version": 3,
     "solution": false,
     "task": false
    }
   },
   "source": [
    "<img src=\"image_1.PNG\">"
   ]
  },
  {
   "cell_type": "markdown",
   "metadata": {
    "deletable": false,
    "editable": false,
    "nbgrader": {
     "cell_type": "markdown",
     "checksum": "79f9e7cd4750796dfb72cd4230d2c9ce",
     "grade": false,
     "grade_id": "cell-f676926324c7072b",
     "locked": true,
     "schema_version": 3,
     "solution": false,
     "task": false
    }
   },
   "source": [
    "We want to determine the price of an object from the `Bond` class with \n",
    " \n",
    " - $P = 100$ dollars\n",
    " - $T = 3$ years \n",
    " - $c = 0.05$ coupon \n",
    " - $r_1 = 0.04$, $r_2 = 0.05$, $r_3 = 0.06$ rates\n",
    "\n",
    "We will create an object from the `Pricer` class and an object from the `Bond` class to determine the prices.\n",
    "\n",
    "#### Question 5.1 \n",
    "\n",
    "Create an object  from the `DiscounterSimple` class with \n",
    "\n",
    " - $r_1 = 0.04$, $r_2 = 0.05$, $r_3 = 0.06$ rates\n",
    "\n",
    "Call the object `discounter_object`."
   ]
  },
  {
   "cell_type": "code",
   "execution_count": 31,
   "metadata": {
    "deletable": false,
    "nbgrader": {
     "cell_type": "code",
     "checksum": "feedbfb97f62383a430706d891ffd9da",
     "grade": false,
     "grade_id": "cell-ea0a5dd857526ab3",
     "locked": false,
     "schema_version": 3,
     "solution": true,
     "task": false
    }
   },
   "outputs": [],
   "source": [
    "r = [0.04, 0.05, 0.06]\n",
    "\n",
    "discounter_object = DiscounterSimple(r)\n",
    "\n",
    "# YOUR CODE HERE\n",
    "#raise NotImplementedError()"
   ]
  },
  {
   "cell_type": "code",
   "execution_count": 32,
   "metadata": {
    "deletable": false,
    "editable": false,
    "nbgrader": {
     "cell_type": "code",
     "checksum": "282e77d71b40e47cd688609a8495ad15",
     "grade": true,
     "grade_id": "cell-f0a7f3f99fa2e118",
     "locked": true,
     "points": 1,
     "schema_version": 3,
     "solution": false,
     "task": false
    }
   },
   "outputs": [],
   "source": [
    "# TEST \n",
    "\n",
    "assert discounter_object.rates == r"
   ]
  },
  {
   "cell_type": "markdown",
   "metadata": {
    "deletable": false,
    "editable": false,
    "nbgrader": {
     "cell_type": "markdown",
     "checksum": "0f24ae59835e446c58b7e79d8d5c61b5",
     "grade": false,
     "grade_id": "cell-3ea4607345bef06a",
     "locked": true,
     "schema_version": 3,
     "solution": false,
     "task": false
    }
   },
   "source": [
    "#### Question 5.2 \n",
    "\n",
    "Create an object  from the `Pricer` class with `discounter_object`. Call the object `pricer_object`."
   ]
  },
  {
   "cell_type": "code",
   "execution_count": 33,
   "metadata": {
    "deletable": false,
    "nbgrader": {
     "cell_type": "code",
     "checksum": "6c82e6f6dfc40098a056a923e71c7a96",
     "grade": false,
     "grade_id": "cell-e10fd7818db33b12",
     "locked": false,
     "schema_version": 3,
     "solution": true,
     "task": false
    }
   },
   "outputs": [],
   "source": [
    "pricer_object = Pricer(discounter_object)\n",
    "\n",
    "# YOUR CODE HERE\n",
    "#raise NotImplementedError()"
   ]
  },
  {
   "cell_type": "code",
   "execution_count": 34,
   "metadata": {
    "deletable": false,
    "editable": false,
    "nbgrader": {
     "cell_type": "code",
     "checksum": "ab73ee5e4dea29bb7931cd6a5a1de0fb",
     "grade": true,
     "grade_id": "cell-7b5e1636bb496526",
     "locked": true,
     "points": 1,
     "schema_version": 3,
     "solution": false,
     "task": false
    }
   },
   "outputs": [],
   "source": [
    "# TEST \n",
    "\n",
    "assert pricer_object.discounts == discounter_object"
   ]
  },
  {
   "cell_type": "markdown",
   "metadata": {
    "deletable": false,
    "editable": false,
    "nbgrader": {
     "cell_type": "markdown",
     "checksum": "6875bb45414779c1c4ea6cdcc6d8e038",
     "grade": false,
     "grade_id": "cell-18c4f3a676d00911",
     "locked": true,
     "schema_version": 3,
     "solution": false,
     "task": false
    }
   },
   "source": [
    "#### Question 5.3\n",
    "\n",
    "Create an object from the `Bond` class with \n",
    "\n",
    " - $P = 100$ dollars\n",
    " - $T = 3$ years \n",
    " - $c = 0.05$ coupon \n",
    "\n",
    "Call the object `bond_object`."
   ]
  },
  {
   "cell_type": "code",
   "execution_count": 39,
   "metadata": {
    "deletable": false,
    "nbgrader": {
     "cell_type": "code",
     "checksum": "d38e1e9f103683dad8a9abe00e04b16c",
     "grade": false,
     "grade_id": "cell-1877b77278ddd8eb",
     "locked": false,
     "schema_version": 3,
     "solution": true,
     "task": false
    }
   },
   "outputs": [],
   "source": [
    "P = 100 \n",
    "T = 3\n",
    "c = 0.05\n",
    "\n",
    "bond_object = Bond(P,T,c)\n",
    "\n",
    "# YOUR CODE HERE\n",
    "#raise NotImplementedError()"
   ]
  },
  {
   "cell_type": "markdown",
   "metadata": {
    "deletable": false,
    "editable": false,
    "nbgrader": {
     "cell_type": "markdown",
     "checksum": "6afa6cd7ce0d2fe8261c44063247db68",
     "grade": false,
     "grade_id": "cell-31b4acf96f6be933",
     "locked": true,
     "schema_version": 3,
     "solution": false,
     "task": false
    }
   },
   "source": [
    "Now we can generate the price."
   ]
  },
  {
   "cell_type": "code",
   "execution_count": 37,
   "metadata": {
    "deletable": false,
    "editable": false,
    "nbgrader": {
     "cell_type": "code",
     "checksum": "5813cba64472691d1438d6791fd91b39",
     "grade": false,
     "grade_id": "cell-0a3d886aef91953e",
     "locked": true,
     "schema_version": 3,
     "solution": false,
     "task": false
    }
   },
   "outputs": [],
   "source": [
    "price = bond_object.generate_price(pricer_object)"
   ]
  },
  {
   "cell_type": "code",
   "execution_count": null,
   "metadata": {
    "deletable": false,
    "editable": false,
    "nbgrader": {
     "cell_type": "code",
     "checksum": "cae84237560d4bf8ef5c325567771d5f",
     "grade": true,
     "grade_id": "cell-6896ae0809e40b81",
     "locked": true,
     "points": 1,
     "schema_version": 3,
     "solution": false,
     "task": false
    }
   },
   "outputs": [],
   "source": [
    "# TEST \n",
    "\n",
    "assert 90 < price < 100\n"
   ]
  }
 ],
 "metadata": {
  "kernelspec": {
   "display_name": "Python [conda env:grade-environment]",
   "language": "python",
   "name": "conda-env-grade-environment-py"
  },
  "language_info": {
   "codemirror_mode": {
    "name": "ipython",
    "version": 3
   },
   "file_extension": ".py",
   "mimetype": "text/x-python",
   "name": "python",
   "nbconvert_exporter": "python",
   "pygments_lexer": "ipython3",
   "version": "3.7.7"
  }
 },
 "nbformat": 4,
 "nbformat_minor": 4
}
