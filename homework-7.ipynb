{
 "cells": [
  {
   "cell_type": "markdown",
   "metadata": {
    "deletable": false,
    "editable": false,
    "nbgrader": {
     "cell_type": "markdown",
     "checksum": "db78a538890f4237e305cdd18b5b5245",
     "grade": false,
     "grade_id": "cell-277ac1db5743b98f",
     "locked": true,
     "schema_version": 3,
     "solution": false,
     "task": false
    }
   },
   "source": [
    "Homework 7 : Web Scraping\n",
    "\n",
    "\n",
    "In this assignment, we will get practice with gathering data from the internet. We will focus on data about sport statistics.\n",
    "  \n",
    "The questions guide you step-by-step through these approaches. Please post to Slack with any questions. \n"
   ]
  },
  {
   "cell_type": "markdown",
   "metadata": {
    "deletable": false,
    "editable": false,
    "nbgrader": {
     "cell_type": "markdown",
     "checksum": "63d5a6031ce1ade0a067bea9c3081eb5",
     "grade": false,
     "grade_id": "cell-24715915b4286eed",
     "locked": true,
     "schema_version": 3,
     "solution": false,
     "task": false
    }
   },
   "source": [
    "### Rubric\n",
    "\n",
    "Question | Points\n",
    "--- | ---\n",
    "Question 0 | 0\n",
    "Question 1 | 1\n",
    "Question 2.1 | 1\n",
    "Question 2.2 | 1\n",
    "Question 3.1 | 1\n",
    "Question 3.2 | 1\n",
    "Question 3.3 | 1\n",
    "Question 4.1 | 1\n",
    "Question 4.2 | 0\n",
    "Total | 7"
   ]
  },
  {
   "cell_type": "markdown",
   "metadata": {
    "deletable": false,
    "editable": false,
    "nbgrader": {
     "cell_type": "markdown",
     "checksum": "3e4f833cb76d8dc0a23ea63ed3c6a3fd",
     "grade": false,
     "grade_id": "cell-26dc835ea069fd85",
     "locked": true,
     "schema_version": 3,
     "solution": false,
     "task": false
    }
   },
   "source": [
    "We can access vast amounts of data on the internet. We want to learn about web-scraping which is the process of gathering data from the internet through a program. We will study sports statistics on Wikipedia:\n",
    "\n",
    "> https://en.wikipedia.org/wiki/1500_metres_world_record_progression\n",
    "\n",
    "You can visit the page to scroll around the tables. We want to extract information from one of the tables to generate a chart of world records for women's 1500 meter race.\n",
    "\n",
    "### 0. Load the Data\n",
    "\n",
    "We will take three approaches to accessing the website. Along the way we will need three packages for web frameworks\n",
    "\n",
    "-  `requests` package for sending requests and receiving responses\n",
    "- `bs4` for parsing HTML\n",
    "-  `lxml` for parsing HTML with XPath\n",
    "\n",
    "Here we will focus on parsing data in the HTML format which is a common format for storing data on the internet."
   ]
  },
  {
   "cell_type": "code",
   "execution_count": 1,
   "metadata": {
    "deletable": false,
    "editable": false,
    "nbgrader": {
     "cell_type": "code",
     "checksum": "12cfcba31cc302e4b92aa82919eacd27",
     "grade": false,
     "grade_id": "cell-78ed536253c2de08",
     "locked": true,
     "schema_version": 3,
     "solution": false,
     "task": false
    }
   },
   "outputs": [],
   "source": [
    "# import some packages\n",
    "\n",
    "import numpy as np\n",
    "import pandas as pd\n",
    "\n",
    "import matplotlib.pyplot as plt\n",
    "\n",
    "import requests\n",
    "import lxml \n",
    "from bs4 import BeautifulSoup\n",
    "\n",
    "# change some settings\n",
    "\n",
    "from pandas.plotting import register_matplotlib_converters\n",
    "register_matplotlib_converters()\n",
    "\n",
    "pd.set_option('display.max_rows', 10)\n",
    "pd.set_option('display.max_columns', 8)\n",
    "plt.rcParams['figure.figsize'] = (10,8)"
   ]
  },
  {
   "cell_type": "code",
   "execution_count": 2,
   "metadata": {
    "deletable": false,
    "editable": false,
    "nbgrader": {
     "cell_type": "code",
     "checksum": "7970434dda1f5a7211b97f89200a9284",
     "grade": true,
     "grade_id": "cell-53b2ad9d7e4759d1",
     "locked": true,
     "points": 0,
     "schema_version": 3,
     "solution": false,
     "task": false
    }
   },
   "outputs": [],
   "source": [
    "# TEST\n",
    "\n",
    "import sys\n",
    "\n",
    "assert \"numpy\" in sys.modules and \"np\" in locals()\n",
    "assert \"pandas\" in sys.modules and \"pd\" in locals()\n",
    "assert \"matplotlib\" in sys.modules and \"plt\" in locals()\n",
    "assert \"lxml\" in sys.modules and \"requests\" in sys.modules\n",
    "assert \"bs4\" in sys.modules and \"BeautifulSoup\" in locals()"
   ]
  },
  {
   "cell_type": "markdown",
   "metadata": {
    "deletable": false,
    "editable": false,
    "nbgrader": {
     "cell_type": "markdown",
     "checksum": "73bc33a2ccb7c076634b034cfd154ea3",
     "grade": false,
     "grade_id": "cell-aefeff473c99a159",
     "locked": true,
     "schema_version": 3,
     "solution": false,
     "task": false
    }
   },
   "source": [
    "We should understand the support in the `pandas` package for HTML format. "
   ]
  },
  {
   "cell_type": "code",
   "execution_count": 3,
   "metadata": {
    "deletable": false,
    "editable": false,
    "nbgrader": {
     "cell_type": "code",
     "checksum": "4fe7ca8b6fdd2fea89c79356df5c4a7a",
     "grade": false,
     "grade_id": "cell-b504384840ef99c4",
     "locked": true,
     "schema_version": 3,
     "solution": false,
     "task": false
    }
   },
   "outputs": [],
   "source": [
    "url = \"https://en.wikipedia.org/wiki/1500_metres_world_record_progression\""
   ]
  },
  {
   "cell_type": "markdown",
   "metadata": {
    "deletable": false,
    "editable": false,
    "nbgrader": {
     "cell_type": "markdown",
     "checksum": "d60f0cc81de3889fe5959feb9a5bb7a0",
     "grade": false,
     "grade_id": "cell-43dfb68d934712a0",
     "locked": true,
     "schema_version": 3,
     "solution": false,
     "task": false
    }
   },
   "source": [
    "We can us the function `read_html` which returns a list of tables on the website. "
   ]
  },
  {
   "cell_type": "code",
   "execution_count": 4,
   "metadata": {
    "deletable": false,
    "editable": false,
    "nbgrader": {
     "cell_type": "code",
     "checksum": "63f5e20aede8712771b9eb4762ef4823",
     "grade": false,
     "grade_id": "cell-000da09e0cb89ed3",
     "locked": true,
     "schema_version": 3,
     "solution": false,
     "task": false
    }
   },
   "outputs": [
    {
     "data": {
      "text/plain": [
       "6"
      ]
     },
     "execution_count": 4,
     "metadata": {},
     "output_type": "execute_result"
    }
   ],
   "source": [
    "tables = pd.read_html(url)\n",
    "len(tables)"
   ]
  },
  {
   "cell_type": "markdown",
   "metadata": {
    "deletable": false,
    "editable": false,
    "nbgrader": {
     "cell_type": "markdown",
     "checksum": "68814c829ef965d8b42a136d8462020e",
     "grade": false,
     "grade_id": "cell-fceea7eede4e1bee",
     "locked": true,
     "schema_version": 3,
     "solution": false,
     "task": false
    }
   },
   "source": [
    "We have found six tables. Each table on the website becomes a DataFrame."
   ]
  },
  {
   "cell_type": "code",
   "execution_count": 5,
   "metadata": {
    "deletable": false,
    "editable": false,
    "nbgrader": {
     "cell_type": "code",
     "checksum": "62e075f0c349d2ce46f2ccdc197bfc7a",
     "grade": false,
     "grade_id": "cell-9fed48f129b3c11a",
     "locked": true,
     "schema_version": 3,
     "solution": false,
     "task": false
    }
   },
   "outputs": [
    {
     "data": {
      "text/html": [
       "<div>\n",
       "<style scoped>\n",
       "    .dataframe tbody tr th:only-of-type {\n",
       "        vertical-align: middle;\n",
       "    }\n",
       "\n",
       "    .dataframe tbody tr th {\n",
       "        vertical-align: top;\n",
       "    }\n",
       "\n",
       "    .dataframe thead th {\n",
       "        text-align: right;\n",
       "    }\n",
       "</style>\n",
       "<table border=\"1\" class=\"dataframe\">\n",
       "  <thead>\n",
       "    <tr style=\"text-align: right;\">\n",
       "      <th></th>\n",
       "      <th>Time</th>\n",
       "      <th>Athlete</th>\n",
       "      <th>Date</th>\n",
       "      <th>Place</th>\n",
       "    </tr>\n",
       "  </thead>\n",
       "  <tbody>\n",
       "    <tr>\n",
       "      <th>0</th>\n",
       "      <td>.mw-parser-output .sfrac{white-space:nowrap}.m...</td>\n",
       "      <td>J. Borel (FRA)</td>\n",
       "      <td>1892</td>\n",
       "      <td>NaN</td>\n",
       "    </tr>\n",
       "    <tr>\n",
       "      <th>1</th>\n",
       "      <td>4:21</td>\n",
       "      <td>Fernand Meiers (FRA)</td>\n",
       "      <td>1893-05-28</td>\n",
       "      <td>Paris, France</td>\n",
       "    </tr>\n",
       "  </tbody>\n",
       "</table>\n",
       "</div>"
      ],
      "text/plain": [
       "                                                Time               Athlete  \\\n",
       "0  .mw-parser-output .sfrac{white-space:nowrap}.m...        J. Borel (FRA)   \n",
       "1                                               4:21  Fernand Meiers (FRA)   \n",
       "\n",
       "         Date          Place  \n",
       "0        1892            NaN  \n",
       "1  1893-05-28  Paris, France  "
      ]
     },
     "metadata": {},
     "output_type": "display_data"
    },
    {
     "data": {
      "text/html": [
       "<div>\n",
       "<style scoped>\n",
       "    .dataframe tbody tr th:only-of-type {\n",
       "        vertical-align: middle;\n",
       "    }\n",
       "\n",
       "    .dataframe tbody tr th {\n",
       "        vertical-align: top;\n",
       "    }\n",
       "\n",
       "    .dataframe thead th {\n",
       "        text-align: right;\n",
       "    }\n",
       "</style>\n",
       "<table border=\"1\" class=\"dataframe\">\n",
       "  <thead>\n",
       "    <tr style=\"text-align: right;\">\n",
       "      <th></th>\n",
       "      <th>Time</th>\n",
       "      <th>Auto</th>\n",
       "      <th>Athlete</th>\n",
       "      <th>Date</th>\n",
       "      <th>Place</th>\n",
       "    </tr>\n",
       "  </thead>\n",
       "  <tbody>\n",
       "    <tr>\n",
       "      <th>0</th>\n",
       "      <td>3:55.8</td>\n",
       "      <td>NaN</td>\n",
       "      <td>Abel Kiviat (USA)</td>\n",
       "      <td>1912-06-08</td>\n",
       "      <td>Cambridge, Massachusetts, United States</td>\n",
       "    </tr>\n",
       "    <tr>\n",
       "      <th>1</th>\n",
       "      <td>3:54.7</td>\n",
       "      <td>NaN</td>\n",
       "      <td>John Zander (SWE)</td>\n",
       "      <td>1917-08-05</td>\n",
       "      <td>Stockholm, Sweden</td>\n",
       "    </tr>\n",
       "  </tbody>\n",
       "</table>\n",
       "</div>"
      ],
      "text/plain": [
       "     Time Auto            Athlete        Date  \\\n",
       "0  3:55.8  NaN  Abel Kiviat (USA)  1912-06-08   \n",
       "1  3:54.7  NaN  John Zander (SWE)  1917-08-05   \n",
       "\n",
       "                                     Place  \n",
       "0  Cambridge, Massachusetts, United States  \n",
       "1                        Stockholm, Sweden  "
      ]
     },
     "metadata": {},
     "output_type": "display_data"
    },
    {
     "data": {
      "text/html": [
       "<div>\n",
       "<style scoped>\n",
       "    .dataframe tbody tr th:only-of-type {\n",
       "        vertical-align: middle;\n",
       "    }\n",
       "\n",
       "    .dataframe tbody tr th {\n",
       "        vertical-align: top;\n",
       "    }\n",
       "\n",
       "    .dataframe thead th {\n",
       "        text-align: right;\n",
       "    }\n",
       "</style>\n",
       "<table border=\"1\" class=\"dataframe\">\n",
       "  <thead>\n",
       "    <tr style=\"text-align: right;\">\n",
       "      <th></th>\n",
       "      <th>Time</th>\n",
       "      <th>Athlete</th>\n",
       "      <th>Date</th>\n",
       "      <th>Place</th>\n",
       "    </tr>\n",
       "  </thead>\n",
       "  <tbody>\n",
       "    <tr>\n",
       "      <th>0</th>\n",
       "      <td>5:18.2</td>\n",
       "      <td>Anna Mushkina (URS)</td>\n",
       "      <td>1927-08-19</td>\n",
       "      <td>Moscow, Soviet Union</td>\n",
       "    </tr>\n",
       "    <tr>\n",
       "      <th>1</th>\n",
       "      <td>5:07.0</td>\n",
       "      <td>Anna Mushkina (URS)</td>\n",
       "      <td>1934-09-16</td>\n",
       "      <td>Alma-Ata, Soviet Union</td>\n",
       "    </tr>\n",
       "  </tbody>\n",
       "</table>\n",
       "</div>"
      ],
      "text/plain": [
       "     Time              Athlete        Date                   Place\n",
       "0  5:18.2  Anna Mushkina (URS)  1927-08-19    Moscow, Soviet Union\n",
       "1  5:07.0  Anna Mushkina (URS)  1934-09-16  Alma-Ata, Soviet Union"
      ]
     },
     "metadata": {},
     "output_type": "display_data"
    },
    {
     "data": {
      "text/html": [
       "<div>\n",
       "<style scoped>\n",
       "    .dataframe tbody tr th:only-of-type {\n",
       "        vertical-align: middle;\n",
       "    }\n",
       "\n",
       "    .dataframe tbody tr th {\n",
       "        vertical-align: top;\n",
       "    }\n",
       "\n",
       "    .dataframe thead th {\n",
       "        text-align: right;\n",
       "    }\n",
       "</style>\n",
       "<table border=\"1\" class=\"dataframe\">\n",
       "  <thead>\n",
       "    <tr style=\"text-align: right;\">\n",
       "      <th></th>\n",
       "      <th>Time</th>\n",
       "      <th>Auto</th>\n",
       "      <th>Athlete</th>\n",
       "      <th>Date</th>\n",
       "      <th>Place</th>\n",
       "    </tr>\n",
       "  </thead>\n",
       "  <tbody>\n",
       "    <tr>\n",
       "      <th>0</th>\n",
       "      <td>4:17.3+</td>\n",
       "      <td>NaN</td>\n",
       "      <td>Anne Smith (GBR)</td>\n",
       "      <td>1967-06-03</td>\n",
       "      <td>Chiswick, Great Britain</td>\n",
       "    </tr>\n",
       "    <tr>\n",
       "      <th>1</th>\n",
       "      <td>4:15.6</td>\n",
       "      <td>NaN</td>\n",
       "      <td>Maria Gommers (NED)</td>\n",
       "      <td>1967-10-24</td>\n",
       "      <td>Sittard, Netherlands</td>\n",
       "    </tr>\n",
       "  </tbody>\n",
       "</table>\n",
       "</div>"
      ],
      "text/plain": [
       "      Time Auto              Athlete        Date                    Place\n",
       "0  4:17.3+  NaN     Anne Smith (GBR)  1967-06-03  Chiswick, Great Britain\n",
       "1   4:15.6  NaN  Maria Gommers (NED)  1967-10-24     Sittard, Netherlands"
      ]
     },
     "metadata": {},
     "output_type": "display_data"
    },
    {
     "data": {
      "text/html": [
       "<div>\n",
       "<style scoped>\n",
       "    .dataframe tbody tr th:only-of-type {\n",
       "        vertical-align: middle;\n",
       "    }\n",
       "\n",
       "    .dataframe tbody tr th {\n",
       "        vertical-align: top;\n",
       "    }\n",
       "\n",
       "    .dataframe thead th {\n",
       "        text-align: right;\n",
       "    }\n",
       "</style>\n",
       "<table border=\"1\" class=\"dataframe\">\n",
       "  <thead>\n",
       "    <tr style=\"text-align: right;\">\n",
       "      <th></th>\n",
       "      <th>.mw-parser-output .navbar{display:inline;font-size:88%;font-weight:normal}.mw-parser-output .navbar-collapse{float:left;text-align:left}.mw-parser-output .navbar-boxtext{word-spacing:0}.mw-parser-output .navbar ul{display:inline-block;white-space:nowrap;line-height:inherit}.mw-parser-output .navbar-brackets::before{margin-right:-0.125em;content:\"[ \"}.mw-parser-output .navbar-brackets::after{margin-left:-0.125em;content:\" ]\"}.mw-parser-output .navbar li{word-spacing:-0.125em}.mw-parser-output .navbar a&gt;span,.mw-parser-output .navbar a&gt;abbr{text-decoration:inherit}.mw-parser-output .navbar-mini abbr{font-variant:small-caps;border-bottom:none;text-decoration:none;cursor:inherit}.mw-parser-output .navbar-ct-full{font-size:114%;margin:0 7em}.mw-parser-output .navbar-ct-mini{font-size:114%;margin:0 4em}vteIndex of athletics record progressions</th>\n",
       "      <th>.mw-parser-output .navbar{display:inline;font-size:88%;font-weight:normal}.mw-parser-output .navbar-collapse{float:left;text-align:left}.mw-parser-output .navbar-boxtext{word-spacing:0}.mw-parser-output .navbar ul{display:inline-block;white-space:nowrap;line-height:inherit}.mw-parser-output .navbar-brackets::before{margin-right:-0.125em;content:\"[ \"}.mw-parser-output .navbar-brackets::after{margin-left:-0.125em;content:\" ]\"}.mw-parser-output .navbar li{word-spacing:-0.125em}.mw-parser-output .navbar a&gt;span,.mw-parser-output .navbar a&gt;abbr{text-decoration:inherit}.mw-parser-output .navbar-mini abbr{font-variant:small-caps;border-bottom:none;text-decoration:none;cursor:inherit}.mw-parser-output .navbar-ct-full{font-size:114%;margin:0 7em}.mw-parser-output .navbar-ct-mini{font-size:114%;margin:0 4em}vteIndex of athletics record progressions.1</th>\n",
       "    </tr>\n",
       "  </thead>\n",
       "  <tbody>\n",
       "    <tr>\n",
       "      <th>0</th>\n",
       "      <td>World</td>\n",
       "      <td>Sprinting 50 metres 60 metres men women 100 me...</td>\n",
       "    </tr>\n",
       "    <tr>\n",
       "      <th>1</th>\n",
       "      <td>Sprinting</td>\n",
       "      <td>50 metres 60 metres men women 100 metres men w...</td>\n",
       "    </tr>\n",
       "  </tbody>\n",
       "</table>\n",
       "</div>"
      ],
      "text/plain": [
       "  .mw-parser-output .navbar{display:inline;font-size:88%;font-weight:normal}.mw-parser-output .navbar-collapse{float:left;text-align:left}.mw-parser-output .navbar-boxtext{word-spacing:0}.mw-parser-output .navbar ul{display:inline-block;white-space:nowrap;line-height:inherit}.mw-parser-output .navbar-brackets::before{margin-right:-0.125em;content:\"[ \"}.mw-parser-output .navbar-brackets::after{margin-left:-0.125em;content:\" ]\"}.mw-parser-output .navbar li{word-spacing:-0.125em}.mw-parser-output .navbar a>span,.mw-parser-output .navbar a>abbr{text-decoration:inherit}.mw-parser-output .navbar-mini abbr{font-variant:small-caps;border-bottom:none;text-decoration:none;cursor:inherit}.mw-parser-output .navbar-ct-full{font-size:114%;margin:0 7em}.mw-parser-output .navbar-ct-mini{font-size:114%;margin:0 4em}vteIndex of athletics record progressions  \\\n",
       "0                                              World                                                                                                                                                                                                                                                                                                                                                                                                                                                                                                                                                                                                                                                                                                                                                                                                                                  \n",
       "1                                          Sprinting                                                                                                                                                                                                                                                                                                                                                                                                                                                                                                                                                                                                                                                                                                                                                                                                                                  \n",
       "\n",
       "  .mw-parser-output .navbar{display:inline;font-size:88%;font-weight:normal}.mw-parser-output .navbar-collapse{float:left;text-align:left}.mw-parser-output .navbar-boxtext{word-spacing:0}.mw-parser-output .navbar ul{display:inline-block;white-space:nowrap;line-height:inherit}.mw-parser-output .navbar-brackets::before{margin-right:-0.125em;content:\"[ \"}.mw-parser-output .navbar-brackets::after{margin-left:-0.125em;content:\" ]\"}.mw-parser-output .navbar li{word-spacing:-0.125em}.mw-parser-output .navbar a>span,.mw-parser-output .navbar a>abbr{text-decoration:inherit}.mw-parser-output .navbar-mini abbr{font-variant:small-caps;border-bottom:none;text-decoration:none;cursor:inherit}.mw-parser-output .navbar-ct-full{font-size:114%;margin:0 7em}.mw-parser-output .navbar-ct-mini{font-size:114%;margin:0 4em}vteIndex of athletics record progressions.1  \n",
       "0  Sprinting 50 metres 60 metres men women 100 me...                                                                                                                                                                                                                                                                                                                                                                                                                                                                                                                                                                                                                                                                                                                                                                                                                                   \n",
       "1  50 metres 60 metres men women 100 metres men w...                                                                                                                                                                                                                                                                                                                                                                                                                                                                                                                                                                                                                                                                                                                                                                                                                                   "
      ]
     },
     "metadata": {},
     "output_type": "display_data"
    },
    {
     "data": {
      "text/html": [
       "<div>\n",
       "<style scoped>\n",
       "    .dataframe tbody tr th:only-of-type {\n",
       "        vertical-align: middle;\n",
       "    }\n",
       "\n",
       "    .dataframe tbody tr th {\n",
       "        vertical-align: top;\n",
       "    }\n",
       "\n",
       "    .dataframe thead th {\n",
       "        text-align: right;\n",
       "    }\n",
       "</style>\n",
       "<table border=\"1\" class=\"dataframe\">\n",
       "  <thead>\n",
       "    <tr style=\"text-align: right;\">\n",
       "      <th></th>\n",
       "      <th>0</th>\n",
       "      <th>1</th>\n",
       "    </tr>\n",
       "  </thead>\n",
       "  <tbody>\n",
       "    <tr>\n",
       "      <th>0</th>\n",
       "      <td>Sprinting</td>\n",
       "      <td>50 metres 60 metres men women 100 metres men w...</td>\n",
       "    </tr>\n",
       "    <tr>\n",
       "      <th>1</th>\n",
       "      <td>Middle distance</td>\n",
       "      <td>800 metres 1000 metres 1500 metres Mile run 20...</td>\n",
       "    </tr>\n",
       "  </tbody>\n",
       "</table>\n",
       "</div>"
      ],
      "text/plain": [
       "                 0                                                  1\n",
       "0        Sprinting  50 metres 60 metres men women 100 metres men w...\n",
       "1  Middle distance  800 metres 1000 metres 1500 metres Mile run 20..."
      ]
     },
     "metadata": {},
     "output_type": "display_data"
    }
   ],
   "source": [
    "for table in tables:\n",
    "    display(table.head(2))"
   ]
  },
  {
   "cell_type": "markdown",
   "metadata": {
    "deletable": false,
    "editable": false,
    "nbgrader": {
     "cell_type": "markdown",
     "checksum": "894023a573c4cd15735103edafbd76ed",
     "grade": false,
     "grade_id": "cell-b27e805c64601417",
     "locked": true,
     "schema_version": 3,
     "solution": false,
     "task": false
    }
   },
   "source": [
    "We find that we want the fourth table."
   ]
  },
  {
   "cell_type": "code",
   "execution_count": 6,
   "metadata": {
    "deletable": false,
    "editable": false,
    "nbgrader": {
     "cell_type": "code",
     "checksum": "df393577580aad35d8ec926483eb5db1",
     "grade": false,
     "grade_id": "cell-c8886f6bf46e9b55",
     "locked": true,
     "schema_version": 3,
     "solution": false,
     "task": false
    }
   },
   "outputs": [
    {
     "data": {
      "text/html": [
       "<div>\n",
       "<style scoped>\n",
       "    .dataframe tbody tr th:only-of-type {\n",
       "        vertical-align: middle;\n",
       "    }\n",
       "\n",
       "    .dataframe tbody tr th {\n",
       "        vertical-align: top;\n",
       "    }\n",
       "\n",
       "    .dataframe thead th {\n",
       "        text-align: right;\n",
       "    }\n",
       "</style>\n",
       "<table border=\"1\" class=\"dataframe\">\n",
       "  <thead>\n",
       "    <tr style=\"text-align: right;\">\n",
       "      <th></th>\n",
       "      <th>Time</th>\n",
       "      <th>Auto</th>\n",
       "      <th>Athlete</th>\n",
       "      <th>Date</th>\n",
       "      <th>Place</th>\n",
       "    </tr>\n",
       "  </thead>\n",
       "  <tbody>\n",
       "    <tr>\n",
       "      <th>0</th>\n",
       "      <td>4:17.3+</td>\n",
       "      <td>NaN</td>\n",
       "      <td>Anne Smith (GBR)</td>\n",
       "      <td>1967-06-03</td>\n",
       "      <td>Chiswick, Great Britain</td>\n",
       "    </tr>\n",
       "    <tr>\n",
       "      <th>1</th>\n",
       "      <td>4:15.6</td>\n",
       "      <td>NaN</td>\n",
       "      <td>Maria Gommers (NED)</td>\n",
       "      <td>1967-10-24</td>\n",
       "      <td>Sittard, Netherlands</td>\n",
       "    </tr>\n",
       "    <tr>\n",
       "      <th>2</th>\n",
       "      <td>4:12.4</td>\n",
       "      <td>NaN</td>\n",
       "      <td>Paola Pigni (ITA)</td>\n",
       "      <td>1969-07-02</td>\n",
       "      <td>Milan, Italy</td>\n",
       "    </tr>\n",
       "    <tr>\n",
       "      <th>3</th>\n",
       "      <td>4:10.7</td>\n",
       "      <td>4:10.77</td>\n",
       "      <td>Jaroslava Jehličková (CZE)</td>\n",
       "      <td>1969-09-20</td>\n",
       "      <td>Athens, Greece</td>\n",
       "    </tr>\n",
       "    <tr>\n",
       "      <th>4</th>\n",
       "      <td>4:09.6</td>\n",
       "      <td>4:09.62</td>\n",
       "      <td>Karin Burneleit (GDR)</td>\n",
       "      <td>1971-08-15</td>\n",
       "      <td>Helsinki, Finland</td>\n",
       "    </tr>\n",
       "  </tbody>\n",
       "</table>\n",
       "</div>"
      ],
      "text/plain": [
       "      Time     Auto                     Athlete        Date  \\\n",
       "0  4:17.3+      NaN            Anne Smith (GBR)  1967-06-03   \n",
       "1   4:15.6      NaN         Maria Gommers (NED)  1967-10-24   \n",
       "2   4:12.4      NaN           Paola Pigni (ITA)  1969-07-02   \n",
       "3   4:10.7  4:10.77  Jaroslava Jehličková (CZE)  1969-09-20   \n",
       "4   4:09.6  4:09.62       Karin Burneleit (GDR)  1971-08-15   \n",
       "\n",
       "                     Place  \n",
       "0  Chiswick, Great Britain  \n",
       "1     Sittard, Netherlands  \n",
       "2             Milan, Italy  \n",
       "3           Athens, Greece  \n",
       "4        Helsinki, Finland  "
      ]
     },
     "execution_count": 6,
     "metadata": {},
     "output_type": "execute_result"
    }
   ],
   "source": [
    "tables[3].head(5)"
   ]
  },
  {
   "cell_type": "markdown",
   "metadata": {
    "deletable": false,
    "editable": false,
    "nbgrader": {
     "cell_type": "markdown",
     "checksum": "2fd049d3e8d2efd291587932d8926aac",
     "grade": false,
     "grade_id": "cell-d99f77397283016f",
     "locked": true,
     "schema_version": 3,
     "solution": false,
     "task": false
    }
   },
   "source": [
    "The entries are strings. Before we process the data to generate a chart, we will explore two other approaches to accessing the data on the website. These methods are more versatile than `pandas` for handling data on the internet. \n",
    "\n",
    "### Question 1\n",
    "\n",
    "We need a way to gather data from the website and store the data in memory. We can use an HTTP request to retrieve the page. "
   ]
  },
  {
   "cell_type": "code",
   "execution_count": 7,
   "metadata": {
    "deletable": false,
    "editable": false,
    "nbgrader": {
     "cell_type": "code",
     "checksum": "96507a8983ebccf83cb1ae1fb0821052",
     "grade": false,
     "grade_id": "cell-dd258b24d08a4537",
     "locked": true,
     "schema_version": 3,
     "solution": false,
     "task": false
    }
   },
   "outputs": [],
   "source": [
    "response = requests.get(url)"
   ]
  },
  {
   "cell_type": "markdown",
   "metadata": {
    "deletable": false,
    "editable": false,
    "nbgrader": {
     "cell_type": "markdown",
     "checksum": "288c5a7b118a0548ec680d1b78e08df5",
     "grade": false,
     "grade_id": "cell-b85427a6d6494b50",
     "locked": true,
     "schema_version": 3,
     "solution": false,
     "task": false
    }
   },
   "source": [
    "We use the `requests` package. To retrieve the contents of the website, we use the GET request from HTTP."
   ]
  },
  {
   "cell_type": "code",
   "execution_count": 8,
   "metadata": {
    "deletable": false,
    "editable": false,
    "nbgrader": {
     "cell_type": "code",
     "checksum": "f852033e49f07dd97be88f8d556def6e",
     "grade": false,
     "grade_id": "cell-c57e23a0b2e965ac",
     "locked": true,
     "schema_version": 3,
     "solution": false,
     "task": false
    }
   },
   "outputs": [
    {
     "data": {
      "text/plain": [
       "'GET'"
      ]
     },
     "execution_count": 8,
     "metadata": {},
     "output_type": "execute_result"
    }
   ],
   "source": [
    "response.request.method"
   ]
  },
  {
   "cell_type": "markdown",
   "metadata": {
    "deletable": false,
    "editable": false,
    "nbgrader": {
     "cell_type": "markdown",
     "checksum": "7ce70b31122a81e69d9c8697f529f16a",
     "grade": false,
     "grade_id": "cell-020c096946efec69",
     "locked": true,
     "schema_version": 3,
     "solution": false,
     "task": false
    }
   },
   "source": [
    "We examine the:\n",
    "\n",
    "+ status of our request \n",
    "+ header for our request\n",
    "+ header for the response to our request\n",
    "+ content of the response (the web page)"
   ]
  },
  {
   "cell_type": "code",
   "execution_count": 9,
   "metadata": {
    "deletable": false,
    "editable": false,
    "nbgrader": {
     "cell_type": "code",
     "checksum": "ecaa83133713646679fe75a427bdb783",
     "grade": false,
     "grade_id": "cell-c5fd908c864725dd",
     "locked": true,
     "schema_version": 3,
     "solution": false,
     "task": false
    }
   },
   "outputs": [
    {
     "data": {
      "text/plain": [
       "200"
      ]
     },
     "execution_count": 9,
     "metadata": {},
     "output_type": "execute_result"
    }
   ],
   "source": [
    "response.status_code"
   ]
  },
  {
   "cell_type": "code",
   "execution_count": 10,
   "metadata": {
    "deletable": false,
    "editable": false,
    "nbgrader": {
     "cell_type": "code",
     "checksum": "6b11d2b285ac010a3f4eedfad3e3a619",
     "grade": false,
     "grade_id": "cell-9afb95bded1b45a5",
     "locked": true,
     "schema_version": 3,
     "solution": false,
     "task": false
    }
   },
   "outputs": [
    {
     "data": {
      "text/plain": [
       "{'User-Agent': 'python-requests/2.24.0',\n",
       " 'Accept-Encoding': 'gzip, deflate',\n",
       " 'Accept': '*/*',\n",
       " 'Connection': 'keep-alive'}"
      ]
     },
     "execution_count": 10,
     "metadata": {},
     "output_type": "execute_result"
    }
   ],
   "source": [
    "dict(response.request.headers)"
   ]
  },
  {
   "cell_type": "code",
   "execution_count": 11,
   "metadata": {
    "deletable": false,
    "editable": false,
    "nbgrader": {
     "cell_type": "code",
     "checksum": "196235996fc92335401aad4d90cbac7d",
     "grade": false,
     "grade_id": "cell-80169bd2fc27724a",
     "locked": true,
     "schema_version": 3,
     "solution": false,
     "task": false
    }
   },
   "outputs": [
    {
     "data": {
      "text/plain": [
       "{'date': 'Mon, 11 Jul 2022 18:05:40 GMT',\n",
       " 'vary': 'Accept-Encoding,Cookie,Authorization',\n",
       " 'server': 'ATS/8.0.8',\n",
       " 'x-content-type-options': 'nosniff',\n",
       " 'content-language': 'en',\n",
       " 'last-modified': 'Thu, 07 Jul 2022 06:39:58 GMT',\n",
       " 'content-type': 'text/html; charset=UTF-8',\n",
       " 'content-encoding': 'gzip',\n",
       " 'age': '33851',\n",
       " 'x-cache': 'cp1081 miss, cp1077 hit/14',\n",
       " 'x-cache-status': 'hit-front',\n",
       " 'server-timing': 'cache;desc=\"hit-front\", host;desc=\"cp1077\"',\n",
       " 'strict-transport-security': 'max-age=106384710; includeSubDomains; preload',\n",
       " 'report-to': '{ \"group\": \"wm_nel\", \"max_age\": 86400, \"endpoints\": [{ \"url\": \"https://intake-logging.wikimedia.org/v1/events?stream=w3c.reportingapi.network_error&schema_uri=/w3c/reportingapi/network_error/1.0.0\" }] }',\n",
       " 'nel': '{ \"report_to\": \"wm_nel\", \"max_age\": 86400, \"failure_fraction\": 0.05, \"success_fraction\": 0.0}',\n",
       " 'set-cookie': 'WMF-Last-Access=12-Jul-2022;Path=/;HttpOnly;secure;Expires=Sat, 13 Aug 2022 00:00:00 GMT, WMF-Last-Access-Global=12-Jul-2022;Path=/;Domain=.wikipedia.org;HttpOnly;secure;Expires=Sat, 13 Aug 2022 00:00:00 GMT, GeoIP=US:SC:North_Charleston:32.86:-79.97:v4; Path=/; secure; Domain=.wikipedia.org',\n",
       " 'accept-ch': 'Sec-CH-UA-Arch,Sec-CH-UA-Bitness,Sec-CH-UA-Full-Version-List,Sec-CH-UA-Model,Sec-CH-UA-Platform-Version',\n",
       " 'permissions-policy': 'interest-cohort=(),ch-ua-arch=(self \"intake-analytics.wikimedia.org\"),ch-ua-bitness=(self \"intake-analytics.wikimedia.org\"),ch-ua-full-version-list=(self \"intake-analytics.wikimedia.org\"),ch-ua-model=(self \"intake-analytics.wikimedia.org\"),ch-ua-platform-version=(self \"intake-analytics.wikimedia.org\")',\n",
       " 'x-client-ip': '35.196.14.111',\n",
       " 'cache-control': 'private, s-maxage=0, max-age=0, must-revalidate',\n",
       " 'accept-ranges': 'bytes',\n",
       " 'content-length': '20834'}"
      ]
     },
     "execution_count": 11,
     "metadata": {},
     "output_type": "execute_result"
    }
   ],
   "source": [
    "dict(response.headers)"
   ]
  },
  {
   "cell_type": "code",
   "execution_count": 12,
   "metadata": {
    "deletable": false,
    "editable": false,
    "nbgrader": {
     "cell_type": "code",
     "checksum": "507dce89acd9a0c51df268bf304a2c6d",
     "grade": false,
     "grade_id": "cell-eb1fdc966b9ae977",
     "locked": true,
     "schema_version": 3,
     "solution": false,
     "task": false
    }
   },
   "outputs": [
    {
     "data": {
      "text/plain": [
       "b'<!DOCTYPE html>\\n<html class=\"client-nojs\" lang=\"en\" dir=\"ltr\">\\n<head>\\n<meta charset=\"UTF-8\"/>\\n<title>1500 metres world record progression - Wikipedia</title>\\n<script>document.documentElement.className=\"client-js\";RLCONF={\"wgBreakFrames\":false,\"wgSeparatorTransformTable\":[\"\",\"\"],\"wgDigitTransformTable\":[\"\",\"\"],\"wgDefaultDateFormat\":\"dmy\",\"wgMonthNames\":[\"\",\"January\",\"February\",\"March\",\"April\",\"May\",\"June\",\"July\",\"August\",\"September\",\"October\",\"November\",\"December\"],\"wgRequestId\":\"9031eb18-4d71-41b0-becf-1b6b3e893661\",\"wgCSPNonce\":false,\"wgCanonicalNamespace\":\"\",\"wgCanonicalSpecialPageName\":false,\"wgNamespaceNumber\":0,\"wgPageName\":\"1500_metres_world_record_progression\",\"wgTitle\":\"1500 metres world record progression\",\"wgCurRevisionId\":1094497146,\"wgRevisionId\":1094497146,\"wgArticleId\":14824822,\"wgIsArticle\":true,\"wgIsRedirect\":false,\"wgAction\":\"view\",\"wgUserName\":null,\"wgUserGroups\":[\"*\"],\"wgCategories\":[\"World athletics record progressions\",\"1500 metres\"],\"wgPageContentLanguage\":\"en\",\"w'"
      ]
     },
     "execution_count": 12,
     "metadata": {},
     "output_type": "execute_result"
    }
   ],
   "source": [
    "response.content[:1000]"
   ]
  },
  {
   "cell_type": "markdown",
   "metadata": {
    "deletable": false,
    "editable": false,
    "nbgrader": {
     "cell_type": "markdown",
     "checksum": "a3f4831a648ade362f82310884cf2779",
     "grade": false,
     "grade_id": "cell-37bd6ba5d07ee55c",
     "locked": true,
     "schema_version": 3,
     "solution": false,
     "task": false
    }
   },
   "source": [
    "What is the meaning of the response code 200?\n",
    "\n",
    "1. Forbidden\n",
    "1. Ok\n",
    "1. Not Found\n",
    "1. Unauthorized"
   ]
  },
  {
   "cell_type": "code",
   "execution_count": 13,
   "metadata": {
    "deletable": false,
    "nbgrader": {
     "cell_type": "code",
     "checksum": "08afbdf48fe3f41dd93b31f76519ec65",
     "grade": false,
     "grade_id": "cell-f7f9b800f51abde6",
     "locked": false,
     "schema_version": 3,
     "solution": true,
     "task": false
    }
   },
   "outputs": [],
   "source": [
    "q1 = 2\n",
    "\n",
    "# YOUR CODE HERE\n",
    "#raise NotImplementedError()"
   ]
  },
  {
   "cell_type": "code",
   "execution_count": 14,
   "metadata": {
    "deletable": false,
    "editable": false,
    "nbgrader": {
     "cell_type": "code",
     "checksum": "1b74675166d5e36eae4cf04dbc1ebfbe",
     "grade": true,
     "grade_id": "cell-eec0a662be05315e",
     "locked": true,
     "points": 1,
     "schema_version": 3,
     "solution": false,
     "task": false
    }
   },
   "outputs": [],
   "source": [
    "# TEST \n",
    "\n",
    "assert q1 in [1,2,3,4]\n"
   ]
  },
  {
   "cell_type": "markdown",
   "metadata": {
    "deletable": false,
    "editable": false,
    "nbgrader": {
     "cell_type": "markdown",
     "checksum": "75a280c1de981c8b596c19d5a94937d7",
     "grade": false,
     "grade_id": "cell-2d84bf420d9f2821",
     "locked": true,
     "schema_version": 3,
     "solution": false,
     "task": false
    }
   },
   "source": [
    "### Question 2\n",
    "\n",
    "We do not want to extract information from the string with regular expressions. So we need to convert from string format to another format. Since we have structured data, we should take advantage of the organization as HTML. "
   ]
  },
  {
   "cell_type": "code",
   "execution_count": 15,
   "metadata": {
    "deletable": false,
    "editable": false,
    "nbgrader": {
     "cell_type": "code",
     "checksum": "f4c0a4a18be5f16a1c50888a6a20a579",
     "grade": false,
     "grade_id": "cell-77351ca0b77cb6f8",
     "locked": true,
     "schema_version": 3,
     "solution": false,
     "task": false
    }
   },
   "outputs": [],
   "source": [
    "soup = BeautifulSoup(response.content, \"html.parser\")"
   ]
  },
  {
   "cell_type": "markdown",
   "metadata": {
    "deletable": false,
    "editable": false,
    "nbgrader": {
     "cell_type": "markdown",
     "checksum": "9bc40e453e6c307a0c591eb3f66d3f9b",
     "grade": false,
     "grade_id": "cell-62249342597f7563",
     "locked": true,
     "schema_version": 3,
     "solution": false,
     "task": false
    }
   },
   "source": [
    "The `bs4` package allows us to parse the HTML. The variable `soup` represents the data in a nested format resembling the tree-like structure of HTML  "
   ]
  },
  {
   "cell_type": "code",
   "execution_count": 16,
   "metadata": {
    "deletable": false,
    "editable": false,
    "nbgrader": {
     "cell_type": "code",
     "checksum": "73b285c08b0fc1956f5d122c0c7b86ca",
     "grade": false,
     "grade_id": "cell-082700247e88ae91",
     "locked": true,
     "schema_version": 3,
     "solution": false,
     "task": false
    }
   },
   "outputs": [
    {
     "data": {
      "text/plain": [
       "6"
      ]
     },
     "execution_count": 16,
     "metadata": {},
     "output_type": "execute_result"
    }
   ],
   "source": [
    "soup_tables = soup.find_all('table')\n",
    "len(soup_tables)"
   ]
  },
  {
   "cell_type": "markdown",
   "metadata": {
    "deletable": false,
    "editable": false,
    "nbgrader": {
     "cell_type": "markdown",
     "checksum": "076e2fa95a102325f19705d9cb60038b",
     "grade": false,
     "grade_id": "cell-5d2a47cc013c4243",
     "locked": true,
     "schema_version": 3,
     "solution": false,
     "task": false
    }
   },
   "source": [
    "The package provides different functions to search for elements in the tree. The function `find_all()` allows us to search for the tag `table`. Note that we obtain all six tables."
   ]
  },
  {
   "cell_type": "code",
   "execution_count": 17,
   "metadata": {
    "deletable": false,
    "editable": false,
    "nbgrader": {
     "cell_type": "code",
     "checksum": "4bee52692759d233132afd14fbd4702a",
     "grade": false,
     "grade_id": "cell-7274c91c82d41de9",
     "locked": true,
     "schema_version": 3,
     "solution": false,
     "task": false
    }
   },
   "outputs": [
    {
     "data": {
      "text/plain": [
       "[<tr>\n",
       " <th>Time</th>\n",
       " <th>Auto</th>\n",
       " <th>Athlete</th>\n",
       " <th>Date</th>\n",
       " <th>Place\n",
       " </th></tr>,\n",
       " <tr>\n",
       " <td><b>4:17.3+</b>\n",
       " </td>\n",
       " <td>\n",
       " </td>\n",
       " <td align=\"left\"><span class=\"flagicon\"><img alt=\"\" class=\"thumbborder\" data-file-height=\"600\" data-file-width=\"1200\" decoding=\"async\" height=\"12\" src=\"//upload.wikimedia.org/wikipedia/en/thumb/a/ae/Flag_of_the_United_Kingdom.svg/23px-Flag_of_the_United_Kingdom.svg.png\" srcset=\"//upload.wikimedia.org/wikipedia/en/thumb/a/ae/Flag_of_the_United_Kingdom.svg/35px-Flag_of_the_United_Kingdom.svg.png 1.5x, //upload.wikimedia.org/wikipedia/en/thumb/a/ae/Flag_of_the_United_Kingdom.svg/46px-Flag_of_the_United_Kingdom.svg.png 2x\" width=\"23\"/> </span><a class=\"mw-redirect\" href=\"/wiki/Anne_Smith_(middle-distance_runner)\" title=\"Anne Smith (middle-distance runner)\">Anne Smith</a> <span style=\"font-size:90%;\">(<abbr title=\"Great Britain\">GBR</abbr>)</span>\n",
       " </td>\n",
       " <td>1967-06-03\n",
       " </td>\n",
       " <td><a href=\"/wiki/Chiswick\" title=\"Chiswick\">Chiswick</a>, <a href=\"/wiki/Great_Britain\" title=\"Great Britain\">Great Britain</a>\n",
       " </td></tr>]"
      ]
     },
     "execution_count": 17,
     "metadata": {},
     "output_type": "execute_result"
    }
   ],
   "source": [
    "soup_rows = soup_tables[3].find_all('tr')\n",
    "soup_rows[:2]"
   ]
  },
  {
   "cell_type": "markdown",
   "metadata": {
    "deletable": false,
    "editable": false,
    "nbgrader": {
     "cell_type": "markdown",
     "checksum": "c3d550b50cb0cb5d5a313df85941478e",
     "grade": false,
     "grade_id": "cell-b3a1325b33b58107",
     "locked": true,
     "schema_version": 3,
     "solution": false,
     "task": false
    }
   },
   "source": [
    "#### Question 2.1\n",
    "\n",
    "Remember that we are interested in the fourth table. The HTML tag for a row of a table is `tr`. The first row is a header and the subsequent rows contain the records."
   ]
  },
  {
   "cell_type": "code",
   "execution_count": 18,
   "metadata": {
    "deletable": false,
    "editable": false,
    "nbgrader": {
     "cell_type": "code",
     "checksum": "a6e8980943a428816a0970afbe07637e",
     "grade": false,
     "grade_id": "cell-1e71b8a846f51ec8",
     "locked": true,
     "schema_version": 3,
     "solution": false,
     "task": false
    }
   },
   "outputs": [
    {
     "data": {
      "text/plain": [
       "[<td><b>4:15.6</b>\n",
       " </td>,\n",
       " <td>\n",
       " </td>,\n",
       " <td align=\"left\"><span class=\"flagicon\"><img alt=\"\" class=\"thumbborder\" data-file-height=\"600\" data-file-width=\"900\" decoding=\"async\" height=\"15\" src=\"//upload.wikimedia.org/wikipedia/commons/thumb/2/20/Flag_of_the_Netherlands.svg/23px-Flag_of_the_Netherlands.svg.png\" srcset=\"//upload.wikimedia.org/wikipedia/commons/thumb/2/20/Flag_of_the_Netherlands.svg/35px-Flag_of_the_Netherlands.svg.png 1.5x, //upload.wikimedia.org/wikipedia/commons/thumb/2/20/Flag_of_the_Netherlands.svg/45px-Flag_of_the_Netherlands.svg.png 2x\" width=\"23\"/> </span><a class=\"mw-redirect\" href=\"/wiki/Maria_Gommers\" title=\"Maria Gommers\">Maria Gommers</a> <span style=\"font-size:90%;\">(<abbr title=\"Netherlands\">NED</abbr>)</span>\n",
       " </td>,\n",
       " <td>1967-10-24\n",
       " </td>,\n",
       " <td><a href=\"/wiki/Sittard\" title=\"Sittard\">Sittard</a>, <a href=\"/wiki/Netherlands\" title=\"Netherlands\">Netherlands</a>\n",
       " </td>]"
      ]
     },
     "execution_count": 18,
     "metadata": {},
     "output_type": "execute_result"
    }
   ],
   "source": [
    "soup_second_row = soup_rows[2]\n",
    "soup_second_row_columns = soup_second_row.find_all('td')\n",
    "soup_second_row_columns"
   ]
  },
  {
   "cell_type": "markdown",
   "metadata": {
    "deletable": false,
    "editable": false,
    "nbgrader": {
     "cell_type": "markdown",
     "checksum": "a8e29fa4d1f09d0295f6eb42456c80eb",
     "grade": false,
     "grade_id": "cell-1b060bdad5cea0f5",
     "locked": true,
     "schema_version": 3,
     "solution": false,
     "task": false
    }
   },
   "source": [
    "The HTML tag for a column of a table is `td`. If we want to retrieve the name of the athlete in the second row of the table, then we need to access the third column."
   ]
  },
  {
   "cell_type": "code",
   "execution_count": 19,
   "metadata": {
    "deletable": false,
    "editable": false,
    "nbgrader": {
     "cell_type": "code",
     "checksum": "0859f4445d923e2f545988339f24d4fd",
     "grade": false,
     "grade_id": "cell-3aa2af022e078e91",
     "locked": true,
     "schema_version": 3,
     "solution": false,
     "task": false
    }
   },
   "outputs": [
    {
     "data": {
      "text/plain": [
       "<td align=\"left\"><span class=\"flagicon\"><img alt=\"\" class=\"thumbborder\" data-file-height=\"600\" data-file-width=\"900\" decoding=\"async\" height=\"15\" src=\"//upload.wikimedia.org/wikipedia/commons/thumb/2/20/Flag_of_the_Netherlands.svg/23px-Flag_of_the_Netherlands.svg.png\" srcset=\"//upload.wikimedia.org/wikipedia/commons/thumb/2/20/Flag_of_the_Netherlands.svg/35px-Flag_of_the_Netherlands.svg.png 1.5x, //upload.wikimedia.org/wikipedia/commons/thumb/2/20/Flag_of_the_Netherlands.svg/45px-Flag_of_the_Netherlands.svg.png 2x\" width=\"23\"/> </span><a class=\"mw-redirect\" href=\"/wiki/Maria_Gommers\" title=\"Maria Gommers\">Maria Gommers</a> <span style=\"font-size:90%;\">(<abbr title=\"Netherlands\">NED</abbr>)</span>\n",
       "</td>"
      ]
     },
     "execution_count": 19,
     "metadata": {},
     "output_type": "execute_result"
    }
   ],
   "source": [
    "soup_second_row_columns[2]"
   ]
  },
  {
   "cell_type": "markdown",
   "metadata": {
    "deletable": false,
    "editable": false,
    "nbgrader": {
     "cell_type": "markdown",
     "checksum": "8993a49541ad379896c4428128ce04f6",
     "grade": false,
     "grade_id": "cell-0e991249f7778fd7",
     "locked": true,
     "schema_version": 3,
     "solution": false,
     "task": false
    }
   },
   "source": [
    "Note that the name `Maria Gommers` appears in the text."
   ]
  },
  {
   "cell_type": "code",
   "execution_count": 20,
   "metadata": {
    "deletable": false,
    "editable": false,
    "nbgrader": {
     "cell_type": "code",
     "checksum": "e441c15f131c893d5693d6abe5bb4b50",
     "grade": false,
     "grade_id": "cell-bfbd1eeb8f31a426",
     "locked": true,
     "schema_version": 3,
     "solution": false,
     "task": false
    }
   },
   "outputs": [
    {
     "data": {
      "text/plain": [
       "'\\xa0Maria Gommers\\xa0(NED)\\n'"
      ]
     },
     "execution_count": 20,
     "metadata": {},
     "output_type": "execute_result"
    }
   ],
   "source": [
    "soup_second_row_columns[2].text"
   ]
  },
  {
   "cell_type": "markdown",
   "metadata": {
    "deletable": false,
    "editable": false,
    "nbgrader": {
     "cell_type": "markdown",
     "checksum": "6e2e4035f761592c77536350ac452541",
     "grade": false,
     "grade_id": "cell-0d4258ca1d3e90df",
     "locked": true,
     "schema_version": 3,
     "solution": false,
     "task": false
    }
   },
   "source": [
    "Moreover, the name appears in a link. We can retrieve the name from the `title` attribute of the element with tag `a`. "
   ]
  },
  {
   "cell_type": "code",
   "execution_count": 21,
   "metadata": {
    "deletable": false,
    "editable": false,
    "nbgrader": {
     "cell_type": "code",
     "checksum": "0210afe2abbc5927df462a40b85ad94e",
     "grade": false,
     "grade_id": "cell-3e37307e624e3f77",
     "locked": true,
     "schema_version": 3,
     "solution": false,
     "task": false
    }
   },
   "outputs": [
    {
     "data": {
      "text/plain": [
       "'Maria Gommers'"
      ]
     },
     "execution_count": 21,
     "metadata": {},
     "output_type": "execute_result"
    }
   ],
   "source": [
    "soup_second_row_columns[2].a['title']"
   ]
  },
  {
   "cell_type": "markdown",
   "metadata": {
    "deletable": false,
    "editable": false,
    "nbgrader": {
     "cell_type": "markdown",
     "checksum": "664b0838dc5e57605a20c278ee8cbbaa",
     "grade": false,
     "grade_id": "cell-10676f0c4a6c131e",
     "locked": true,
     "schema_version": 3,
     "solution": false,
     "task": false
    }
   },
   "source": [
    "Note that `a['title']` retrieves the value of the `title` attribute of the element with tag `a`.\n",
    "\n",
    "Extract the date from the second row of the fourth table by accessing `soup_first_row_columns`. The date corresponds to athlete `Maria Gommers`."
   ]
  },
  {
   "cell_type": "code",
   "execution_count": 22,
   "metadata": {
    "deletable": false,
    "nbgrader": {
     "cell_type": "code",
     "checksum": "a823287531a6b0dda9922850184cd4af",
     "grade": false,
     "grade_id": "cell-2bdc0a52ecff3fd4",
     "locked": false,
     "schema_version": 3,
     "solution": true,
     "task": false
    }
   },
   "outputs": [],
   "source": [
    "q2_1 = soup_second_row_columns[3].text\n",
    "\n",
    "\n",
    "# YOUR CODE HERE\n",
    "#raise NotImplementedError()"
   ]
  },
  {
   "cell_type": "code",
   "execution_count": 23,
   "metadata": {
    "deletable": false,
    "editable": false,
    "nbgrader": {
     "cell_type": "code",
     "checksum": "84f70eabf54c56fb8596f4d708d83c34",
     "grade": true,
     "grade_id": "cell-12c27b10dfe86265",
     "locked": true,
     "points": 1,
     "schema_version": 3,
     "solution": false,
     "task": false
    }
   },
   "outputs": [],
   "source": [
    "# TEST \n",
    "\n",
    "assert '1967' in q2_1\n"
   ]
  },
  {
   "cell_type": "markdown",
   "metadata": {
    "deletable": false,
    "editable": false,
    "nbgrader": {
     "cell_type": "markdown",
     "checksum": "ac18521fe1ec11b2c5b361258afcdcd2",
     "grade": false,
     "grade_id": "cell-f3a826e6da90a329",
     "locked": true,
     "schema_version": 3,
     "solution": false,
     "task": false
    }
   },
   "source": [
    "#### Question 2.2 \n",
    "\n",
    "Now we can retrieve \n",
    "\n",
    "- name \n",
    "- date\n",
    "- running time\n",
    "\n",
    "from the records in the table."
   ]
  },
  {
   "cell_type": "code",
   "execution_count": 24,
   "metadata": {
    "deletable": false,
    "editable": false,
    "nbgrader": {
     "cell_type": "code",
     "checksum": "fded8b60019f10f9b7e1316c4cd2a15a",
     "grade": false,
     "grade_id": "cell-aca087511bb8cf95",
     "locked": true,
     "schema_version": 3,
     "solution": false,
     "task": false
    }
   },
   "outputs": [],
   "source": [
    "soup_names = []\n",
    "soup_dates = []\n",
    "soup_times = []\n",
    "\n",
    "for row in soup_rows[1:]:\n",
    "    columns = row.find_all('td')\n",
    "    soup_times.append(columns[0].text)\n",
    "    soup_names.append(columns[2].a['title'])\n",
    "    soup_dates.append(columns[3].text)"
   ]
  },
  {
   "cell_type": "markdown",
   "metadata": {
    "deletable": false,
    "editable": false,
    "nbgrader": {
     "cell_type": "markdown",
     "checksum": "1f31316e7b73b66be9a7c2ed0ee2063c",
     "grade": false,
     "grade_id": "cell-86232abf46e6389e",
     "locked": true,
     "schema_version": 3,
     "solution": false,
     "task": false
    }
   },
   "source": [
    "If we want to obtain the same table from Question 0, then we need to remove `\\n` from the strings."
   ]
  },
  {
   "cell_type": "code",
   "execution_count": 25,
   "metadata": {
    "deletable": false,
    "editable": false,
    "nbgrader": {
     "cell_type": "code",
     "checksum": "3cc78edc97b25675974305127d4e8cd3",
     "grade": false,
     "grade_id": "cell-efb30c55ee3d826d",
     "locked": true,
     "schema_version": 3,
     "solution": false,
     "task": false
    }
   },
   "outputs": [
    {
     "data": {
      "text/html": [
       "<div>\n",
       "<style scoped>\n",
       "    .dataframe tbody tr th:only-of-type {\n",
       "        vertical-align: middle;\n",
       "    }\n",
       "\n",
       "    .dataframe tbody tr th {\n",
       "        vertical-align: top;\n",
       "    }\n",
       "\n",
       "    .dataframe thead th {\n",
       "        text-align: right;\n",
       "    }\n",
       "</style>\n",
       "<table border=\"1\" class=\"dataframe\">\n",
       "  <thead>\n",
       "    <tr style=\"text-align: right;\">\n",
       "      <th></th>\n",
       "      <th>Time</th>\n",
       "      <th>Athlete</th>\n",
       "      <th>Date</th>\n",
       "    </tr>\n",
       "  </thead>\n",
       "  <tbody>\n",
       "    <tr>\n",
       "      <th>0</th>\n",
       "      <td>4:17.3+</td>\n",
       "      <td>Anne Smith (GBR)</td>\n",
       "      <td>1967-06-03</td>\n",
       "    </tr>\n",
       "    <tr>\n",
       "      <th>1</th>\n",
       "      <td>4:15.6</td>\n",
       "      <td>Maria Gommers (NED)</td>\n",
       "      <td>1967-10-24</td>\n",
       "    </tr>\n",
       "    <tr>\n",
       "      <th>2</th>\n",
       "      <td>4:12.4</td>\n",
       "      <td>Paola Pigni (ITA)</td>\n",
       "      <td>1969-07-02</td>\n",
       "    </tr>\n",
       "    <tr>\n",
       "      <th>3</th>\n",
       "      <td>4:10.7</td>\n",
       "      <td>Jaroslava Jehličková (CZE)</td>\n",
       "      <td>1969-09-20</td>\n",
       "    </tr>\n",
       "    <tr>\n",
       "      <th>4</th>\n",
       "      <td>4:09.6</td>\n",
       "      <td>Karin Burneleit (GDR)</td>\n",
       "      <td>1971-08-15</td>\n",
       "    </tr>\n",
       "    <tr>\n",
       "      <th>...</th>\n",
       "      <td>...</td>\n",
       "      <td>...</td>\n",
       "      <td>...</td>\n",
       "    </tr>\n",
       "    <tr>\n",
       "      <th>9</th>\n",
       "      <td>3:56.0</td>\n",
       "      <td>Tatyana Kazankina (URS)</td>\n",
       "      <td>1976-06-28</td>\n",
       "    </tr>\n",
       "    <tr>\n",
       "      <th>10</th>\n",
       "      <td>3:55.0</td>\n",
       "      <td>Tatyana Kazankina (URS)</td>\n",
       "      <td>1980-07-06</td>\n",
       "    </tr>\n",
       "    <tr>\n",
       "      <th>11</th>\n",
       "      <td>3:52.47</td>\n",
       "      <td>Tatyana Kazankina (URS)</td>\n",
       "      <td>1980-08-03</td>\n",
       "    </tr>\n",
       "    <tr>\n",
       "      <th>12</th>\n",
       "      <td>3:50.46</td>\n",
       "      <td>Qu Yunxia (CHN)</td>\n",
       "      <td>1993-09-11</td>\n",
       "    </tr>\n",
       "    <tr>\n",
       "      <th>13</th>\n",
       "      <td>3:50.07</td>\n",
       "      <td>Genzebe Dibaba (ETH)</td>\n",
       "      <td>2015-07-17</td>\n",
       "    </tr>\n",
       "  </tbody>\n",
       "</table>\n",
       "<p>14 rows × 3 columns</p>\n",
       "</div>"
      ],
      "text/plain": [
       "       Time                     Athlete        Date\n",
       "0   4:17.3+            Anne Smith (GBR)  1967-06-03\n",
       "1    4:15.6         Maria Gommers (NED)  1967-10-24\n",
       "2    4:12.4           Paola Pigni (ITA)  1969-07-02\n",
       "3    4:10.7  Jaroslava Jehličková (CZE)  1969-09-20\n",
       "4    4:09.6       Karin Burneleit (GDR)  1971-08-15\n",
       "..      ...                         ...         ...\n",
       "9    3:56.0     Tatyana Kazankina (URS)  1976-06-28\n",
       "10   3:55.0     Tatyana Kazankina (URS)  1980-07-06\n",
       "11  3:52.47     Tatyana Kazankina (URS)  1980-08-03\n",
       "12  3:50.46             Qu Yunxia (CHN)  1993-09-11\n",
       "13  3:50.07        Genzebe Dibaba (ETH)  2015-07-17\n",
       "\n",
       "[14 rows x 3 columns]"
      ]
     },
     "execution_count": 25,
     "metadata": {},
     "output_type": "execute_result"
    }
   ],
   "source": [
    "tables[3][[\"Time\", \"Athlete\", \"Date\"]]"
   ]
  },
  {
   "cell_type": "markdown",
   "metadata": {
    "deletable": false,
    "editable": false,
    "nbgrader": {
     "cell_type": "markdown",
     "checksum": "565879c2cc45df454b9aedbc35ed4fab",
     "grade": false,
     "grade_id": "cell-45dd614aaba5e7f5",
     "locked": true,
     "schema_version": 3,
     "solution": false,
     "task": false
    }
   },
   "source": [
    "Use `replace` to remove the character `\\n` from the entries of \n",
    "\n",
    "- `soup_dates`\n",
    "- `soup_times`"
   ]
  },
  {
   "cell_type": "code",
   "execution_count": 26,
   "metadata": {
    "deletable": false,
    "nbgrader": {
     "cell_type": "code",
     "checksum": "e344f5a4c9636ce957a59bbd4a556eea",
     "grade": false,
     "grade_id": "cell-f59b9ed07b344fc3",
     "locked": false,
     "schema_version": 3,
     "solution": true,
     "task": false
    }
   },
   "outputs": [],
   "source": [
    "soup_times_processed = []\n",
    "for time in soup_times:\n",
    "    time_processed = time.replace('\\n','',1)\n",
    "    # YOUR CODE HERE\n",
    "    #raise NotImplementedError()\n",
    "    soup_times_processed.append(time_processed)\n",
    "    \n",
    "soup_dates_processed = []\n",
    "for date in soup_dates:\n",
    "    date_processed = date.replace('\\n','',1)\n",
    "    # YOUR CODE HERE\n",
    "    #raise NotImplementedError()\n",
    "    soup_dates_processed.append(date_processed)"
   ]
  },
  {
   "cell_type": "code",
   "execution_count": 27,
   "metadata": {
    "deletable": false,
    "editable": false,
    "nbgrader": {
     "cell_type": "code",
     "checksum": "f8aafbf3e35a4a6f56d6ae8dec0e91de",
     "grade": true,
     "grade_id": "cell-bf6aa343a9cbcce1",
     "locked": true,
     "points": 1,
     "schema_version": 3,
     "solution": false,
     "task": false
    }
   },
   "outputs": [],
   "source": [
    "# TEST \n",
    "\n",
    "assert all([\"\\n\" not in entry for entry in soup_dates_processed])\n",
    "assert all([\"\\n\" not in entry for entry in soup_times_processed])"
   ]
  },
  {
   "cell_type": "markdown",
   "metadata": {
    "deletable": false,
    "editable": false,
    "nbgrader": {
     "cell_type": "markdown",
     "checksum": "63337d74d35fd575c951507912931bd0",
     "grade": false,
     "grade_id": "cell-53f53bd022da463e",
     "locked": true,
     "schema_version": 3,
     "solution": false,
     "task": false
    }
   },
   "source": [
    "Now we can generate a table."
   ]
  },
  {
   "cell_type": "code",
   "execution_count": 28,
   "metadata": {
    "deletable": false,
    "editable": false,
    "nbgrader": {
     "cell_type": "code",
     "checksum": "19a32d5a63d79b70afa6ad8c36c59922",
     "grade": false,
     "grade_id": "cell-e1ea7fb76f33c52e",
     "locked": true,
     "schema_version": 3,
     "solution": false,
     "task": false
    }
   },
   "outputs": [
    {
     "data": {
      "text/html": [
       "<div>\n",
       "<style scoped>\n",
       "    .dataframe tbody tr th:only-of-type {\n",
       "        vertical-align: middle;\n",
       "    }\n",
       "\n",
       "    .dataframe tbody tr th {\n",
       "        vertical-align: top;\n",
       "    }\n",
       "\n",
       "    .dataframe thead th {\n",
       "        text-align: right;\n",
       "    }\n",
       "</style>\n",
       "<table border=\"1\" class=\"dataframe\">\n",
       "  <thead>\n",
       "    <tr style=\"text-align: right;\">\n",
       "      <th></th>\n",
       "      <th>Time</th>\n",
       "      <th>Athlete</th>\n",
       "      <th>Date</th>\n",
       "    </tr>\n",
       "  </thead>\n",
       "  <tbody>\n",
       "    <tr>\n",
       "      <th>0</th>\n",
       "      <td>4:17.3+</td>\n",
       "      <td>Anne Smith (middle-distance runner)</td>\n",
       "      <td>1967-06-03</td>\n",
       "    </tr>\n",
       "    <tr>\n",
       "      <th>1</th>\n",
       "      <td>4:15.6</td>\n",
       "      <td>Maria Gommers</td>\n",
       "      <td>1967-10-24</td>\n",
       "    </tr>\n",
       "    <tr>\n",
       "      <th>2</th>\n",
       "      <td>4:12.4</td>\n",
       "      <td>Paola Pigni</td>\n",
       "      <td>1969-07-02</td>\n",
       "    </tr>\n",
       "    <tr>\n",
       "      <th>3</th>\n",
       "      <td>4:10.7</td>\n",
       "      <td>Jaroslava Jehličková</td>\n",
       "      <td>1969-09-20</td>\n",
       "    </tr>\n",
       "    <tr>\n",
       "      <th>4</th>\n",
       "      <td>4:09.6</td>\n",
       "      <td>Karin Burneleit</td>\n",
       "      <td>1971-08-15</td>\n",
       "    </tr>\n",
       "    <tr>\n",
       "      <th>...</th>\n",
       "      <td>...</td>\n",
       "      <td>...</td>\n",
       "      <td>...</td>\n",
       "    </tr>\n",
       "    <tr>\n",
       "      <th>9</th>\n",
       "      <td>3:56.0</td>\n",
       "      <td>Tatyana Kazankina</td>\n",
       "      <td>1976-06-28</td>\n",
       "    </tr>\n",
       "    <tr>\n",
       "      <th>10</th>\n",
       "      <td>3:55.0</td>\n",
       "      <td>Tatyana Kazankina</td>\n",
       "      <td>1980-07-06</td>\n",
       "    </tr>\n",
       "    <tr>\n",
       "      <th>11</th>\n",
       "      <td>3:52.47</td>\n",
       "      <td>Tatyana Kazankina</td>\n",
       "      <td>1980-08-03</td>\n",
       "    </tr>\n",
       "    <tr>\n",
       "      <th>12</th>\n",
       "      <td>3:50.46</td>\n",
       "      <td>Qu Yunxia</td>\n",
       "      <td>1993-09-11</td>\n",
       "    </tr>\n",
       "    <tr>\n",
       "      <th>13</th>\n",
       "      <td>3:50.07</td>\n",
       "      <td>Genzebe Dibaba</td>\n",
       "      <td>2015-07-17</td>\n",
       "    </tr>\n",
       "  </tbody>\n",
       "</table>\n",
       "<p>14 rows × 3 columns</p>\n",
       "</div>"
      ],
      "text/plain": [
       "       Time                              Athlete        Date\n",
       "0   4:17.3+  Anne Smith (middle-distance runner)  1967-06-03\n",
       "1    4:15.6                        Maria Gommers  1967-10-24\n",
       "2    4:12.4                          Paola Pigni  1969-07-02\n",
       "3    4:10.7                 Jaroslava Jehličková  1969-09-20\n",
       "4    4:09.6                      Karin Burneleit  1971-08-15\n",
       "..      ...                                  ...         ...\n",
       "9    3:56.0                    Tatyana Kazankina  1976-06-28\n",
       "10   3:55.0                    Tatyana Kazankina  1980-07-06\n",
       "11  3:52.47                    Tatyana Kazankina  1980-08-03\n",
       "12  3:50.46                            Qu Yunxia  1993-09-11\n",
       "13  3:50.07                       Genzebe Dibaba  2015-07-17\n",
       "\n",
       "[14 rows x 3 columns]"
      ]
     },
     "execution_count": 28,
     "metadata": {},
     "output_type": "execute_result"
    }
   ],
   "source": [
    "record_progression = pd.DataFrame({\"Time\" : soup_times_processed, \"Athlete\" : soup_names, \"Date\" : soup_dates_processed})\n",
    "record_progression"
   ]
  },
  {
   "cell_type": "markdown",
   "metadata": {
    "deletable": false,
    "editable": false,
    "nbgrader": {
     "cell_type": "markdown",
     "checksum": "c8038d75bfec07be5a451138c3f0dc2a",
     "grade": false,
     "grade_id": "cell-175068bd87390c4e",
     "locked": true,
     "schema_version": 3,
     "solution": false,
     "task": false
    }
   },
   "source": [
    "### Question 3\n",
    "\n",
    "XPath is a language designed for locating content in HTML. We can use XPath in Python through the `lxml` package. Working with XPath is like working with paths to folders and files. "
   ]
  },
  {
   "cell_type": "code",
   "execution_count": 29,
   "metadata": {
    "deletable": false,
    "editable": false,
    "nbgrader": {
     "cell_type": "code",
     "checksum": "d853d908d2db506c797935cd034e4577",
     "grade": false,
     "grade_id": "cell-001346bffc893950",
     "locked": true,
     "schema_version": 3,
     "solution": false,
     "task": false
    }
   },
   "outputs": [
    {
     "data": {
      "text/plain": [
       "<Element html at 0x7f7646faa3b0>"
      ]
     },
     "execution_count": 29,
     "metadata": {},
     "output_type": "execute_result"
    }
   ],
   "source": [
    "dom = lxml.html.document_fromstring(response.content) \n",
    "dom"
   ]
  },
  {
   "cell_type": "markdown",
   "metadata": {
    "deletable": false,
    "editable": false,
    "nbgrader": {
     "cell_type": "markdown",
     "checksum": "f3d7c43b8c695ef3feb77fba9e60d9ed",
     "grade": false,
     "grade_id": "cell-2622427e5cb508fc",
     "locked": true,
     "schema_version": 3,
     "solution": false,
     "task": false
    }
   },
   "source": [
    "However, with XPath \n",
    "\n",
    "+ we can obtain multiple elements in one search\n",
    "+ we can filter elements based on different conditions \n",
    "\n",
    "We can search the Document Object Model (DOM), which is the tree-like structure resembling the organization of HTML."
   ]
  },
  {
   "cell_type": "code",
   "execution_count": 30,
   "metadata": {
    "deletable": false,
    "editable": false,
    "nbgrader": {
     "cell_type": "code",
     "checksum": "587ec5eea7e89f4a971dc1b58e8d65d1",
     "grade": false,
     "grade_id": "cell-05f3a39e964307b2",
     "locked": true,
     "schema_version": 3,
     "solution": false,
     "task": false
    }
   },
   "outputs": [
    {
     "data": {
      "text/plain": [
       "<Element body at 0x7f7646faa8f0>"
      ]
     },
     "execution_count": 30,
     "metadata": {},
     "output_type": "execute_result"
    }
   ],
   "source": [
    "body = dom.find(\"body\")\n",
    "body"
   ]
  },
  {
   "cell_type": "markdown",
   "metadata": {
    "deletable": false,
    "editable": false,
    "nbgrader": {
     "cell_type": "markdown",
     "checksum": "6aebcd355805d37b5d153e0ff03524ea",
     "grade": false,
     "grade_id": "cell-77bee85f58dbd7f0",
     "locked": true,
     "schema_version": 3,
     "solution": false,
     "task": false
    }
   },
   "source": [
    "Like with the `bs4` package, we could use `find` and `getchildren()` to locate information. "
   ]
  },
  {
   "cell_type": "code",
   "execution_count": 31,
   "metadata": {
    "deletable": false,
    "editable": false,
    "nbgrader": {
     "cell_type": "code",
     "checksum": "58bdb07c58388b0e3c16477624f003e2",
     "grade": false,
     "grade_id": "cell-1ff8ebc4d97b5ce3",
     "locked": true,
     "schema_version": 3,
     "solution": false,
     "task": false
    }
   },
   "outputs": [
    {
     "data": {
      "text/plain": [
       "[<Element div at 0x7f764701d710>,\n",
       " <Element div at 0x7f7646faa470>,\n",
       " <Element div at 0x7f7646faac50>,\n",
       " <Element div at 0x7f7646faacb0>,\n",
       " <Element footer at 0x7f7646faad10>,\n",
       " <Element script at 0x7f7646faad70>,\n",
       " <Element script at 0x7f7646faadd0>,\n",
       " <Element script at 0x7f7646faae30>,\n",
       " <Element script at 0x7f7646faae90>]"
      ]
     },
     "execution_count": 31,
     "metadata": {},
     "output_type": "execute_result"
    }
   ],
   "source": [
    "body.getchildren()"
   ]
  },
  {
   "cell_type": "markdown",
   "metadata": {
    "deletable": false,
    "editable": false,
    "nbgrader": {
     "cell_type": "markdown",
     "checksum": "29a0c7449aaab877b4f3a0400510cbfe",
     "grade": false,
     "grade_id": "cell-e9c7473ad8ac8155",
     "locked": true,
     "schema_version": 3,
     "solution": false,
     "task": false
    }
   },
   "source": [
    "However, we will focus on using XPath expressions. We can search locations with three components:\n",
    "\n",
    "+ axis: direction to search such as down one level to children, up one level to parent, etc.\n",
    "+ element information: usually the tag of an element\n",
    "+ logical expression: an optional condition to filter the elements\n",
    "\n",
    "The expression takes the form \n",
    "\n",
    "> `axis/element information[logical expression]`\n",
    "\n",
    "We combine these expressions to search for locations. We separate the expression with forward slash `/`. We tend to use the following axes\n",
    "\n",
    "+ child: default \n",
    "+ descendents: // \n",
    "+ self: . \n",
    "+ parent: ..\n",
    "+ root: /\n",
    "\n",
    "We want to explore three ways to access the table on Wikipeida with XPath.\n",
    "\n",
    "#### Question 3.1\n",
    "\n",
    "We want the fourth table on the website. We can search from the root for the tag `table`. "
   ]
  },
  {
   "cell_type": "code",
   "execution_count": 32,
   "metadata": {
    "deletable": false,
    "editable": false,
    "nbgrader": {
     "cell_type": "code",
     "checksum": "f7f531e6776b34fd20b505846790ca9e",
     "grade": false,
     "grade_id": "cell-b125e2df18657aff",
     "locked": true,
     "schema_version": 3,
     "solution": false,
     "task": false
    }
   },
   "outputs": [],
   "source": [
    "table_31 = dom.xpath(\"//table[4]\")"
   ]
  },
  {
   "cell_type": "markdown",
   "metadata": {
    "deletable": false,
    "editable": false,
    "nbgrader": {
     "cell_type": "markdown",
     "checksum": "187d207270916988c6147bffad2a3134",
     "grade": false,
     "grade_id": "cell-fc2717346cb54342",
     "locked": true,
     "schema_version": 3,
     "solution": false,
     "task": false
    }
   },
   "source": [
    "We need to select the fourth table from among the six tables. We use the XPath expression `//table[2]`. Note that \n",
    "\n",
    "+ the axis \"//\" stands for all nodes down from the root of the tree\n",
    "+ the element information is the tag `table`\n",
    "+ the logical expression filters the six tables to give the fourth table"
   ]
  },
  {
   "cell_type": "code",
   "execution_count": 33,
   "metadata": {
    "deletable": false,
    "editable": false,
    "nbgrader": {
     "cell_type": "code",
     "checksum": "f532913fabebc4ba19ab79666bdbc9b2",
     "grade": false,
     "grade_id": "cell-d8cddebd06561ddf",
     "locked": true,
     "schema_version": 3,
     "solution": false,
     "task": false
    }
   },
   "outputs": [
    {
     "data": {
      "text/plain": [
       "b'<table class=\"wikitable sortable\" style=\"font-size:95%; text-align:center;\">\\n<tbody><tr>\\n<th>Time</th>\\n<th>Auto</th>\\n<th>Athlete</th>\\n<th>Date</th>\\n<th>Place\\n</th></tr>\\n<tr>\\n<td><b>4:17.3+</b>\\n</td>\\n<td>\\n</td>\\n<td align=\"left\"><span class=\"flagicon\"><img alt=\"\" src=\"//upload.wikimedia.org/wikipedia/en/thumb/a/ae/Flag_of_the_United_Kingdom.svg/23px-Flag_of_the_United_Kingdom.svg.png\" decoding=\"async\" width=\"23\" height=\"12\" class=\"thumbborder\" srcset=\"//upload.wikimedia.org/wikipedia/en/thumb/a/ae/Flag_of_the_United_Kingdom.svg/35px-Flag_of_the_United_Kingdom.svg.png 1.5x, //upload.wikimedia.org/wikipedia/en/thumb/a/ae/Flag_of_the_United_Kingdom.svg/46px-Flag_of_the_United_Kingdom.svg.png 2x\" data-file-width=\"1200\" data-file-height=\"600\">&#16'"
      ]
     },
     "execution_count": 33,
     "metadata": {},
     "output_type": "execute_result"
    }
   ],
   "source": [
    "lxml.html.tostring(table_31[0])[:750]"
   ]
  },
  {
   "cell_type": "markdown",
   "metadata": {
    "deletable": false,
    "editable": false,
    "nbgrader": {
     "cell_type": "markdown",
     "checksum": "0a4deb481de59323a0add3c8cf71f2ce",
     "grade": false,
     "grade_id": "cell-7ba2f6b660883dae",
     "locked": true,
     "schema_version": 3,
     "solution": false,
     "task": false
    }
   },
   "source": [
    "__True or False__ We obtain the same results from the expression `/table[4]`."
   ]
  },
  {
   "cell_type": "code",
   "execution_count": null,
   "metadata": {
    "deletable": false,
    "nbgrader": {
     "cell_type": "code",
     "checksum": "8b85f8d487c3b38a0993f0a7f7c63835",
     "grade": false,
     "grade_id": "cell-279be3df84e09338",
     "locked": false,
     "schema_version": 3,
     "solution": true,
     "task": false
    }
   },
   "outputs": [],
   "source": [
    "q3_1 = False\n",
    "\n",
    "# YOUR CODE HERE\n",
    "#raise NotImplementedError()"
   ]
  },
  {
   "cell_type": "code",
   "execution_count": null,
   "metadata": {
    "deletable": false,
    "editable": false,
    "nbgrader": {
     "cell_type": "code",
     "checksum": "22eca273c26a20795c75046ac3e0571f",
     "grade": true,
     "grade_id": "cell-191df854520d2516",
     "locked": true,
     "points": 1,
     "schema_version": 3,
     "solution": false,
     "task": false
    }
   },
   "outputs": [],
   "source": [
    "# TEST \n",
    "\n",
    "assert q3_1 in [True, False]\n"
   ]
  },
  {
   "cell_type": "markdown",
   "metadata": {
    "deletable": false,
    "editable": false,
    "nbgrader": {
     "cell_type": "markdown",
     "checksum": "d37ec0ed7ecb31b3d84b4b17e8855eff",
     "grade": false,
     "grade_id": "cell-7f3124e809e6b975",
     "locked": true,
     "schema_version": 3,
     "solution": false,
     "task": false
    }
   },
   "source": [
    "#### Question 3.2\n",
    "\n",
    "In Question 3.1, we had to rely on the position of the table on the website. Instead, we can locate the table from contents. \n",
    "\n",
    "We know that the table contains a row containing `Maria Gommers`. The name appears the `title` attribute of a link meaning an element with tag `a`."
   ]
  },
  {
   "cell_type": "code",
   "execution_count": 34,
   "metadata": {
    "deletable": false,
    "editable": false,
    "nbgrader": {
     "cell_type": "code",
     "checksum": "8a57f59c26eb38054afa2fe6a91d42d2",
     "grade": false,
     "grade_id": "cell-0bad3c1e2a24aabd",
     "locked": true,
     "schema_version": 3,
     "solution": false,
     "task": false
    }
   },
   "outputs": [],
   "source": [
    "table_32 = dom.xpath('//table[./tbody/tr/td/a/@title=\"Maria Gommers\"]')"
   ]
  },
  {
   "cell_type": "markdown",
   "metadata": {
    "deletable": false,
    "editable": false,
    "nbgrader": {
     "cell_type": "markdown",
     "checksum": "818e85207ff571d03a775493b6483b83",
     "grade": false,
     "grade_id": "cell-69a361f588d9785e",
     "locked": true,
     "schema_version": 3,
     "solution": false,
     "task": false
    }
   },
   "source": [
    "We can use the XPath expression \n",
    "\n",
    "`//table[./tbody/tr/td/a/@title=\"Maria Gommers\"]`\n",
    "\n",
    "We have three components \n",
    "\n",
    "+ the axis \"//\" stands for all descendents of root\n",
    "+ the element information is the tag `table`\n",
    "+ the logical expression indicates\n",
    "    + go to the child `tbody` then \n",
    "    + to the children `tr` then \n",
    "    + to children `td` then \n",
    "    + to children `a` and finally \n",
    "    + to the attribute of `a` called `title`\n",
    "    \n",
    "We specify the value `Maria Gommers` for the value of the attribute."
   ]
  },
  {
   "cell_type": "code",
   "execution_count": 35,
   "metadata": {
    "deletable": false,
    "editable": false,
    "nbgrader": {
     "cell_type": "code",
     "checksum": "1a83276a430389e5d0c3fbf92f2aa9c6",
     "grade": false,
     "grade_id": "cell-41eca1d5c40ce449",
     "locked": true,
     "schema_version": 3,
     "solution": false,
     "task": false
    }
   },
   "outputs": [
    {
     "data": {
      "text/plain": [
       "b'<table class=\"wikitable sortable\" style=\"font-size:95%; text-align:center;\">\\n<tbody><tr>\\n<th>Time</th>\\n<th>Auto</th>\\n<th>Athlete</th>\\n<th>Date</th>\\n<th>Place\\n</th></tr>\\n<tr>\\n<td><b>4:17.3+</b>\\n</td>\\n<td>\\n</td>\\n<td align=\"left\"><span class=\"flagicon\"><img alt=\"\" src=\"//upload.wikimedia.org/wikipedia/en/thumb/a/ae/Flag_of_the_United_Kingdom.svg/23px-Flag_of_the_United_Kingdom.svg.png\" decoding=\"async\" width=\"23\" height=\"12\" class=\"thumbborder\" srcset=\"//upload.wikimedia.org/wikipedia/en/thumb/a/ae/Flag_of_the_United_Kingdom.svg/35px-Flag_of_the_United_Kingdom.svg.png 1.5x, //upload.wikimedia.org/wikipedia/en/thumb/a/ae/Flag_of_the_United_Kingdom.svg/46px-Flag_of_the_United_Kingdom.svg.png 2x\" data-file-width=\"1200\" data-file-height=\"600\">&#16'"
      ]
     },
     "execution_count": 35,
     "metadata": {},
     "output_type": "execute_result"
    }
   ],
   "source": [
    "lxml.html.tostring(table_32[0])[:750]"
   ]
  },
  {
   "cell_type": "markdown",
   "metadata": {
    "deletable": false,
    "editable": false,
    "nbgrader": {
     "cell_type": "markdown",
     "checksum": "944f485613e0d257ce0962f4aa7a5cf8",
     "grade": false,
     "grade_id": "cell-ed437d7d3096231e",
     "locked": true,
     "schema_version": 3,
     "solution": false,
     "task": false
    }
   },
   "source": [
    "__True or False__ We obtain the same results from the expression \n",
    "\n",
    "`//table[.//a/@title=\"Maria Gommers\"]` \n",
    "\n",
    "Here the three components are\n",
    "\n",
    "+ the axis `//` stands for any descendant of root\n",
    "+ the element information `table` means any element with tag `table`\n",
    "+ logical expression indicates \n",
    "    + go to the current table then\n",
    "    + go to all descendants then\n",
    "    + go to children with tag `a` and  \n",
    "    + filter by `title` attribute \n",
    "    \n",
    "We specify the value `Maria Gommers` for the value of the attribute."
   ]
  },
  {
   "cell_type": "code",
   "execution_count": null,
   "metadata": {
    "deletable": false,
    "nbgrader": {
     "cell_type": "code",
     "checksum": "32d613906d7bb3838e25e00dbf7b20cb",
     "grade": false,
     "grade_id": "cell-73183479f5c16773",
     "locked": false,
     "schema_version": 3,
     "solution": true,
     "task": false
    }
   },
   "outputs": [],
   "source": [
    "q3_2 = True\n",
    "\n",
    "# YOUR CODE HERE\n",
    "#raise NotImplementedError()"
   ]
  },
  {
   "cell_type": "code",
   "execution_count": null,
   "metadata": {
    "deletable": false,
    "editable": false,
    "nbgrader": {
     "cell_type": "code",
     "checksum": "5cee6a5a82a72a78a497745c595c3253",
     "grade": true,
     "grade_id": "cell-d848fcaf8c6ad49a",
     "locked": true,
     "points": 1,
     "schema_version": 3,
     "solution": false,
     "task": false
    }
   },
   "outputs": [],
   "source": [
    "# TEST \n",
    "\n",
    "assert q3_2 in [True, False]\n"
   ]
  },
  {
   "cell_type": "markdown",
   "metadata": {
    "deletable": false,
    "editable": false,
    "nbgrader": {
     "cell_type": "markdown",
     "checksum": "2ab7c7926cb94bc1f1dc187b114fb9b1",
     "grade": false,
     "grade_id": "cell-1ee60f7358c29050",
     "locked": true,
     "schema_version": 3,
     "solution": false,
     "task": false
    }
   },
   "source": [
    "#### Question 3.3\n",
    "\n",
    "An alternative approach to Question 3.2 involves \n",
    "\n",
    "- traveling down the descendants of the table \n",
    "- to locate the element with tag `a` tag \n",
    "- containing the `title` attribute \n",
    "- and then reversing back up to the table element. "
   ]
  },
  {
   "cell_type": "code",
   "execution_count": 36,
   "metadata": {
    "deletable": false,
    "editable": false,
    "nbgrader": {
     "cell_type": "code",
     "checksum": "de37f664618f3172835daf24fa9dea1f",
     "grade": false,
     "grade_id": "cell-bca200d29642dfa1",
     "locked": true,
     "schema_version": 3,
     "solution": false,
     "task": false
    }
   },
   "outputs": [],
   "source": [
    "table_33 = dom.xpath('//table/tbody/tr/td/a[@title=\"Maria Gommers\"]/../../../..')"
   ]
  },
  {
   "cell_type": "markdown",
   "metadata": {
    "deletable": false,
    "editable": false,
    "nbgrader": {
     "cell_type": "markdown",
     "checksum": "a71a635483dd4b5a8048de9c645c042e",
     "grade": false,
     "grade_id": "cell-edb3e073f15d62b3",
     "locked": true,
     "schema_version": 3,
     "solution": false,
     "task": false
    }
   },
   "source": [
    "We can use the XPath expression\n",
    "\n",
    "`//table/tbody/tr/td/a[@title=\"Maria Gommers\"]/../../../..`\n",
    "\n",
    "We have several steps\n",
    "\n",
    "+ go to all descendents of roo\n",
    "+ go to the child `tbody` then \n",
    "+ to the children `tr` then \n",
    "+ to children `td` then \n",
    "+ to children `a` \n",
    "+ filter by `title` attribute with value \"Maria Gommers\" and then \n",
    "+ go to `a` element's parent then\n",
    "+ go to `a` element's grandparent then  \n",
    "+ go to `a` element's great-grandparent then\n",
    "+ go to `a` element's great-great-grandparent \n",
    "\n",
    "We know that only one table will have `Maria Gommers`."
   ]
  },
  {
   "cell_type": "code",
   "execution_count": 37,
   "metadata": {
    "deletable": false,
    "editable": false,
    "nbgrader": {
     "cell_type": "code",
     "checksum": "c5fde46f608761ac257ca4a03ca54777",
     "grade": false,
     "grade_id": "cell-1c05807e25323042",
     "locked": true,
     "schema_version": 3,
     "solution": false,
     "task": false
    }
   },
   "outputs": [
    {
     "data": {
      "text/plain": [
       "b'<table class=\"wikitable sortable\" style=\"font-size:95%; text-align:center;\">\\n<tbody><tr>\\n<th>Time</th>\\n<th>Auto</th>\\n<th>Athlete</th>\\n<th>Date</th>\\n<th>Place\\n</th></tr>\\n<tr>\\n<td><b>4:17.3+</b>\\n</td>\\n<td>\\n</td>\\n<td align=\"left\"><span class=\"flagicon\"><img alt=\"\" src=\"//upload.wikimedia.org/wikipedia/en/thumb/a/ae/Flag_of_the_United_Kingdom.svg/23px-Flag_of_the_United_Kingdom.svg.png\" decoding=\"async\" width=\"23\" height=\"12\" class=\"thumbborder\" srcset=\"//upload.wikimedia.org/wikipedia/en/thumb/a/ae/Flag_of_the_United_Kingdom.svg/35px-Flag_of_the_United_Kingdom.svg.png 1.5x, //upload.wikimedia.org/wikipedia/en/thumb/a/ae/Flag_of_the_United_Kingdom.svg/46px-Flag_of_the_United_Kingdom.svg.png 2x\" data-file-width=\"1200\" data-file-height=\"600\">&#16'"
      ]
     },
     "execution_count": 37,
     "metadata": {},
     "output_type": "execute_result"
    }
   ],
   "source": [
    "lxml.html.tostring(table_33[0])[:750]"
   ]
  },
  {
   "cell_type": "markdown",
   "metadata": {
    "deletable": false,
    "editable": false,
    "nbgrader": {
     "cell_type": "markdown",
     "checksum": "f0f8b12c828ce06251adc116da1badd2",
     "grade": false,
     "grade_id": "cell-4297af1c13139cae",
     "locked": true,
     "schema_version": 3,
     "solution": false,
     "task": false
    }
   },
   "source": [
    "__True or False__ We obtain the same results from the expression \n",
    "\n",
    "`//a[@title=\"Maria Gommers\"]/../../../..` \n",
    "\n",
    "Here the three components are\n",
    "\n",
    "+ the axis `//` stands for any descendant of root\n",
    "+ the element information `a` means any element with tag `a`\n",
    "+ logical expression indicates the `title` attribute has value `Maria Gommer`\n",
    "    \n",
    "We go up four levels from the location using `..`."
   ]
  },
  {
   "cell_type": "code",
   "execution_count": null,
   "metadata": {
    "deletable": false,
    "nbgrader": {
     "cell_type": "code",
     "checksum": "40c022647f0d4d665330affc693cb036",
     "grade": false,
     "grade_id": "cell-b4c7794d1398cbf4",
     "locked": false,
     "schema_version": 3,
     "solution": true,
     "task": false
    }
   },
   "outputs": [],
   "source": [
    "q3_3 = True\n",
    "\n",
    "# YOUR CODE HERE\n",
    "#raise NotImplementedError()"
   ]
  },
  {
   "cell_type": "code",
   "execution_count": null,
   "metadata": {
    "deletable": false,
    "editable": false,
    "nbgrader": {
     "cell_type": "code",
     "checksum": "2154eddf918ff3d271352a73eb7cb7c2",
     "grade": true,
     "grade_id": "cell-ce7edb44b9a85323",
     "locked": true,
     "points": 1,
     "schema_version": 3,
     "solution": false,
     "task": false
    }
   },
   "outputs": [],
   "source": [
    "# TEST \n",
    "\n",
    "assert q3_3 in [True, False]\n"
   ]
  },
  {
   "cell_type": "markdown",
   "metadata": {
    "deletable": false,
    "editable": false,
    "nbgrader": {
     "cell_type": "markdown",
     "checksum": "7724d9ec82fb628520139f97bf0118a7",
     "grade": false,
     "grade_id": "cell-38fb6ef0612b8247",
     "locked": true,
     "schema_version": 3,
     "solution": false,
     "task": false
    }
   },
   "source": [
    "### Question 4\n",
    "\n",
    "Whether we use `pandas` or `bs4` or `lxml`, we can parse the data from the website. Before we generate the chart, we need to continue processing the `record_progression` table from Question 2.\n",
    " \n",
    "#### Question 4.1 \n",
    "\n",
    "We want to process the entries in two columns.\n",
    "\n",
    "+ `Time`:\n",
    "    + we want to convert the strings from the format minute:second to seconds. For example, we can convert 3:55.8 to  180+55.8 = 235.8 seconds  \n",
    "    + a few of the rows have +-signs in the race time fields\n",
    "+ `Date`: we want to transform to a `datetime` data type \n"
   ]
  },
  {
   "cell_type": "code",
   "execution_count": 38,
   "metadata": {
    "deletable": false,
    "editable": false,
    "nbgrader": {
     "cell_type": "code",
     "checksum": "0bb2da052b45844a35afe878ece41da1",
     "grade": false,
     "grade_id": "cell-765ba72f5ab98f7d",
     "locked": true,
     "schema_version": 3,
     "solution": false,
     "task": false
    }
   },
   "outputs": [],
   "source": [
    "record_progression[\"Time\"] = record_progression[\"Time\"].str.replace(\"+\", \"\")"
   ]
  },
  {
   "cell_type": "markdown",
   "metadata": {
    "deletable": false,
    "editable": false,
    "nbgrader": {
     "cell_type": "markdown",
     "checksum": "18a87fa88011d9632694c705d0de9c50",
     "grade": false,
     "grade_id": "cell-6a1a22ee5f01801c",
     "locked": true,
     "schema_version": 3,
     "solution": false,
     "task": false
    }
   },
   "source": [
    "Here we have removed the character `+`. Next we can split the time at the character `:`."
   ]
  },
  {
   "cell_type": "code",
   "execution_count": 39,
   "metadata": {
    "deletable": false,
    "editable": false,
    "nbgrader": {
     "cell_type": "code",
     "checksum": "34d5758f113fc4a818ea5749c4dde9fc",
     "grade": false,
     "grade_id": "cell-7e3117136c6237e4",
     "locked": true,
     "schema_version": 3,
     "solution": false,
     "task": false
    }
   },
   "outputs": [],
   "source": [
    "time_split = record_progression[\"Time\"].str.split(r':')\n",
    "\n",
    "record_progression['Time Seconds'] = 60 * time_split.str[0].astype(float) +  time_split.str[1].astype(float)"
   ]
  },
  {
   "cell_type": "markdown",
   "metadata": {
    "deletable": false,
    "editable": false,
    "nbgrader": {
     "cell_type": "markdown",
     "checksum": "2f2f310c7f5159ce4b5f6acbe46668f4",
     "grade": false,
     "grade_id": "cell-6d1bab6f6e31bd5f",
     "locked": true,
     "schema_version": 3,
     "solution": false,
     "task": false
    }
   },
   "source": [
    "We can convert the strings to numbers to add the seconds."
   ]
  },
  {
   "cell_type": "code",
   "execution_count": 40,
   "metadata": {
    "deletable": false,
    "editable": false,
    "nbgrader": {
     "cell_type": "code",
     "checksum": "55193dad2cf51d639634767e5a994838",
     "grade": false,
     "grade_id": "cell-f9bc2304a1af6bcf",
     "locked": true,
     "schema_version": 3,
     "solution": false,
     "task": false
    }
   },
   "outputs": [
    {
     "data": {
      "text/html": [
       "<div>\n",
       "<style scoped>\n",
       "    .dataframe tbody tr th:only-of-type {\n",
       "        vertical-align: middle;\n",
       "    }\n",
       "\n",
       "    .dataframe tbody tr th {\n",
       "        vertical-align: top;\n",
       "    }\n",
       "\n",
       "    .dataframe thead th {\n",
       "        text-align: right;\n",
       "    }\n",
       "</style>\n",
       "<table border=\"1\" class=\"dataframe\">\n",
       "  <thead>\n",
       "    <tr style=\"text-align: right;\">\n",
       "      <th></th>\n",
       "      <th>Time</th>\n",
       "      <th>Athlete</th>\n",
       "      <th>Date</th>\n",
       "      <th>Time Seconds</th>\n",
       "    </tr>\n",
       "  </thead>\n",
       "  <tbody>\n",
       "    <tr>\n",
       "      <th>0</th>\n",
       "      <td>4:17.3</td>\n",
       "      <td>Anne Smith (middle-distance runner)</td>\n",
       "      <td>1967-06-03</td>\n",
       "      <td>257.3</td>\n",
       "    </tr>\n",
       "    <tr>\n",
       "      <th>1</th>\n",
       "      <td>4:15.6</td>\n",
       "      <td>Maria Gommers</td>\n",
       "      <td>1967-10-24</td>\n",
       "      <td>255.6</td>\n",
       "    </tr>\n",
       "    <tr>\n",
       "      <th>2</th>\n",
       "      <td>4:12.4</td>\n",
       "      <td>Paola Pigni</td>\n",
       "      <td>1969-07-02</td>\n",
       "      <td>252.4</td>\n",
       "    </tr>\n",
       "  </tbody>\n",
       "</table>\n",
       "</div>"
      ],
      "text/plain": [
       "     Time                              Athlete        Date  Time Seconds\n",
       "0  4:17.3  Anne Smith (middle-distance runner)  1967-06-03         257.3\n",
       "1  4:15.6                        Maria Gommers  1967-10-24         255.6\n",
       "2  4:12.4                          Paola Pigni  1969-07-02         252.4"
      ]
     },
     "execution_count": 40,
     "metadata": {},
     "output_type": "execute_result"
    }
   ],
   "source": [
    "record_progression.head(3)"
   ]
  },
  {
   "cell_type": "markdown",
   "metadata": {
    "deletable": false,
    "editable": false,
    "nbgrader": {
     "cell_type": "markdown",
     "checksum": "c4cafeeae7b33cbdc9d5df873432a2a5",
     "grade": false,
     "grade_id": "cell-ae927dd033e3b281",
     "locked": true,
     "schema_version": 3,
     "solution": false,
     "task": false
    }
   },
   "source": [
    "We want to use the `pandas` function `to_datetime` on the `Date` column. Specify the format."
   ]
  },
  {
   "cell_type": "code",
   "execution_count": 41,
   "metadata": {
    "deletable": false,
    "nbgrader": {
     "cell_type": "code",
     "checksum": "feee415df3b3c3a5519c30ef30d22a78",
     "grade": false,
     "grade_id": "cell-ce0d9ffabcd136f8",
     "locked": false,
     "schema_version": 3,
     "solution": true,
     "task": false
    }
   },
   "outputs": [],
   "source": [
    "format = \"%Y-%m-%d\"\n",
    "\n",
    "# YOUR CODE HERE\n",
    "#raise NotImplementedError()\n",
    "\n",
    "record_progression['Date'] = pd.to_datetime(record_progression['Date'], format = format)"
   ]
  },
  {
   "cell_type": "code",
   "execution_count": 42,
   "metadata": {
    "deletable": false,
    "editable": false,
    "nbgrader": {
     "cell_type": "code",
     "checksum": "413a2cf52cd32ab2124bfede76a94c57",
     "grade": true,
     "grade_id": "cell-e34a367f8da47e8f",
     "locked": true,
     "points": 1,
     "schema_version": 3,
     "solution": false,
     "task": false
    }
   },
   "outputs": [],
   "source": [
    "# TEST \n",
    "\n",
    "assert 2015 in set(record_progression[\"Date\"].dt.year)\n"
   ]
  },
  {
   "cell_type": "markdown",
   "metadata": {
    "deletable": false,
    "editable": false,
    "nbgrader": {
     "cell_type": "markdown",
     "checksum": "12282dee23752d892c0c9a2ef93372e6",
     "grade": false,
     "grade_id": "cell-0d543398da14a502",
     "locked": true,
     "schema_version": 3,
     "solution": false,
     "task": false
    }
   },
   "source": [
    "#### Question 4.2\n",
    "\n",
    "Now that we have processed the data, we can make a line-chart to visualize the progression of records. Note that we use the argument `drawstyle` to draw steps between points."
   ]
  },
  {
   "cell_type": "code",
   "execution_count": 43,
   "metadata": {
    "deletable": false,
    "editable": false,
    "nbgrader": {
     "cell_type": "code",
     "checksum": "9f6fcd1a598044066caa2d13d3db3d21",
     "grade": false,
     "grade_id": "cell-81d0a47970f8a445",
     "locked": true,
     "schema_version": 3,
     "solution": false,
     "task": false
    }
   },
   "outputs": [
    {
     "data": {
      "image/png": "[encoded data removed]",
      "text/plain": [
       "<Figure size 720x576 with 1 Axes>"
      ]
     },
     "metadata": {
      "needs_background": "light"
     },
     "output_type": "display_data"
    }
   ],
   "source": [
    "plt.plot(record_progression[\"Date\"], record_progression[\"Time Seconds\"], drawstyle='steps')\n",
    "plt.ylabel(\"Seconds\")\n",
    "plt.xlabel(\"Year\")\n",
    "plt.title(\"Progression of Record Time for 1500 Meter Race\");"
   ]
  }
 ],
 "metadata": {
  "kernelspec": {
   "display_name": "Python [conda env:grade-environment]",
   "language": "python",
   "name": "conda-env-grade-environment-py"
  },
  "language_info": {
   "codemirror_mode": {
    "name": "ipython",
    "version": 3
   },
   "file_extension": ".py",
   "mimetype": "text/x-python",
   "name": "python",
   "nbconvert_exporter": "python",
   "pygments_lexer": "ipython3",
   "version": "3.7.7"
  }
 },
 "nbformat": 4,
 "nbformat_minor": 2
}
