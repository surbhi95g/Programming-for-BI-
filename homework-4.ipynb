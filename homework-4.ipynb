{
 "cells": [
  {
   "cell_type": "markdown",
   "metadata": {
    "deletable": false,
    "editable": false,
    "nbgrader": {
     "cell_type": "markdown",
     "checksum": "d07a2cb9a9b5f70e679a5d40435f37bc",
     "grade": false,
     "grade_id": "cell-80d2c074a80faa82",
     "locked": true,
     "schema_version": 3,
     "solution": false,
     "task": false
    }
   },
   "source": [
    "Homework 4 : Charts\n",
    "\n",
    "\n",
    "In this assignment, we will study charts. We will focus on generating histograms. Along the way, we will learn about rug-plots and density estimates. \n",
    "\n",
    "The questions guide you step-by-step through these approaches. Please post to the homework-4 channel of Slack with any questions. \n"
   ]
  },
  {
   "cell_type": "markdown",
   "metadata": {
    "deletable": false,
    "editable": false,
    "nbgrader": {
     "cell_type": "markdown",
     "checksum": "d910aea9e902ed3c5d22ea4f16ff248c",
     "grade": false,
     "grade_id": "cell-946f429ec7438c5b",
     "locked": true,
     "schema_version": 3,
     "solution": false,
     "task": false
    }
   },
   "source": [
    "### Rubric\n",
    "\n",
    "Question | Points\n",
    "--- | ---\n",
    "Question 0 | 1\n",
    "Question 1.1 | 1\n",
    "Question 1.2 | 1\n",
    "Question 1.3 | 1\n",
    "Question 1.4 | 1\n",
    "Question 2.1 | 1\n",
    "Question 2.2 | 1\n",
    "Question 2.3 | 1\n",
    "Question 3.1 | 1\n",
    "Question 3.2 | 1\n",
    "Total | 10"
   ]
  },
  {
   "cell_type": "markdown",
   "metadata": {
    "deletable": false,
    "editable": false,
    "nbgrader": {
     "cell_type": "markdown",
     "checksum": "8d83374953a202828a4292b284a0211a",
     "grade": false,
     "grade_id": "cell-d16eb9723104d3f7",
     "locked": true,
     "schema_version": 3,
     "solution": false,
     "task": false
    }
   },
   "source": [
    "Here we will study data from the World Bank. The World Bank is an international financial organization that provides loans to governments of developing countries. \n",
    "\n",
    "<img src=\"table.PNG\"  width=\"250\"/>\n",
    "\n",
    "The data contains information for 147 countries about \n",
    "\n",
    "- literacy rate among adult females \n",
    "- gross national income per capita\n",
    "\n",
    "Note that literacy rate is a percentage of females who are fifteen years or older. Note that income is a ratio of US dollars per person adjusted for conversion and inflation. \n",
    "\n",
    "### 0. Load Packages\n",
    "\n",
    "We will be working with the `numpy` package for manipulations of arrays and the `matplotlib` package for generating charts. Along the way, we will use the `seaborn` package which extends the `matplotlib` package through features aimed at data analysis. "
   ]
  },
  {
   "cell_type": "code",
   "execution_count": 2,
   "metadata": {
    "deletable": false,
    "editable": false,
    "nbgrader": {
     "cell_type": "code",
     "checksum": "a566d8ac93e42c0b15d7f7bac160b2ef",
     "grade": false,
     "grade_id": "cell-09dae348d499abb3",
     "locked": true,
     "schema_version": 3,
     "solution": false,
     "task": false
    }
   },
   "outputs": [],
   "source": [
    "import numpy as np\n",
    "import matplotlib.pyplot as plt\n",
    "import seaborn as sns\n",
    "\n",
    "from helper_functions import widget"
   ]
  },
  {
   "cell_type": "code",
   "execution_count": 3,
   "metadata": {
    "deletable": false,
    "editable": false,
    "nbgrader": {
     "cell_type": "code",
     "checksum": "aa4ff9b03721c7deb111d4a19a0e5b4d",
     "grade": true,
     "grade_id": "cell-e6996783dd9a175c",
     "locked": true,
     "points": 0,
     "schema_version": 3,
     "solution": false,
     "task": false
    }
   },
   "outputs": [],
   "source": [
    "# TEST \n",
    "\n",
    "import sys\n",
    "\n",
    "assert \"numpy\" in sys.modules and \"np\" in locals()\n",
    "assert \"matplotlib\" in sys.modules and \"plt\" in locals()\n",
    "assert \"seaborn\" in sys.modules and \"sns\" in locals()\n",
    "assert \"helper_functions\" in sys.modules and \"widget\" in locals()"
   ]
  },
  {
   "cell_type": "markdown",
   "metadata": {
    "deletable": false,
    "editable": false,
    "nbgrader": {
     "cell_type": "markdown",
     "checksum": "5bffb2c62d977bb5023d123603d55107",
     "grade": false,
     "grade_id": "cell-363f766839f91ce6",
     "locked": true,
     "schema_version": 3,
     "solution": false,
     "task": false
    }
   },
   "source": [
    "Import the function `load_data` from the module `helper_functions` to load the data into a variable called `world_bank_table`. Note that the input is the string `\"world_bank.csv\"`."
   ]
  },
  {
   "cell_type": "code",
   "execution_count": 4,
   "metadata": {
    "deletable": false,
    "nbgrader": {
     "cell_type": "code",
     "checksum": "4f3c8889f2af48749bae1b2500e4e134",
     "grade": false,
     "grade_id": "cell-c2c07f92b6e89a1b",
     "locked": false,
     "schema_version": 3,
     "solution": true,
     "task": false
    }
   },
   "outputs": [],
   "source": [
    "from helper_functions import load_data\n",
    "world_bank = load_data(\"world_bank.csv\") \n",
    "\n",
    "# YOUR CODE HERE\n",
    "#raise NotImplementedError()"
   ]
  },
  {
   "cell_type": "code",
   "execution_count": 5,
   "metadata": {
    "deletable": false,
    "editable": false,
    "nbgrader": {
     "cell_type": "code",
     "checksum": "de729f216872dc8ad8c578aa514b46d7",
     "grade": true,
     "grade_id": "cell-f1df7baff3d1d31c",
     "locked": true,
     "points": 1,
     "schema_version": 3,
     "solution": false,
     "task": false
    }
   },
   "outputs": [],
   "source": [
    "# TEST \n",
    "\n",
    "assert world_bank.shape == (147,2)"
   ]
  },
  {
   "cell_type": "markdown",
   "metadata": {
    "deletable": false,
    "editable": false,
    "nbgrader": {
     "cell_type": "markdown",
     "checksum": "8e0ceac4c5746f783a43f33d76d61e6e",
     "grade": false,
     "grade_id": "cell-1792dba18f426e7d",
     "locked": true,
     "schema_version": 3,
     "solution": false,
     "task": false
    }
   },
   "source": [
    "### 1. Generate Histograms\n",
    "\n",
    "Remember that the zeroth column of `world_bank` corresponds to literacy rate and the first column corresponds to income.\n",
    "\n",
    "#### Question 1.1 \n",
    "\n",
    "We want to define a variable called `barchart_data` containing the entries in the first column of `world_bank` as integer numbers. \n",
    "\n",
    "1. Select all of the entries from `world_bank` in the first column. Call the variable `barchart_data`\n",
    "1. Convert the `dtype` to `int`"
   ]
  },
  {
   "cell_type": "code",
   "execution_count": 6,
   "metadata": {
    "deletable": false,
    "nbgrader": {
     "cell_type": "code",
     "checksum": "833b7e50c40b24bdd2ce49f9b4d39b8f",
     "grade": false,
     "grade_id": "cell-c61aa18675c52aae",
     "locked": false,
     "schema_version": 3,
     "solution": true,
     "task": false
    }
   },
   "outputs": [],
   "source": [
    "barchart_data = np.array(world_bank[:,1], dtype = int)\n",
    "\n"
   ]
  },
  {
   "cell_type": "code",
   "execution_count": 7,
   "metadata": {
    "deletable": false,
    "editable": false,
    "nbgrader": {
     "cell_type": "code",
     "checksum": "9d6f09651c79279affa5cd8f4b79868f",
     "grade": true,
     "grade_id": "cell-5160162f4402001b",
     "locked": true,
     "points": 1,
     "schema_version": 3,
     "solution": false,
     "task": false
    }
   },
   "outputs": [],
   "source": [
    "# TEST \n",
    "\n",
    "assert barchart_data.shape == (147,)\n",
    "assert barchart_data.dtype == 'int'\n"
   ]
  },
  {
   "cell_type": "markdown",
   "metadata": {
    "deletable": false,
    "editable": false,
    "nbgrader": {
     "cell_type": "markdown",
     "checksum": "1a82ce4104e32a8c01e586fd138db2d2",
     "grade": false,
     "grade_id": "cell-567052724663269c",
     "locked": true,
     "schema_version": 3,
     "solution": false,
     "task": false
    }
   },
   "source": [
    "Remember the `numpy` function `bincount` from Lab 2. The function counts the number of occurrences of the values in the array."
   ]
  },
  {
   "cell_type": "code",
   "execution_count": 8,
   "metadata": {
    "deletable": false,
    "editable": false,
    "nbgrader": {
     "cell_type": "code",
     "checksum": "fb71e5fc63dd017f239e5ef9ddc97a81",
     "grade": false,
     "grade_id": "cell-285712b5711ad976",
     "locked": true,
     "schema_version": 3,
     "solution": false,
     "task": false
    }
   },
   "outputs": [],
   "source": [
    "barchart_data_counts = np.bincount(barchart_data)"
   ]
  },
  {
   "cell_type": "markdown",
   "metadata": {
    "deletable": false,
    "editable": false,
    "nbgrader": {
     "cell_type": "markdown",
     "checksum": "1c4519819eb78775cde4ccff64f84250",
     "grade": false,
     "grade_id": "cell-aa0abdd5260d296f",
     "locked": true,
     "schema_version": 3,
     "solution": false,
     "task": false
    }
   },
   "source": [
    "Note that `barchart_data_counts` contains 75661 entries ranging from 0 up to 75660 -- the maximum income in the table. "
   ]
  },
  {
   "cell_type": "code",
   "execution_count": 9,
   "metadata": {
    "deletable": false,
    "editable": false,
    "nbgrader": {
     "cell_type": "code",
     "checksum": "1e74479a0e52b4ca9cbf5e444d187ccc",
     "grade": false,
     "grade_id": "cell-e5fd914db1c2d2d4",
     "locked": true,
     "schema_version": 3,
     "solution": false,
     "task": false
    }
   },
   "outputs": [
    {
     "data": {
      "text/plain": [
       "(array([  280,   320,   370,   400,   420,   440,   480,   490,   540,\n",
       "          580,   620,   640,   660,   700,   720,   730,   750,   760,\n",
       "          780,   820,   900,   940,   950,  1040,  1100,  1110,  1120,\n",
       "         1140,  1190,  1200,  1210,  1300,  1330,  1380,  1510,  1520,\n",
       "         1680,  1710,  1730,  2050,  2120,  2140,  2150,  2160,  2180,\n",
       "         2220,  2310,  2450,  2510,  2830,  2850,  2970,  3070,  3170,\n",
       "         3230,  3400,  3440,  3460,  3550,  3580,  3690,  3760,  3780,\n",
       "         3790,  3810,  3920,  4020,  4070,  4100,  4250,  4270,  4450,\n",
       "         4620,  4660,  4760,  4880,  4980,  5280,  5430,  5480,  5600,\n",
       "         5640,  5820,  5950,  6320,  6390,  6530,  6550,  6610,  6670,\n",
       "         6970,  7070,  7210,  7430,  7470,  7680,  8260,  8710,  8840,\n",
       "         9040,  9470,  9720,  9760,  9850, 10840, 11180, 11960, 12110,\n",
       "        12140, 12450, 12570, 12680, 13400, 13530, 14630, 14770, 15230,\n",
       "        15410, 15680, 17750, 18080, 18960, 19850, 21660, 21750, 22750,\n",
       "        23680, 24140, 27520, 27600, 31590, 38520, 40480, 41680, 51880,\n",
       "        64580, 75660]),)"
      ]
     },
     "execution_count": 9,
     "metadata": {},
     "output_type": "execute_result"
    }
   ],
   "source": [
    "np.nonzero(barchart_data_counts)"
   ]
  },
  {
   "cell_type": "markdown",
   "metadata": {
    "deletable": false,
    "editable": false,
    "nbgrader": {
     "cell_type": "markdown",
     "checksum": "c9a62b0c9989a0d8410b9c2cb6a1c6a8",
     "grade": false,
     "grade_id": "cell-ff4b4ec606057881",
     "locked": true,
     "schema_version": 3,
     "solution": false,
     "task": false
    }
   },
   "source": [
    "We learn from the `numpy` function `nonzero` that many of the entries of `barchart_data_counts` are non-zero. Indeed, a bar-chart of the data would contain 137 bars. So we should use a histogram to group the numbers into ranges.\n",
    "\n",
    "#### Question 1.2\n",
    "\n",
    "We can create a histogram with the `matplotlib` function `hist`. We specify `barchart_data` for the data along with 0.95 for `rwidth` to add some space between groups. "
   ]
  },
  {
   "cell_type": "code",
   "execution_count": 10,
   "metadata": {
    "deletable": false,
    "editable": false,
    "nbgrader": {
     "cell_type": "code",
     "checksum": "8ea27c7b06b6bead7844411ce2611b41",
     "grade": false,
     "grade_id": "cell-0276905d64ab7e1c",
     "locked": true,
     "schema_version": 3,
     "solution": false,
     "task": false
    }
   },
   "outputs": [
    {
     "data": {
      "image/png": "[encoded data removed]",
      "text/plain": [
       "<Figure size 432x288 with 1 Axes>"
      ]
     },
     "metadata": {
      "needs_background": "light"
     },
     "output_type": "display_data"
    }
   ],
   "source": [
    "histogram_information = plt.hist(barchart_data, rwidth = 0.95)\n",
    "plt.title(\"Gross National Income Per Capita\");"
   ]
  },
  {
   "cell_type": "markdown",
   "metadata": {
    "deletable": false,
    "editable": false,
    "nbgrader": {
     "cell_type": "markdown",
     "checksum": "4eb7b5e60ece538609c43bce741b42da",
     "grade": false,
     "grade_id": "cell-520e7e9454a955e2",
     "locked": true,
     "schema_version": 3,
     "solution": false,
     "task": false
    }
   },
   "source": [
    "We can adjust the number of groups and the range of values for each group. Since we did not specify any information about the groups, we have the defaults from the `matplotlib` package. "
   ]
  },
  {
   "cell_type": "code",
   "execution_count": 11,
   "metadata": {
    "deletable": false,
    "editable": false,
    "nbgrader": {
     "cell_type": "code",
     "checksum": "5f73abf7c189ff852e67cc3bd1254f81",
     "grade": false,
     "grade_id": "cell-8fee76520013bd96",
     "locked": true,
     "schema_version": 3,
     "solution": false,
     "task": false
    }
   },
   "outputs": [
    {
     "data": {
      "text/plain": [
       "array([  280.,  7818., 15356., 22894., 30432., 37970., 45508., 53046.,\n",
       "       60584., 68122., 75660.])"
      ]
     },
     "execution_count": 11,
     "metadata": {},
     "output_type": "execute_result"
    }
   ],
   "source": [
    "histogram_information[1]"
   ]
  },
  {
   "cell_type": "markdown",
   "metadata": {
    "deletable": false,
    "editable": false,
    "nbgrader": {
     "cell_type": "markdown",
     "checksum": "de35c309c2d297cc70c4bf0a853d1b60",
     "grade": false,
     "grade_id": "cell-87671eb71908d3ae",
     "locked": true,
     "schema_version": 3,
     "solution": false,
     "task": false
    }
   },
   "source": [
    "Here, the ranges have the same size of 7538. For example, the second highest bar corresponds to the range of incomes\n",
    "\n",
    "> (7818, 15356]\n",
    "\n",
    "meaning greater than or equal to 7818 but less than 15356. How many countries have income in this range? Here the height of the bars in the histogram indicate the count of entries in each group. "
   ]
  },
  {
   "cell_type": "code",
   "execution_count": 12,
   "metadata": {
    "deletable": false,
    "nbgrader": {
     "cell_type": "code",
     "checksum": "2ff02fba9ec948f3ea0a8cfbe5030023",
     "grade": false,
     "grade_id": "cell-a04887e426238b91",
     "locked": false,
     "schema_version": 3,
     "solution": true,
     "task": false
    }
   },
   "outputs": [],
   "source": [
    "q12 = histogram_information[0][1]\n",
    "\n",
    "# YOUR CODE HERE\n",
    "#raise NotImplementedError()"
   ]
  },
  {
   "cell_type": "code",
   "execution_count": 13,
   "metadata": {
    "deletable": false,
    "editable": false,
    "nbgrader": {
     "cell_type": "code",
     "checksum": "f02c82cd9ab815dda48cc5c3afbc6e0f",
     "grade": true,
     "grade_id": "cell-8711962c1eff7adc",
     "locked": true,
     "points": 1,
     "schema_version": 3,
     "solution": false,
     "task": false
    }
   },
   "outputs": [],
   "source": [
    "# TEST \n",
    "\n",
    "assert 15 < q12 < 25\n"
   ]
  },
  {
   "cell_type": "markdown",
   "metadata": {
    "deletable": false,
    "editable": false,
    "nbgrader": {
     "cell_type": "markdown",
     "checksum": "87255f6822d86ec1d30ebf0d2f81d6ad",
     "grade": false,
     "grade_id": "cell-5c5ffc94c290b858",
     "locked": true,
     "schema_version": 3,
     "solution": false,
     "task": false
    }
   },
   "source": [
    "#### Question 1.3\n",
    "\n",
    "We can normalize the histogram with the argument `dentisty` of the function `hist`. "
   ]
  },
  {
   "cell_type": "code",
   "execution_count": 14,
   "metadata": {
    "deletable": false,
    "editable": false,
    "nbgrader": {
     "cell_type": "code",
     "checksum": "b4f02b112394aaa028578cbe69b4517f",
     "grade": false,
     "grade_id": "cell-3bde0bc70cd765ae",
     "locked": true,
     "schema_version": 3,
     "solution": false,
     "task": false
    }
   },
   "outputs": [
    {
     "data": {
      "image/png": "[encoded data removed]",
      "text/plain": [
       "<Figure size 432x288 with 1 Axes>"
      ]
     },
     "metadata": {
      "needs_background": "light"
     },
     "output_type": "display_data"
    }
   ],
   "source": [
    "histogram_information = plt.hist(barchart_data, rwidth = 0.95, density = True)\n",
    "plt.title(\"Gross National Income Per Capita\");"
   ]
  },
  {
   "cell_type": "markdown",
   "metadata": {
    "deletable": false,
    "editable": false,
    "nbgrader": {
     "cell_type": "markdown",
     "checksum": "72833382594c575e5ce67438d4608eb6",
     "grade": false,
     "grade_id": "cell-def073165d7c1693",
     "locked": true,
     "schema_version": 3,
     "solution": false,
     "task": false
    }
   },
   "source": [
    "Here the area of the bars in the histogram indicate the proportion of entries in the group. The ranges have the same size of 7538. For example, the second highest bar corresponds to the range of incomes\n",
    "\n",
    "> (7818, 15356]\n",
    "\n",
    "Approximately, what fraction of countries have income in this range? Ensure that your answer to Question 1.3 is consistent with your answer to Question 1.2."
   ]
  },
  {
   "cell_type": "code",
   "execution_count": 15,
   "metadata": {
    "deletable": false,
    "nbgrader": {
     "cell_type": "code",
     "checksum": "5dfc3210b1a10f33b6bac2619742ef27",
     "grade": false,
     "grade_id": "cell-175332b61843adda",
     "locked": false,
     "schema_version": 3,
     "solution": true,
     "task": false
    }
   },
   "outputs": [],
   "source": [
    "q1_3 = histogram_information[0][1]*(histogram_information[1][2]-histogram_information[1][1])\n",
    "\n",
    "#q1_3 - Validate once before submitting\n",
    "\n",
    "# YOUR CODE HERE\n",
    "#raise NotImplementedError()"
   ]
  },
  {
   "cell_type": "code",
   "execution_count": 16,
   "metadata": {
    "deletable": false,
    "editable": false,
    "nbgrader": {
     "cell_type": "code",
     "checksum": "c9f6f47c8d96fe3203c779282139c800",
     "grade": true,
     "grade_id": "cell-9a0b039247404fdc",
     "locked": true,
     "points": 1,
     "schema_version": 3,
     "solution": false,
     "task": false
    }
   },
   "outputs": [],
   "source": [
    "# TEST \n",
    "\n",
    "assert 0.1 < q1_3 < 0.2\n"
   ]
  },
  {
   "cell_type": "markdown",
   "metadata": {
    "deletable": false,
    "editable": false,
    "nbgrader": {
     "cell_type": "markdown",
     "checksum": "3234ee40d75e1543bfaf7ec6e1267aab",
     "grade": false,
     "grade_id": "cell-6f50a61e4270365a",
     "locked": true,
     "schema_version": 3,
     "solution": false,
     "task": false
    }
   },
   "source": [
    "#### Question 1.4\n",
    "\n",
    "Note that the data is skewed by large outliers. We can transform the data to a smaller range with the logarithm function. "
   ]
  },
  {
   "cell_type": "code",
   "execution_count": 17,
   "metadata": {
    "deletable": false,
    "editable": false,
    "nbgrader": {
     "cell_type": "code",
     "checksum": "bc22960556dad4285fbc15f06a5ffcb7",
     "grade": false,
     "grade_id": "cell-dbe9fc9fc79062e1",
     "locked": true,
     "schema_version": 3,
     "solution": false,
     "task": false
    }
   },
   "outputs": [
    {
     "data": {
      "text/plain": [
       "5.0"
      ]
     },
     "execution_count": 17,
     "metadata": {},
     "output_type": "execute_result"
    }
   ],
   "source": [
    "np.log10(10**5)"
   ]
  },
  {
   "cell_type": "markdown",
   "metadata": {
    "deletable": false,
    "editable": false,
    "nbgrader": {
     "cell_type": "markdown",
     "checksum": "b9494f3c1c1a321ba21e8cad9f1662ae",
     "grade": false,
     "grade_id": "cell-058710d3803626d9",
     "locked": true,
     "schema_version": 3,
     "solution": false,
     "task": false
    }
   },
   "source": [
    "Note that the logarithm of a number $x$ is the exponent $y$ in $10^y$ such that $$x = 10^y \\ .$$ So the logarithm function transforms large numbers to small numbers. \n",
    "\n",
    "Apply the `numpy` function `log10` to the entries of `barchart_data`. Call the variable `barchart_data_log`"
   ]
  },
  {
   "cell_type": "code",
   "execution_count": 18,
   "metadata": {
    "deletable": false,
    "nbgrader": {
     "cell_type": "code",
     "checksum": "1c145edae9b1065035bd12e9e273b4d8",
     "grade": false,
     "grade_id": "cell-2c33f491aac3210e",
     "locked": false,
     "schema_version": 3,
     "solution": true,
     "task": false
    }
   },
   "outputs": [],
   "source": [
    "barchart_data_log = np.log10(barchart_data)\n",
    "\n",
    "# YOUR CODE HERE\n",
    "#raise NotImplementedError()"
   ]
  },
  {
   "cell_type": "code",
   "execution_count": 19,
   "metadata": {
    "deletable": false,
    "editable": false,
    "nbgrader": {
     "cell_type": "code",
     "checksum": "53945f6557adfaf2326e27adf95398f1",
     "grade": true,
     "grade_id": "cell-4244683d26480c00",
     "locked": true,
     "points": 1,
     "schema_version": 3,
     "solution": false,
     "task": false
    }
   },
   "outputs": [],
   "source": [
    "# TEST \n",
    "\n",
    "assert barchart_data_log.shape == (147,)\n"
   ]
  },
  {
   "cell_type": "markdown",
   "metadata": {
    "deletable": false,
    "editable": false,
    "nbgrader": {
     "cell_type": "markdown",
     "checksum": "32b50fdaf9143438225d5bfb01c17ad8",
     "grade": false,
     "grade_id": "cell-e45f7d4722204fa3",
     "locked": true,
     "schema_version": 3,
     "solution": false,
     "task": false
    }
   },
   "source": [
    "Now the histogram looks less skewed."
   ]
  },
  {
   "cell_type": "code",
   "execution_count": 20,
   "metadata": {
    "deletable": false,
    "editable": false,
    "nbgrader": {
     "cell_type": "code",
     "checksum": "1eb41f6125cf2abc29edc1862708c843",
     "grade": false,
     "grade_id": "cell-45cd579634b29f47",
     "locked": true,
     "schema_version": 3,
     "solution": false,
     "task": false
    }
   },
   "outputs": [
    {
     "data": {
      "image/png": "[encoded data removed]",
      "text/plain": [
       "<Figure size 432x288 with 1 Axes>"
      ]
     },
     "metadata": {
      "needs_background": "light"
     },
     "output_type": "display_data"
    }
   ],
   "source": [
    "histogram_information = plt.hist(barchart_data_log, rwidth = 0.95, density = True)\n",
    "plt.title(\"Gross National Income Per Capita\");"
   ]
  },
  {
   "cell_type": "markdown",
   "metadata": {
    "deletable": false,
    "editable": false,
    "nbgrader": {
     "cell_type": "markdown",
     "checksum": "10b8b2aaf2144615d58babfe9bbd34cd",
     "grade": false,
     "grade_id": "cell-4f4cdb9e7f4db817",
     "locked": true,
     "schema_version": 3,
     "solution": false,
     "task": false
    }
   },
   "source": [
    "### 2. Modify Histograms\n",
    "\n",
    "The `seaborn` package provides helpful extensions of `matplotlib`. Note that a common alias of `seaborn` is `sns`.\n",
    "\n",
    "#### Question 2.1 \n",
    "\n",
    "We want to define a variable called `histogram_data` containing the entries in the zeroth column of `world_bank` as integer numbers. \n",
    "\n",
    "1. Select all of the entries from `world_bank` in the zeroth column. Call the variable `histogram_data`\n",
    "1. Convert the `dtype` to `int`."
   ]
  },
  {
   "cell_type": "code",
   "execution_count": 21,
   "metadata": {
    "deletable": false,
    "nbgrader": {
     "cell_type": "code",
     "checksum": "7293ce235fb05040e9eb808013d52a24",
     "grade": false,
     "grade_id": "cell-05511c22236f572f",
     "locked": false,
     "schema_version": 3,
     "solution": true,
     "task": false
    }
   },
   "outputs": [],
   "source": [
    "histogram_data = np.array(world_bank[:,0], dtype = int)\n",
    "\n",
    "# YOUR CODE HERE\n",
    "#raise NotImplementedError()"
   ]
  },
  {
   "cell_type": "code",
   "execution_count": 22,
   "metadata": {
    "deletable": false,
    "editable": false,
    "nbgrader": {
     "cell_type": "code",
     "checksum": "ab0ee70c77b4d3998da3d76884152cb8",
     "grade": true,
     "grade_id": "cell-7116858218bb118e",
     "locked": true,
     "points": 1,
     "schema_version": 3,
     "solution": false,
     "task": false
    }
   },
   "outputs": [],
   "source": [
    "# TEST \n",
    "\n",
    "assert histogram_data.shape == (147,)\n",
    "assert histogram_data.dtype == 'int'\n"
   ]
  },
  {
   "cell_type": "markdown",
   "metadata": {
    "deletable": false,
    "editable": false,
    "nbgrader": {
     "cell_type": "markdown",
     "checksum": "a69bfc580ae5dab176d1b6838861f4d8",
     "grade": false,
     "grade_id": "cell-32bb54c12890cb59",
     "locked": true,
     "schema_version": 3,
     "solution": false,
     "task": false
    }
   },
   "source": [
    "Now we can generate a histogram with the `seaborn` function `distplot`."
   ]
  },
  {
   "cell_type": "code",
   "execution_count": 23,
   "metadata": {
    "deletable": false,
    "editable": false,
    "nbgrader": {
     "cell_type": "code",
     "checksum": "48e2b06dc6a1121a807ae7fd665138a8",
     "grade": false,
     "grade_id": "cell-4321e4c827c911ba",
     "locked": true,
     "schema_version": 3,
     "solution": false,
     "task": false
    }
   },
   "outputs": [
    {
     "data": {
      "image/png": "[encoded data removed]",
      "text/plain": [
       "<Figure size 432x288 with 1 Axes>"
      ]
     },
     "metadata": {
      "needs_background": "light"
     },
     "output_type": "display_data"
    }
   ],
   "source": [
    "sns.distplot(histogram_data, rug = False, kde=False, hist_kws={\"rwidth\":0.95})\n",
    "plt.title('Literacy Rate');"
   ]
  },
  {
   "cell_type": "markdown",
   "metadata": {
    "deletable": false,
    "editable": false,
    "nbgrader": {
     "cell_type": "markdown",
     "checksum": "6bb3e59c62faf8bae5cfeb05f5d0735a",
     "grade": false,
     "grade_id": "cell-122948535f3833c5",
     "locked": true,
     "schema_version": 3,
     "solution": false,
     "task": false
    }
   },
   "source": [
    "Note that we can add some space between groups with the argument `rwidth`. Let us explore the arguments `rug` and `kde`.\n",
    "\n",
    "#### Question 2.2\n",
    "\n",
    "A rug plot allows us to chart one dimensional numerical data. We place a vertical line above each number in the dataset.\n"
   ]
  },
  {
   "cell_type": "code",
   "execution_count": 24,
   "metadata": {
    "deletable": false,
    "editable": false,
    "nbgrader": {
     "cell_type": "code",
     "checksum": "2ceffd1a227cdaf8589782ab480283a9",
     "grade": false,
     "grade_id": "cell-5af2d610a5653040",
     "locked": true,
     "schema_version": 3,
     "solution": false,
     "task": false
    }
   },
   "outputs": [
    {
     "data": {
      "image/png": "[encoded data removed]",
      "text/plain": [
       "<Figure size 432x288 with 1 Axes>"
      ]
     },
     "metadata": {
      "needs_background": "light"
     },
     "output_type": "display_data"
    }
   ],
   "source": [
    "sns.distplot(histogram_data, rug = True, kde=False, hist_kws={\"rwidth\":0.95})\n",
    "plt.title('Literacy Rate');"
   ]
  },
  {
   "cell_type": "markdown",
   "metadata": {
    "deletable": false,
    "editable": false,
    "nbgrader": {
     "cell_type": "markdown",
     "checksum": "dcd959b16cef3bda08555a551e1a7bc4",
     "grade": false,
     "grade_id": "cell-916d45dc559de01a",
     "locked": true,
     "schema_version": 3,
     "solution": false,
     "task": false
    }
   },
   "source": [
    "Note that we may have fewer than 147 vetical lines in the rug plot. If we have duplicate values then the vertical lines will overlap. \n",
    "\n",
    "Use the `numpy` function `unique` to determine the number of vertical lines in the rug plot."
   ]
  },
  {
   "cell_type": "code",
   "execution_count": 26,
   "metadata": {
    "deletable": false,
    "nbgrader": {
     "cell_type": "code",
     "checksum": "850dbbdccf6f524f3d32e024b8d108f9",
     "grade": false,
     "grade_id": "cell-4be9d76ca830ebd5",
     "locked": false,
     "schema_version": 3,
     "solution": true,
     "task": false
    }
   },
   "outputs": [],
   "source": [
    "\n",
    "q1_4 = len(np.unique(histogram_data))\n",
    "\n",
    "#q1_4 - Confirm again before submitting\n",
    "# YOUR CODE HERE\n",
    "#raise NotImplementedError()"
   ]
  },
  {
   "cell_type": "code",
   "execution_count": 27,
   "metadata": {
    "deletable": false,
    "editable": false,
    "nbgrader": {
     "cell_type": "code",
     "checksum": "538e44a5d8512ad319ba6499561af58b",
     "grade": true,
     "grade_id": "cell-a6f257804e5fc1bf",
     "locked": true,
     "points": 1,
     "schema_version": 3,
     "solution": false,
     "task": false
    }
   },
   "outputs": [],
   "source": [
    "# TEST \n",
    "\n",
    "assert 50 < q1_4 < 100\n"
   ]
  },
  {
   "cell_type": "markdown",
   "metadata": {
    "deletable": false,
    "editable": false,
    "nbgrader": {
     "cell_type": "markdown",
     "checksum": "c2f85e89dded33cf7e22741d431e767f",
     "grade": false,
     "grade_id": "cell-3099af1afb9336af",
     "locked": true,
     "schema_version": 3,
     "solution": false,
     "task": false
    }
   },
   "source": [
    "#### Question 2.3\n",
    "\n",
    "Note that the data is skewed by small outliers. We can transform the data to a smaller range by taking powers."
   ]
  },
  {
   "cell_type": "code",
   "execution_count": 28,
   "metadata": {
    "deletable": false,
    "editable": false,
    "nbgrader": {
     "cell_type": "code",
     "checksum": "c1c842629f1c3a42900559d55204ee11",
     "grade": false,
     "grade_id": "cell-3d7ac05655c2a22e",
     "locked": true,
     "schema_version": 3,
     "solution": false,
     "task": false
    }
   },
   "outputs": [
    {
     "data": {
      "text/plain": [
       "100000"
      ]
     },
     "execution_count": 28,
     "metadata": {},
     "output_type": "execute_result"
    }
   ],
   "source": [
    "np.power(10, 5)"
   ]
  },
  {
   "cell_type": "markdown",
   "metadata": {
    "deletable": false,
    "editable": false,
    "nbgrader": {
     "cell_type": "markdown",
     "checksum": "8347d12abb99c5d747f99187ea086e68",
     "grade": false,
     "grade_id": "cell-3fcdbcf0d960b909",
     "locked": true,
     "schema_version": 3,
     "solution": false,
     "task": false
    }
   },
   "source": [
    "We want to transform a number $x$ to a number $x^y$ for some integer number $y$. Here we will tak $y=4$.\n",
    "\n",
    "Apply the `numpy` function `power` to the entries of `histogram_data`. Call the variable `histogram_data_power`."
   ]
  },
  {
   "cell_type": "code",
   "execution_count": 29,
   "metadata": {
    "deletable": false,
    "nbgrader": {
     "cell_type": "code",
     "checksum": "aa7b985ff2b7e9f9b7c255f080e827e4",
     "grade": false,
     "grade_id": "cell-4159a48023ce3f2e",
     "locked": false,
     "schema_version": 3,
     "solution": true,
     "task": false
    }
   },
   "outputs": [],
   "source": [
    "histogram_data_power = np.power(histogram_data,4)\n",
    "\n",
    "# YOUR CODE HERE\n",
    "#raise NotImplementedError()"
   ]
  },
  {
   "cell_type": "code",
   "execution_count": 30,
   "metadata": {
    "deletable": false,
    "editable": false,
    "nbgrader": {
     "cell_type": "code",
     "checksum": "ac05437ebca50e8ef8972152c8077da5",
     "grade": true,
     "grade_id": "cell-359691e0406b6e64",
     "locked": true,
     "points": 1,
     "schema_version": 3,
     "solution": false,
     "task": false
    }
   },
   "outputs": [],
   "source": [
    "# TEST \n",
    "\n",
    "assert histogram_data_power.shape == (147,)\n"
   ]
  },
  {
   "cell_type": "markdown",
   "metadata": {
    "deletable": false,
    "editable": false,
    "nbgrader": {
     "cell_type": "markdown",
     "checksum": "0844b9d48a6d56caac669c733d44d91f",
     "grade": false,
     "grade_id": "cell-865eb6b5effe576f",
     "locked": true,
     "schema_version": 3,
     "solution": false,
     "task": false
    }
   },
   "source": [
    "Now the histogram looks less skewed."
   ]
  },
  {
   "cell_type": "code",
   "execution_count": 31,
   "metadata": {
    "deletable": false,
    "editable": false,
    "nbgrader": {
     "cell_type": "code",
     "checksum": "cdd80f9efecc1390689a5ad8c088ef97",
     "grade": false,
     "grade_id": "cell-7f14b667baca6ea1",
     "locked": true,
     "schema_version": 3,
     "solution": false,
     "task": false
    }
   },
   "outputs": [
    {
     "data": {
      "image/png": "[encoded data removed]",
      "text/plain": [
       "<Figure size 432x288 with 1 Axes>"
      ]
     },
     "metadata": {
      "needs_background": "light"
     },
     "output_type": "display_data"
    }
   ],
   "source": [
    "sns.distplot(histogram_data_power, rug = True, kde=False, hist_kws={\"rwidth\":0.95})\n",
    "plt.title('Literacy Rate');"
   ]
  },
  {
   "cell_type": "markdown",
   "metadata": {
    "deletable": false,
    "editable": false,
    "nbgrader": {
     "cell_type": "markdown",
     "checksum": "c27252728fd1d32d17910e640d36a8a0",
     "grade": false,
     "grade_id": "cell-7d141a518436c45e",
     "locked": true,
     "schema_version": 3,
     "solution": false,
     "task": false
    }
   },
   "source": [
    "### Question 3: Approximate Histograms\n",
    "\n",
    "The argument `kde` in the `seaborn` function `distplot` allow us to approximate the shape of the histogram. "
   ]
  },
  {
   "cell_type": "code",
   "execution_count": 32,
   "metadata": {
    "deletable": false,
    "editable": false,
    "nbgrader": {
     "cell_type": "code",
     "checksum": "a5f46c781161bc5965998a6928fc8645",
     "grade": false,
     "grade_id": "cell-d575bc00ab25517c",
     "locked": true,
     "schema_version": 3,
     "solution": false,
     "task": false
    }
   },
   "outputs": [
    {
     "data": {
      "image/png": "[encoded data removed]",
      "text/plain": [
       "<Figure size 432x288 with 1 Axes>"
      ]
     },
     "metadata": {
      "needs_background": "light"
     },
     "output_type": "display_data"
    }
   ],
   "source": [
    "sns.distplot(histogram_data_power, norm_hist=True, rug = False, kde=True, hist_kws={\"rwidth\":0.95})\n",
    "plt.title('Literacy Rate');"
   ]
  },
  {
   "cell_type": "markdown",
   "metadata": {
    "deletable": false,
    "editable": false,
    "nbgrader": {
     "cell_type": "markdown",
     "checksum": "a860f3dbe34f6fee42f77441d6b96d9b",
     "grade": false,
     "grade_id": "cell-46f70280c1284afd",
     "locked": true,
     "schema_version": 3,
     "solution": false,
     "task": false
    }
   },
   "source": [
    "Here we use the argument `norm_hist` to generate a normalized histogram.\n",
    "\n",
    "Note that the curves extend outside of the range 0 to 100. We cannot make sense of these values as percentage. However, the curves extrapolates on the trends in the range 0 to 100.\n",
    "\n",
    "#### Question 3.1 \n",
    "\n",
    "Note that `kde` is an acronymn for kernel density estimate. A kernel density estimate allows us to approximate a histogram through a combination of curves. Commonly we take the curves to be bell curves. "
   ]
  },
  {
   "cell_type": "code",
   "execution_count": 33,
   "metadata": {
    "deletable": false,
    "editable": false,
    "nbgrader": {
     "cell_type": "code",
     "checksum": "99fa5897c125cd0a6835e0f16dde8218",
     "grade": false,
     "grade_id": "cell-8f0151c9eadddcec",
     "locked": true,
     "schema_version": 3,
     "solution": false,
     "task": false
    }
   },
   "outputs": [
    {
     "data": {
      "text/plain": [
       "array([0, 0, 0, 1, 1, 2, 2, 2, 2, 2, 3, 4, 4, 4, 5, 5, 5, 5, 5, 5])"
      ]
     },
     "execution_count": 33,
     "metadata": {},
     "output_type": "execute_result"
    }
   ],
   "source": [
    "data = np.array([0,0,0,1,1,2,2,2,2,2,3,4,4,4,5,5,5,5,5,5])\n",
    "data"
   ]
  },
  {
   "cell_type": "markdown",
   "metadata": {
    "deletable": false,
    "editable": false,
    "nbgrader": {
     "cell_type": "markdown",
     "checksum": "21527c644b682404987e2b5f8853221a",
     "grade": false,
     "grade_id": "cell-3d745d554d0be84b",
     "locked": true,
     "schema_version": 3,
     "solution": false,
     "task": false
    }
   },
   "source": [
    "Suppose we had a dataset consisting of 20 points between 0 and 5. We can generate different estimates depending on a bandwidth."
   ]
  },
  {
   "cell_type": "code",
   "execution_count": 34,
   "metadata": {
    "deletable": false,
    "editable": false,
    "nbgrader": {
     "cell_type": "code",
     "checksum": "75f12d20a67a5658180d538bdf98a1b3",
     "grade": false,
     "grade_id": "cell-88e1b05bf06145f5",
     "locked": true,
     "schema_version": 3,
     "solution": false,
     "task": false
    }
   },
   "outputs": [
    {
     "data": {
      "application/vnd.jupyter.widget-view+json": {
       "model_id": "ec08dea52ba74aa1ba472c88910d753e",
       "version_major": 2,
       "version_minor": 0
      },
      "text/plain": [
       "interactive(children=(FloatSlider(value=1.0, description='bandwidth', max=1.0, min=0.2, step=0.01), Output()),…"
      ]
     },
     "metadata": {},
     "output_type": "display_data"
    }
   ],
   "source": [
    "widget()"
   ]
  },
  {
   "cell_type": "markdown",
   "metadata": {
    "deletable": false,
    "editable": false,
    "nbgrader": {
     "cell_type": "markdown",
     "checksum": "4fc440ce5a13d95d1cb8f97e9637baef",
     "grade": false,
     "grade_id": "cell-213f10967ee37fe9",
     "locked": true,
     "schema_version": 3,
     "solution": false,
     "task": false
    }
   },
   "source": [
    "The bandwidth controls the shape of the bell curves\n",
    "\n",
    "- High values for the bandwidth entail a flat curve\n",
    "- Low values of the bandwidth entail a jagged curve\n",
    "\n",
    "__True or False:__ The bandwidth 0.4 gives a closer approximation than the bandwidth 0.8. "
   ]
  },
  {
   "cell_type": "code",
   "execution_count": 42,
   "metadata": {
    "deletable": false,
    "nbgrader": {
     "cell_type": "code",
     "checksum": "ff1af0d7805b7adbe7f81394c2cde6c4",
     "grade": false,
     "grade_id": "cell-a3274681d8a700ff",
     "locked": false,
     "schema_version": 3,
     "solution": true,
     "task": false
    }
   },
   "outputs": [],
   "source": [
    "q3_1 = True\n",
    "\n",
    "# YOUR CODE HERE\n",
    "#raise NotImplementedError()"
   ]
  },
  {
   "cell_type": "code",
   "execution_count": 41,
   "metadata": {
    "deletable": false,
    "editable": false,
    "nbgrader": {
     "cell_type": "code",
     "checksum": "a881f68b009f8f4e7be97007bfe933eb",
     "grade": true,
     "grade_id": "cell-b52f8f6677fbb198",
     "locked": true,
     "points": 1,
     "schema_version": 3,
     "solution": false,
     "task": false
    }
   },
   "outputs": [],
   "source": [
    "# TEST \n",
    "\n",
    "assert q3_1 in [True, False]\n"
   ]
  },
  {
   "cell_type": "markdown",
   "metadata": {
    "deletable": false,
    "editable": false,
    "nbgrader": {
     "cell_type": "markdown",
     "checksum": "a1419e6e15fede404894e05ce37292a5",
     "grade": false,
     "grade_id": "cell-ef6e7898b3361e47",
     "locked": true,
     "schema_version": 3,
     "solution": false,
     "task": false
    }
   },
   "source": [
    "#### Question 3.2 \n",
    "\n",
    "We have three different kernel density estimates for the histogram of literacy rate.\n",
    "\n",
    "<img src=\"image-A.PNG\"  width=\"500\"/>\n",
    "<img src=\"image-B.PNG\"  width=\"500\"/>\n",
    "<img src=\"image-C.PNG\"  width=\"500\"/>\n",
    "\n",
    "The plots correspond to three different bandwidths \n",
    "\n",
    "> 8,1,4\n",
    "\n",
    "__Multiple Choice__ Match the images to the bandwidths.\n",
    "\n",
    "1. 1,4,8\n",
    "1. 8,4,1\n",
    "1. 4,1,8\n",
    "1. 1,8,4"
   ]
  },
  {
   "cell_type": "code",
   "execution_count": 45,
   "metadata": {
    "deletable": false,
    "nbgrader": {
     "cell_type": "code",
     "checksum": "fe9e18d993405b8eb0a2c26b647e411b",
     "grade": false,
     "grade_id": "cell-a7183c27c6c9a71a",
     "locked": false,
     "schema_version": 3,
     "solution": true,
     "task": false
    }
   },
   "outputs": [],
   "source": [
    "q3_2 = 1\n",
    "\n",
    "# YOUR CODE HERE\n",
    "#raise NotImplementedError()"
   ]
  },
  {
   "cell_type": "code",
   "execution_count": null,
   "metadata": {
    "deletable": false,
    "editable": false,
    "nbgrader": {
     "cell_type": "code",
     "checksum": "779942e2ba5c0b3eb5a014060a97f6b9",
     "grade": true,
     "grade_id": "cell-740c83bf4250a654",
     "locked": true,
     "points": 1,
     "schema_version": 3,
     "solution": false,
     "task": false
    }
   },
   "outputs": [],
   "source": [
    "# TEST \n",
    "\n",
    "assert q3_2 in [1,2,3,4]\n"
   ]
  }
 ],
 "metadata": {
  "_change_revision": 0,
  "_is_fork": false,
  "kernelspec": {
   "display_name": "Python [conda env:grade-environment]",
   "language": "python",
   "name": "conda-env-grade-environment-py"
  },
  "language_info": {
   "codemirror_mode": {
    "name": "ipython",
    "version": 3
   },
   "file_extension": ".py",
   "mimetype": "text/x-python",
   "name": "python",
   "nbconvert_exporter": "python",
   "pygments_lexer": "ipython3",
   "version": "3.7.7"
  }
 },
 "nbformat": 4,
 "nbformat_minor": 4
}
