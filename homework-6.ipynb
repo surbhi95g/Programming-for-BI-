{
 "cells": [
  {
   "cell_type": "markdown",
   "metadata": {
    "deletable": false,
    "editable": false,
    "nbgrader": {
     "cell_type": "markdown",
     "checksum": "f39d94f756b82d00fc088066636717a9",
     "grade": false,
     "grade_id": "cell-277ac1db5743b98f",
     "locked": true,
     "schema_version": 3,
     "solution": false,
     "task": false
    }
   },
   "source": [
    "Homework 6 : Tables\n",
    "\n",
    "In this assignment, we will process data in tables. We will get practice with\n",
    "\n",
    "- missing entries \n",
    "- aggregating values\n",
    "- linking records\n",
    "  \n",
    "The questions guide you step-by-step through these approaches. "
   ]
  },
  {
   "cell_type": "markdown",
   "metadata": {
    "deletable": false,
    "editable": false,
    "nbgrader": {
     "cell_type": "markdown",
     "checksum": "27924101d928d661c6672e8beec0a88b",
     "grade": false,
     "grade_id": "cell-24715915b4286eed",
     "locked": true,
     "schema_version": 3,
     "solution": false,
     "task": false
    }
   },
   "source": [
    "### Rubric\n",
    "\n",
    "Question | Points\n",
    "--- | ---\n",
    "Question 1.1 | 1\n",
    "Question 1.2 | 1\n",
    "Question 1.3 | 1\n",
    "Question 2.1 | 1\n",
    "Question 2.2 | 1\n",
    "Question 2.3 | 1\n",
    "Question 2.4 | 1\n",
    "Question 3.1 | 1\n",
    "Question 3.2 | 1\n",
    "Question 3.3 | 1\n",
    "Question 4.1 | 1\n",
    "Question 4.2 | 1\n",
    "Question 4.3 | 1\n",
    "Question 5.1 | 1\n",
    "Question 5.2 | 1\n",
    "Question 5.3 | 0\n",
    "Total | 15"
   ]
  },
  {
   "cell_type": "markdown",
   "metadata": {
    "deletable": false,
    "editable": false,
    "nbgrader": {
     "cell_type": "markdown",
     "checksum": "b01fd6b72b2dd7d9a5cff6867e3ef278",
     "grade": false,
     "grade_id": "cell-d16eb9723104d3f7",
     "locked": true,
     "schema_version": 3,
     "solution": false,
     "task": false
    }
   },
   "source": [
    "<img src=\"image.PNG\"  width=\"400\" align=\"right\"/>\n",
    "\n",
    "We will study data from the World Bank. The World Bank is an international financial organization which provides loans to governments of developing countries. \n",
    "\n",
    "In Homework 3, we studied \n",
    "\n",
    "- literacy rate among adult females \n",
    "- gross national income per capita\n",
    "\n",
    "Here we want to study\n",
    "\n",
    "- gross domenstic product per capita\n",
    "- population \n",
    "- life expectancy \n",
    "\n",
    "Note the difference between gross national income and gross domestic product.  \n",
    "\n",
    "- Gross domestic product measures the value of domestic goods and services \n",
    "- Gross national income measures revenue generated domestically and abroad by residents and businesses.\n",
    "\n",
    "So the gross national income tends to be higher than the gross domestic product.\n",
    "\n",
    "### 0. Load Packages\n",
    "\n",
    "We have been working with the\n",
    "\n",
    "-  `numpy` package for manipulations of arrays\n",
    "-  `matplotlib` package for generating charts\n",
    "- `pandas` package for handling tables \n",
    "\n",
    "Here we will focus on operations in `pandas` including the join operation"
   ]
  },
  {
   "cell_type": "code",
   "execution_count": null,
   "metadata": {
    "deletable": false,
    "editable": false,
    "nbgrader": {
     "cell_type": "code",
     "checksum": "216131c9e66b6221b6537f510920b78a",
     "grade": false,
     "grade_id": "cell-78ed536253c2de08",
     "locked": true,
     "schema_version": 3,
     "solution": false,
     "task": false
    }
   },
   "outputs": [],
   "source": [
    "# import some packages\n",
    "\n",
    "import numpy as np\n",
    "import pandas as pd\n",
    "\n",
    "import matplotlib.pyplot as plt\n",
    "\n",
    "# change some settings\n",
    "\n",
    "pd.set_option('display.max_rows', 10)\n",
    "pd.set_option('display.max_columns', 8)\n",
    "\n",
    "plt.rcParams['figure.figsize'] = (10,8)"
   ]
  },
  {
   "cell_type": "code",
   "execution_count": null,
   "metadata": {
    "deletable": false,
    "editable": false,
    "nbgrader": {
     "cell_type": "code",
     "checksum": "1c1d2b772ff5c4db7004a38927cd352c",
     "grade": true,
     "grade_id": "cell-873c5dce3bbf6b9f",
     "locked": true,
     "points": 0,
     "schema_version": 3,
     "solution": false,
     "task": false
    }
   },
   "outputs": [],
   "source": [
    "# TEST\n",
    "\n",
    "import sys\n",
    "\n",
    "assert \"numpy\" in sys.modules and \"np\" in locals()\n",
    "assert \"pandas\" in sys.modules and \"pd\" in locals()\n",
    "assert \"matplotlib\" in sys.modules and \"plt\" in locals()"
   ]
  },
  {
   "cell_type": "markdown",
   "metadata": {
    "deletable": false,
    "editable": false,
    "nbgrader": {
     "cell_type": "markdown",
     "checksum": "c2d659dc0d9edbdba9a23e22ef5c869e",
     "grade": false,
     "grade_id": "cell-7462a01741d10a9c",
     "locked": true,
     "schema_version": 3,
     "solution": false,
     "task": false
    }
   },
   "source": [
    "Note that we changed some of the default settings in `pandas` with `set_option` and in `matplotlib` with `rcParams`. \n",
    "\n",
    "### Question 1\n",
    "\n",
    "Before we can understand the information about gross domestic product, we need to load and rearrange the data from `world_bank_gdp.csv`. \n",
    "\n",
    "#### Question 1.1\n",
    "\n",
    "Use the `pandas` function `read_csv` to load the data from `world_bank_gdp.csv`. Store the table in the variable `gdp`."
   ]
  },
  {
   "cell_type": "code",
   "execution_count": null,
   "metadata": {
    "deletable": false,
    "nbgrader": {
     "cell_type": "code",
     "checksum": "4a16a82adf72c3a0014883e85fe118dd",
     "grade": false,
     "grade_id": "cell-f66819dc9874ceeb",
     "locked": false,
     "schema_version": 3,
     "solution": true,
     "task": false
    }
   },
   "outputs": [],
   "source": [
    "gdp = pd.read_csv(\"world_bank_gdp.csv\")\n",
    "\n",
    "# YOUR CODE HERE\n",
    "#raise NotImplementedError()"
   ]
  },
  {
   "cell_type": "code",
   "execution_count": null,
   "metadata": {
    "deletable": false,
    "editable": false,
    "nbgrader": {
     "cell_type": "code",
     "checksum": "bd2ff7f4e37a3a68a0bdcfe40f832504",
     "grade": true,
     "grade_id": "cell-4831bca6f3d5ba65",
     "locked": true,
     "points": 1,
     "schema_version": 3,
     "solution": false,
     "task": false
    }
   },
   "outputs": [],
   "source": [
    "# TEST \n",
    "\n",
    "assert gdp.shape == (260, 214)\n"
   ]
  },
  {
   "cell_type": "markdown",
   "metadata": {
    "deletable": false,
    "editable": false,
    "nbgrader": {
     "cell_type": "markdown",
     "checksum": "66620554df00e448643e29922c04b38d",
     "grade": false,
     "grade_id": "cell-846a1d2385c4d1fa",
     "locked": true,
     "schema_version": 3,
     "solution": false,
     "task": false
    }
   },
   "source": [
    "#### Question 1.2\n",
    "\n",
    "Use the `pandas` function `set_index` to make the column `GDP per capita` the index of the table. "
   ]
  },
  {
   "cell_type": "code",
   "execution_count": null,
   "metadata": {
    "deletable": false,
    "nbgrader": {
     "cell_type": "code",
     "checksum": "cdee91b6d46efb7fa6fcfee1a3c887a5",
     "grade": false,
     "grade_id": "cell-e01ce1704b50da54",
     "locked": false,
     "schema_version": 3,
     "solution": true,
     "task": false
    }
   },
   "outputs": [],
   "source": [
    "column = 'GDP per capita'\n",
    "\n",
    "# YOUR CODE HERE\n",
    "#raise NotImplementedError()\n",
    "\n",
    "gdp.set_index(column, inplace=True)"
   ]
  },
  {
   "cell_type": "code",
   "execution_count": null,
   "metadata": {
    "deletable": false,
    "editable": false,
    "nbgrader": {
     "cell_type": "code",
     "checksum": "a7ebbce7f2b4dfd511568422abddaa5f",
     "grade": true,
     "grade_id": "cell-6f0e429ff8996bd1",
     "locked": true,
     "points": 1,
     "schema_version": 3,
     "solution": false,
     "task": false
    }
   },
   "outputs": [],
   "source": [
    "# TEST \n",
    "\n",
    "assert gdp.index.name == \"GDP per capita\"\n"
   ]
  },
  {
   "cell_type": "markdown",
   "metadata": {
    "deletable": false,
    "editable": false,
    "nbgrader": {
     "cell_type": "markdown",
     "checksum": "73c7c721c030839e8b8ebea04d930858",
     "grade": false,
     "grade_id": "cell-f5844abcf779eb2c",
     "locked": true,
     "schema_version": 3,
     "solution": false,
     "task": false
    }
   },
   "source": [
    "Now we can use `transpose` to switch the rows and columns of the table. "
   ]
  },
  {
   "cell_type": "code",
   "execution_count": null,
   "metadata": {
    "deletable": false,
    "editable": false,
    "nbgrader": {
     "cell_type": "code",
     "checksum": "32a76ddfaf85d545bfc653ca73816f5b",
     "grade": false,
     "grade_id": "cell-85c8fce5c0d765f7",
     "locked": true,
     "schema_version": 3,
     "solution": false,
     "task": false
    }
   },
   "outputs": [],
   "source": [
    "gdp = gdp.transpose()"
   ]
  },
  {
   "cell_type": "markdown",
   "metadata": {
    "deletable": false,
    "editable": false,
    "nbgrader": {
     "cell_type": "markdown",
     "checksum": "cf16f7cef8bd7920f7d53561ee59e790",
     "grade": false,
     "grade_id": "cell-c5bc47e82dc1486f",
     "locked": true,
     "schema_version": 3,
     "solution": false,
     "task": false
    }
   },
   "source": [
    "#### Question 1.3\n",
    "\n",
    "Remember the `pandas` function `to_datetime` from Homework 4. We want to change the year to a `datetime` object. \n",
    "\n",
    "Specify the format as a string. Note each entry represents a year."
   ]
  },
  {
   "cell_type": "code",
   "execution_count": null,
   "metadata": {
    "deletable": false,
    "nbgrader": {
     "cell_type": "code",
     "checksum": "18758e9e7bf36d7772a87cfefd343ccd",
     "grade": false,
     "grade_id": "cell-b94db99ccad54446",
     "locked": false,
     "schema_version": 3,
     "solution": true,
     "task": false
    }
   },
   "outputs": [],
   "source": [
    "format_string = \"%Y\"\n",
    "\n",
    "# YOUR CODE HERE\n",
    "#raise NotImplementedError()\n",
    "\n",
    "gdp.index = pd.to_datetime(gdp.index, format = format_string)"
   ]
  },
  {
   "cell_type": "code",
   "execution_count": null,
   "metadata": {
    "deletable": false,
    "editable": false,
    "nbgrader": {
     "cell_type": "code",
     "checksum": "0c66cc0db7be1d3952212ef515bbb719",
     "grade": true,
     "grade_id": "cell-b5b87c43f06383db",
     "locked": true,
     "points": 1,
     "schema_version": 3,
     "solution": false,
     "task": false
    }
   },
   "outputs": [],
   "source": [
    "# TEST\n",
    "\n",
    "assert all(gdp.index.year == np.arange(1800, 2013, 1))\n"
   ]
  },
  {
   "cell_type": "markdown",
   "metadata": {
    "deletable": false,
    "editable": false,
    "nbgrader": {
     "cell_type": "markdown",
     "checksum": "bf2dc535aaedbbb8828264e0b9baf8d9",
     "grade": false,
     "grade_id": "cell-5c7ecac0cc1ac965",
     "locked": true,
     "schema_version": 3,
     "solution": false,
     "task": false
    }
   },
   "source": [
    "### Question 2\n",
    "\n",
    "We need to handle missing values.\n",
    "\n",
    "#### Question 2.1\n",
    "\n",
    "Use the `pandas` function `replace` to substitute `np.NaN` for `Missing` in the table. Remember that we need to specify a dictionary for `replace`. "
   ]
  },
  {
   "cell_type": "code",
   "execution_count": null,
   "metadata": {
    "deletable": false,
    "nbgrader": {
     "cell_type": "code",
     "checksum": "0d47d6ee2eb23b98346459eee1fe31b6",
     "grade": false,
     "grade_id": "cell-da7b2f5b92363399",
     "locked": false,
     "schema_version": 3,
     "solution": true,
     "task": false
    }
   },
   "outputs": [],
   "source": [
    "dictionary_for_replacement = {\"Missing\":np.NaN}\n",
    "\n",
    "# YOUR CODE HERE\n",
    "#raise NotImplementedError()\n",
    "\n",
    "gdp.replace(dictionary_for_replacement, inplace=True)"
   ]
  },
  {
   "cell_type": "code",
   "execution_count": null,
   "metadata": {
    "deletable": false,
    "editable": false,
    "nbgrader": {
     "cell_type": "code",
     "checksum": "154121e08433a85edbeb4609e6e6fd9e",
     "grade": true,
     "grade_id": "cell-b7123b10dd5dc236",
     "locked": true,
     "points": 1,
     "schema_version": 3,
     "solution": false,
     "task": false
    }
   },
   "outputs": [],
   "source": [
    "# TEST\n",
    "\n",
    "assert all(~gdp.isin([\"Missing\"]))"
   ]
  },
  {
   "cell_type": "markdown",
   "metadata": {
    "deletable": false,
    "editable": false,
    "nbgrader": {
     "cell_type": "markdown",
     "checksum": "a32144ba8bec3538432ba8a58d26eae8",
     "grade": false,
     "grade_id": "cell-d98240e40b46ca70",
     "locked": true,
     "schema_version": 3,
     "solution": false,
     "task": false
    }
   },
   "source": [
    "#### Question 2.2\n",
    "\n",
    "We want to filter the rows of the table. We will remove any year before 2000 and any year following 2010. \n",
    "\n",
    "Fill in the missing pieces of the logical expression for fitering `gdp`."
   ]
  },
  {
   "cell_type": "code",
   "execution_count": null,
   "metadata": {
    "deletable": false,
    "nbgrader": {
     "cell_type": "code",
     "checksum": "6a0a3e72119a20103cc796191163e263",
     "grade": false,
     "grade_id": "cell-0452c4e6937a3983",
     "locked": false,
     "schema_version": 3,
     "solution": true,
     "task": false
    }
   },
   "outputs": [],
   "source": [
    "lower_bound = 1999\n",
    "upper_bound = 2011\n",
    "\n",
    "# YOUR CODE HERE\n",
    "#raise NotImplementedError()\n",
    "\n",
    "gdp = gdp[(lower_bound < gdp.index.year) & (gdp.index.year < upper_bound)]"
   ]
  },
  {
   "cell_type": "code",
   "execution_count": null,
   "metadata": {
    "deletable": false,
    "editable": false,
    "nbgrader": {
     "cell_type": "code",
     "checksum": "5dbdafdf3ef1bd706cbf077fec64bab5",
     "grade": true,
     "grade_id": "cell-76bc5eb67fae7aba",
     "locked": true,
     "points": 1,
     "schema_version": 3,
     "solution": false,
     "task": false
    }
   },
   "outputs": [],
   "source": [
    "# TEST\n",
    "\n",
    "assert all(gdp.index.year == np.arange(2000, 2011, 1))"
   ]
  },
  {
   "cell_type": "markdown",
   "metadata": {
    "deletable": false,
    "editable": false,
    "nbgrader": {
     "cell_type": "markdown",
     "checksum": "60fd6dbb0cdd5b5606bae0ef05a1b2a4",
     "grade": false,
     "grade_id": "cell-c4f2456df8ddc67e",
     "locked": true,
     "schema_version": 3,
     "solution": false,
     "task": false
    }
   },
   "source": [
    "#### Question 2.3\n",
    "\n",
    "We want to set the `pandas` function `dropna` to drop any columns containing `np.NaN`. Since we must drop columns not rows, we need to specify a value for the argument `axis`. Determine the appropriate value for `axis` to drop columns not rows."
   ]
  },
  {
   "cell_type": "code",
   "execution_count": null,
   "metadata": {
    "deletable": false,
    "nbgrader": {
     "cell_type": "code",
     "checksum": "33b1973a01b581d3eef273ee070b7acf",
     "grade": false,
     "grade_id": "cell-1a3ef3b891ae286a",
     "locked": false,
     "schema_version": 3,
     "solution": true,
     "task": false
    }
   },
   "outputs": [],
   "source": [
    "axis_value = 1\n",
    "\n",
    "# YOUR CODE HERE\n",
    "#raise NotImplementedError()\n",
    "\n",
    "gdp.dropna(axis=axis_value, inplace=True)"
   ]
  },
  {
   "cell_type": "code",
   "execution_count": null,
   "metadata": {
    "deletable": false,
    "editable": false,
    "nbgrader": {
     "cell_type": "code",
     "checksum": "1a0faadf4a455b5645498182c107380e",
     "grade": true,
     "grade_id": "cell-51ab9eeeb261c7bc",
     "locked": true,
     "points": 1,
     "schema_version": 3,
     "solution": false,
     "task": false
    }
   },
   "outputs": [],
   "source": [
    "# TEST\n",
    "\n",
    "assert all(~gdp.isna())\n"
   ]
  },
  {
   "cell_type": "markdown",
   "metadata": {
    "deletable": false,
    "editable": false,
    "nbgrader": {
     "cell_type": "markdown",
     "checksum": "1197822e1c128c44e465a7587ea605c4",
     "grade": false,
     "grade_id": "cell-dc848e6cd474f7a4",
     "locked": true,
     "schema_version": 3,
     "solution": false,
     "task": false
    }
   },
   "source": [
    "#### Question 2.4\n",
    "\n",
    "Use the `pandas` function `astype` to convert the data type of the entries from string to floating point number. You can specify the data type as `float64`."
   ]
  },
  {
   "cell_type": "code",
   "execution_count": null,
   "metadata": {
    "deletable": false,
    "nbgrader": {
     "cell_type": "code",
     "checksum": "0aa42a90d9e604b96b933085dd2e34ad",
     "grade": false,
     "grade_id": "cell-484a6eb96240f6b3",
     "locked": false,
     "schema_version": 3,
     "solution": true,
     "task": false
    }
   },
   "outputs": [],
   "source": [
    "floating_point_data_type = \"float64\"\n",
    "\n",
    "# YOUR CODE HERE\n",
    "#raise NotImplementedError()\n",
    "\n",
    "gdp = gdp.astype(floating_point_data_type)"
   ]
  },
  {
   "cell_type": "code",
   "execution_count": null,
   "metadata": {
    "deletable": false,
    "editable": false,
    "nbgrader": {
     "cell_type": "code",
     "checksum": "8fb7853404e6016ce7cc5ef61eae8ef4",
     "grade": true,
     "grade_id": "cell-33ff8103539a6730",
     "locked": true,
     "points": 1,
     "schema_version": 3,
     "solution": false,
     "task": false
    }
   },
   "outputs": [],
   "source": [
    "# TEST\n",
    "\n",
    "assert np.issubdtype(gdp.values.dtype, np.float64)"
   ]
  },
  {
   "cell_type": "markdown",
   "metadata": {
    "deletable": false,
    "editable": false,
    "nbgrader": {
     "cell_type": "markdown",
     "checksum": "a5f8a69cc2a6e7016e906e56e51c27f1",
     "grade": false,
     "grade_id": "cell-106e916849550a40",
     "locked": true,
     "schema_version": 3,
     "solution": false,
     "task": false
    }
   },
   "source": [
    "### Question 3\n",
    "\n",
    "Since we have records for 11 years, we want to aggregate the numbers.\n",
    "\n",
    "#### Question 3.1\n",
    "\n",
    "Use the `pandas` function `mean` to take the average of the columns."
   ]
  },
  {
   "cell_type": "code",
   "execution_count": null,
   "metadata": {
    "deletable": false,
    "nbgrader": {
     "cell_type": "code",
     "checksum": "c9fab6c78d60b2425d943ded3cbd685b",
     "grade": false,
     "grade_id": "cell-bc5ef729d9a0e5a4",
     "locked": false,
     "schema_version": 3,
     "solution": true,
     "task": false
    }
   },
   "outputs": [],
   "source": [
    "gdp_averages = gdp.mean(axis = 0)\n",
    "\n",
    "# YOUR CODE HERE\n",
    "#raise NotImplementedError()"
   ]
  },
  {
   "cell_type": "code",
   "execution_count": null,
   "metadata": {
    "deletable": false,
    "editable": false,
    "nbgrader": {
     "cell_type": "code",
     "checksum": "1442ed3466a59f3e0f838297937fe565",
     "grade": true,
     "grade_id": "cell-9793fcf2a242a5e8",
     "locked": true,
     "points": 1,
     "schema_version": 3,
     "solution": false,
     "task": false
    }
   },
   "outputs": [],
   "source": [
    "# TEST\n",
    "\n",
    "assert gdp_averages.shape == (210,)\n"
   ]
  },
  {
   "cell_type": "markdown",
   "metadata": {
    "deletable": false,
    "editable": false,
    "nbgrader": {
     "cell_type": "markdown",
     "checksum": "d1a7715213193ae91b96b91b44acc053",
     "grade": false,
     "grade_id": "cell-d77842632b00f6a9",
     "locked": true,
     "schema_version": 3,
     "solution": false,
     "task": false
    }
   },
   "source": [
    "#### Question 3.2\n",
    "\n",
    "Note that `gdp_averages` is a `pandas` Series. We can use the `pandas` function `to_frame` to convert to a `pandas` DataFrame. "
   ]
  },
  {
   "cell_type": "code",
   "execution_count": null,
   "metadata": {
    "deletable": false,
    "editable": false,
    "nbgrader": {
     "cell_type": "code",
     "checksum": "da38d08761af029bb0a5aa3d9d1b2938",
     "grade": false,
     "grade_id": "cell-ef71c14d3ec84962",
     "locked": true,
     "schema_version": 3,
     "solution": false,
     "task": false
    }
   },
   "outputs": [],
   "source": [
    "gdp_averages = gdp_averages.to_frame()"
   ]
  },
  {
   "cell_type": "markdown",
   "metadata": {
    "deletable": false,
    "editable": false,
    "nbgrader": {
     "cell_type": "markdown",
     "checksum": "54c712568aafeead6ed05fa27ed8ec91",
     "grade": false,
     "grade_id": "cell-1723fa4ea489dbfe",
     "locked": true,
     "schema_version": 3,
     "solution": false,
     "task": false
    }
   },
   "source": [
    "By default the name of the column is `0`. Use the `pandas` function `rename` to change from `0` to `Average GDP`. Note that we need to specify a dictionary. "
   ]
  },
  {
   "cell_type": "code",
   "execution_count": null,
   "metadata": {
    "deletable": false,
    "nbgrader": {
     "cell_type": "code",
     "checksum": "763378e7229cdeeab853a5e0d6d363a7",
     "grade": false,
     "grade_id": "cell-c83480050317ae49",
     "locked": false,
     "schema_version": 3,
     "solution": true,
     "task": false
    }
   },
   "outputs": [],
   "source": [
    "dictionary_for_renaming = {0:\"Average GDP\"}\n",
    "\n",
    "# YOUR CODE HERE\n",
    "#raise NotImplementedError()\n",
    "\n",
    "gdp_averages.rename(columns = dictionary_for_renaming, inplace = True)"
   ]
  },
  {
   "cell_type": "code",
   "execution_count": null,
   "metadata": {
    "deletable": false,
    "editable": false,
    "nbgrader": {
     "cell_type": "code",
     "checksum": "05f105afdf7473db01d4da90fd0e86c4",
     "grade": true,
     "grade_id": "cell-2920dea29cee7cf1",
     "locked": true,
     "points": 1,
     "schema_version": 3,
     "solution": false,
     "task": false
    }
   },
   "outputs": [],
   "source": [
    "# TEST\n",
    "\n",
    "assert all(gdp_averages.columns == \"Average GDP\")"
   ]
  },
  {
   "cell_type": "markdown",
   "metadata": {
    "deletable": false,
    "editable": false,
    "nbgrader": {
     "cell_type": "markdown",
     "checksum": "80c6b2ee5e9868b300fe2ef716c3a094",
     "grade": false,
     "grade_id": "cell-37a980c89cc3193f",
     "locked": true,
     "schema_version": 3,
     "solution": false,
     "task": false
    }
   },
   "source": [
    "#### Question 3.3\n",
    "\n",
    "Use the `pandas` function `max` to compute the maximum value in the `Average GDP` column of `gdp_averages`."
   ]
  },
  {
   "cell_type": "code",
   "execution_count": null,
   "metadata": {
    "deletable": false,
    "nbgrader": {
     "cell_type": "code",
     "checksum": "e6317b604bce874e444d48c83be8edb7",
     "grade": false,
     "grade_id": "cell-25a497c04f12b473",
     "locked": false,
     "schema_version": 3,
     "solution": true,
     "task": false
    }
   },
   "outputs": [],
   "source": [
    "gdp_averages_maximum = gdp_averages.values.max(axis = 0)\n",
    "\n",
    "# YOUR CODE HERE\n",
    "#raise NotImplementedError()"
   ]
  },
  {
   "cell_type": "code",
   "execution_count": null,
   "metadata": {
    "deletable": false,
    "editable": false,
    "nbgrader": {
     "cell_type": "code",
     "checksum": "052aeaad09f95eb10e152c8b065176d3",
     "grade": true,
     "grade_id": "cell-4eea5763752ef234",
     "locked": true,
     "points": 1,
     "schema_version": 3,
     "solution": false,
     "task": false
    }
   },
   "outputs": [],
   "source": [
    "# TEST\n",
    "\n",
    "assert 80000 < gdp_averages_maximum < 90000\n"
   ]
  },
  {
   "cell_type": "markdown",
   "metadata": {
    "deletable": false,
    "editable": false,
    "nbgrader": {
     "cell_type": "markdown",
     "checksum": "bbbe5586e05799b87fc889e8e43e1124",
     "grade": false,
     "grade_id": "cell-e64493a93ea9d371",
     "locked": true,
     "schema_version": 3,
     "solution": false,
     "task": false
    }
   },
   "source": [
    "Now we can standardize the values in `gdp_averages`. "
   ]
  },
  {
   "cell_type": "code",
   "execution_count": null,
   "metadata": {
    "deletable": false,
    "editable": false,
    "nbgrader": {
     "cell_type": "code",
     "checksum": "4c6a007a5c4f1a9dce4c13d96a64b08c",
     "grade": false,
     "grade_id": "cell-c5cbd5b5a7bb68c1",
     "locked": true,
     "schema_version": 3,
     "solution": false,
     "task": false
    }
   },
   "outputs": [],
   "source": [
    "gdp_averages_standardized = gdp_averages / gdp_averages_maximum"
   ]
  },
  {
   "cell_type": "markdown",
   "metadata": {
    "deletable": false,
    "editable": false,
    "nbgrader": {
     "cell_type": "markdown",
     "checksum": "95581b1805c44a1d6395512a4b17340a",
     "grade": false,
     "grade_id": "cell-83c64ecd58e96bd8",
     "locked": true,
     "schema_version": 3,
     "solution": false,
     "task": false
    }
   },
   "source": [
    "Having divided by `gdp_averages_maximum`, we have values in `gdp_averages_standardized` between 0 and 1.\n",
    "\n",
    "### Question 4\n",
    "\n",
    "Before we can understand the information about population and life expectancy, we need to load and join the data \n",
    "\n",
    "#### Question 4.1\n",
    "\n",
    "Use the `pandas` function `read_csv` to load the data from `world_bank_country.csv`. Store the table in the variable `country`."
   ]
  },
  {
   "cell_type": "code",
   "execution_count": null,
   "metadata": {
    "deletable": false,
    "nbgrader": {
     "cell_type": "code",
     "checksum": "52e107590591e051295047dfbb13df9b",
     "grade": false,
     "grade_id": "cell-b4b45c2c870c2cf2",
     "locked": false,
     "schema_version": 3,
     "solution": true,
     "task": false
    }
   },
   "outputs": [],
   "source": [
    "country = pd.read_csv(\"world_bank_country.csv\")\n",
    "\n",
    "# YOUR CODE HERE\n",
    "#raise NotImplementedError()"
   ]
  },
  {
   "cell_type": "code",
   "execution_count": null,
   "metadata": {
    "deletable": false,
    "editable": false,
    "nbgrader": {
     "cell_type": "code",
     "checksum": "d6ea5ba0cba7cd77f9b377889cc0500b",
     "grade": true,
     "grade_id": "cell-384d4051d0f7d7fb",
     "locked": true,
     "points": 1,
     "schema_version": 3,
     "solution": false,
     "task": false
    }
   },
   "outputs": [],
   "source": [
    "# TEST \n",
    "\n",
    "assert country.shape == (248, 17)\n"
   ]
  },
  {
   "cell_type": "markdown",
   "metadata": {
    "deletable": false,
    "editable": false,
    "nbgrader": {
     "cell_type": "markdown",
     "checksum": "224e031feb71e73adeacd73552b08250",
     "grade": false,
     "grade_id": "cell-575bd4c175d1b954",
     "locked": true,
     "schema_version": 3,
     "solution": false,
     "task": false
    }
   },
   "source": [
    "#### Question 4.2\n",
    "\n",
    "We are interested in three columns of the table `country`."
   ]
  },
  {
   "cell_type": "code",
   "execution_count": null,
   "metadata": {
    "deletable": false,
    "editable": false,
    "nbgrader": {
     "cell_type": "code",
     "checksum": "be717a78e7350235ba39b1ca3167c019",
     "grade": false,
     "grade_id": "cell-1e2040b4d19b2c9d",
     "locked": true,
     "schema_version": 3,
     "solution": false,
     "task": false
    }
   },
   "outputs": [],
   "source": [
    "country = country[[\"Country (en)\", \"Population\", \"Life expectancy\"]]"
   ]
  },
  {
   "cell_type": "markdown",
   "metadata": {
    "deletable": false,
    "editable": false,
    "nbgrader": {
     "cell_type": "markdown",
     "checksum": "c9d04921bd71b34370114b551eeb591f",
     "grade": false,
     "grade_id": "cell-11cd8f9ff36aad6f",
     "locked": true,
     "schema_version": 3,
     "solution": false,
     "task": false
    }
   },
   "source": [
    "Use the `pandas` function `set_index` to make the column `Country (en)` the index of the table. "
   ]
  },
  {
   "cell_type": "code",
   "execution_count": null,
   "metadata": {
    "deletable": false,
    "nbgrader": {
     "cell_type": "code",
     "checksum": "7c282f04b372efb6d4de40378d767168",
     "grade": false,
     "grade_id": "cell-9bbe18f220c92181",
     "locked": false,
     "schema_version": 3,
     "solution": true,
     "task": false
    }
   },
   "outputs": [],
   "source": [
    "column = 'Country (en)'\n",
    "\n",
    "# YOUR CODE HERE\n",
    "#raise NotImplementedError()\n",
    "\n",
    "country.set_index(column, inplace=True)"
   ]
  },
  {
   "cell_type": "code",
   "execution_count": null,
   "metadata": {
    "deletable": false,
    "editable": false,
    "nbgrader": {
     "cell_type": "code",
     "checksum": "f2d664cc81a428386f6128dd828de2ee",
     "grade": true,
     "grade_id": "cell-bb74c42d50e0e800",
     "locked": true,
     "points": 1,
     "schema_version": 3,
     "solution": false,
     "task": false
    }
   },
   "outputs": [],
   "source": [
    "# TEST \n",
    "\n",
    "assert country.index.name == \"Country (en)\"\n"
   ]
  },
  {
   "cell_type": "markdown",
   "metadata": {
    "deletable": false,
    "editable": false,
    "nbgrader": {
     "cell_type": "markdown",
     "checksum": "9c55225f223badb569961efda7252ca9",
     "grade": false,
     "grade_id": "cell-409e15a50ffcc5e3",
     "locked": true,
     "schema_version": 3,
     "solution": false,
     "task": false
    }
   },
   "source": [
    "#### Question 4.3\n",
    "\n",
    "We can the `pandas` function `merge` to join `gdp_averages_standardized` and `country` on their indices. Remember to set\n",
    "\n",
    "- `left_index=True`\n",
    "- `right_index=True`\n",
    "\n",
    "to indicate that we join on the indices."
   ]
  },
  {
   "cell_type": "code",
   "execution_count": null,
   "metadata": {
    "deletable": false,
    "nbgrader": {
     "cell_type": "code",
     "checksum": "17814f5825d0e4f0756193eae2b98adc",
     "grade": false,
     "grade_id": "cell-69ee60f80a25905e",
     "locked": false,
     "schema_version": 3,
     "solution": true,
     "task": false
    }
   },
   "outputs": [],
   "source": [
    "gdp_country_merged = pd.merge(gdp_averages_standardized,country, left_index=True, right_index=True)\n",
    "\n",
    "# YOUR CODE HERE\n",
    "#raise NotImplementedError()"
   ]
  },
  {
   "cell_type": "code",
   "execution_count": null,
   "metadata": {
    "deletable": false,
    "editable": false,
    "nbgrader": {
     "cell_type": "code",
     "checksum": "a45c777b5d4bb7c151c0bfd5bef2fc9c",
     "grade": true,
     "grade_id": "cell-c875172751fbdf33",
     "locked": true,
     "points": 1,
     "schema_version": 3,
     "solution": false,
     "task": false
    }
   },
   "outputs": [],
   "source": [
    "assert gdp_country_merged.shape == (194, 3)\n"
   ]
  },
  {
   "cell_type": "markdown",
   "metadata": {
    "deletable": false,
    "editable": false,
    "nbgrader": {
     "cell_type": "markdown",
     "checksum": "f0574a0d50b0ebc9b105ea99f02cc203",
     "grade": false,
     "grade_id": "cell-6ab9c9a0c9d06b60",
     "locked": true,
     "schema_version": 3,
     "solution": false,
     "task": false
    }
   },
   "source": [
    "### Question 5\n",
    "\n",
    "Having processed the data in `world_bank_country.csv` and `world_bank_gdp.csv`, we can generate a scatter-plot showing average gross domestic product per capita, life expectancy and population.\n",
    "\n",
    "#### Question 5.1 \n",
    "\n",
    "Use the `pandas` function `sort_values` to sort `gdp_country_merged` in descending order by `Average GDP`."
   ]
  },
  {
   "cell_type": "code",
   "execution_count": null,
   "metadata": {
    "deletable": false,
    "nbgrader": {
     "cell_type": "code",
     "checksum": "a2479f6deca049238c6ff17cbec1fcd0",
     "grade": false,
     "grade_id": "cell-65ca7feec2f0b81e",
     "locked": false,
     "schema_version": 3,
     "solution": true,
     "task": false
    }
   },
   "outputs": [],
   "source": [
    "order = False\n",
    "\n",
    "# YOUR CODE HERE\n",
    "#raise NotImplementedError()\n",
    "\n",
    "gdp_country_merged.sort_values('Average GDP', ascending=order, inplace=True)"
   ]
  },
  {
   "cell_type": "code",
   "execution_count": null,
   "metadata": {
    "deletable": false,
    "editable": false,
    "nbgrader": {
     "cell_type": "code",
     "checksum": "a59d93723a17bc8b2e539cc8ce8f8013",
     "grade": true,
     "grade_id": "cell-b3c6a320d9d65ebd",
     "locked": true,
     "points": 1,
     "schema_version": 3,
     "solution": false,
     "task": false
    }
   },
   "outputs": [],
   "source": [
    "# TEST \n",
    "\n",
    "assert gdp_country_merged['Average GDP'].is_monotonic_decreasing"
   ]
  },
  {
   "cell_type": "markdown",
   "metadata": {
    "deletable": false,
    "editable": false,
    "nbgrader": {
     "cell_type": "markdown",
     "checksum": "9ab1d0836cfcc9923538c32944a31c69",
     "grade": false,
     "grade_id": "cell-6c2120110ca96146",
     "locked": true,
     "schema_version": 3,
     "solution": false,
     "task": false
    }
   },
   "source": [
    "#### Question 5.2\n",
    "\n",
    "Since some countries have a large population and some countries have a small population, we will use the logarithm function from Homework 3.\n",
    "\n",
    "Use the `numpy` function `log` to transform the entries in the `Population` column."
   ]
  },
  {
   "cell_type": "code",
   "execution_count": null,
   "metadata": {
    "deletable": false,
    "nbgrader": {
     "cell_type": "code",
     "checksum": "f3dbc31da0d86383339d7fbbb5a1bf32",
     "grade": false,
     "grade_id": "cell-8bcc4c0ef5b0d61e",
     "locked": false,
     "schema_version": 3,
     "solution": true,
     "task": false
    }
   },
   "outputs": [],
   "source": [
    "logarithm_function = np.log\n",
    "\n",
    "# YOUR CODE HERE\n",
    "#raise NotImplementedError()\n",
    "\n",
    "gdp_country_merged[\"Log Population\"] = logarithm_function(gdp_country_merged[\"Population\"])"
   ]
  },
  {
   "cell_type": "code",
   "execution_count": null,
   "metadata": {
    "deletable": false,
    "editable": false,
    "nbgrader": {
     "cell_type": "code",
     "checksum": "de20a0b9e37b915bf7f35b297af74286",
     "grade": true,
     "grade_id": "cell-d1d6c4a77b4055bc",
     "locked": true,
     "points": 1,
     "schema_version": 3,
     "solution": false,
     "task": false
    }
   },
   "outputs": [],
   "source": [
    "# TEST \n",
    "\n",
    "assert \"Log Population\" in gdp_country_merged.columns\n"
   ]
  },
  {
   "cell_type": "markdown",
   "metadata": {
    "deletable": false,
    "editable": false,
    "nbgrader": {
     "cell_type": "markdown",
     "checksum": "b37eecbe85516a379703ed0f412d7186",
     "grade": false,
     "grade_id": "cell-3e27f4d1ce397b62",
     "locked": true,
     "schema_version": 3,
     "solution": false,
     "task": false
    }
   },
   "source": [
    "#### Question 5.3\n",
    "\n",
    "Now we can generate a scatter-plot showing the information in `gdp_country_merged`.\n",
    "\n",
    "- Horizontal coordinate is `Log Population`\n",
    "- Vertical coordinate is `Life Expectancy`\n",
    "- Size is determined by `Average GDP`"
   ]
  },
  {
   "cell_type": "code",
   "execution_count": null,
   "metadata": {
    "deletable": false,
    "editable": false,
    "nbgrader": {
     "cell_type": "code",
     "checksum": "5e049552a80309752bc25a7c88d5f1d5",
     "grade": false,
     "grade_id": "cell-2699ffd78fe2c7ef",
     "locked": true,
     "schema_version": 3,
     "solution": false,
     "task": false
    }
   },
   "outputs": [],
   "source": [
    "plt.scatter(gdp_country_merged[\"Log Population\"], \n",
    "            gdp_country_merged[\"Life expectancy\"], \n",
    "            s = gdp_country_merged['Average GDP']*200, label=\"Average GDP\");\n",
    "\n",
    "plt.ylim([45, 95])\n",
    "\n",
    "plt.ylabel(\"Life expectancy\")\n",
    "plt.xlabel(\"Log of Popualtion\")\n",
    "plt.title(\"World Bank Data\")\n",
    "\n",
    "plt.legend();"
   ]
  }
 ],
 "metadata": {
  "kernelspec": {
   "display_name": "Python [conda env:grade-environment]",
   "language": "python",
   "name": "conda-env-grade-environment-py"
  },
  "language_info": {
   "codemirror_mode": {
    "name": "ipython",
    "version": 3
   },
   "file_extension": ".py",
   "mimetype": "text/x-python",
   "name": "python",
   "nbconvert_exporter": "python",
   "pygments_lexer": "ipython3",
   "version": "3.7.7"
  }
 },
 "nbformat": 4,
 "nbformat_minor": 2
}
