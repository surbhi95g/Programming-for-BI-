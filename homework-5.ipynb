{
 "cells": [
  {
   "cell_type": "markdown",
   "metadata": {
    "deletable": false,
    "editable": false,
    "nbgrader": {
     "cell_type": "markdown",
     "checksum": "f329f575dacff01da5f22eaca102b5fa",
     "grade": false,
     "grade_id": "cell-277ac1db5743b98f",
     "locked": true,
     "schema_version": 3,
     "solution": false,
     "task": false
    }
   },
   "source": [
    "Homework 5 : Dates and Times\n",
    "\n",
    "In this assignment, we will study tables. We will get practice with panel data consisting of records with time-stamps. By learning to process dates and times, we can remove inconsistencies to determine interesting patterns in the data.   \n",
    "\n",
    "The questions guide you step-by-step through these approaches. Please post the homework 5 channel of Slack with any questions. \n"
   ]
  },
  {
   "cell_type": "markdown",
   "metadata": {
    "deletable": false,
    "editable": false,
    "nbgrader": {
     "cell_type": "markdown",
     "checksum": "95c48629b307ab2760ebe8c5323f144b",
     "grade": false,
     "grade_id": "cell-24715915b4286eed",
     "locked": true,
     "schema_version": 3,
     "solution": false,
     "task": false
    }
   },
   "source": [
    "### Rubric\n",
    "\n",
    "Question | Points\n",
    "--- | ---\n",
    "Question 1.1 | 1\n",
    "Question 1.2 | 1\n",
    "Question 1.3 | 1\n",
    "Question 2.1 | 1\n",
    "Question 2.2 | 1\n",
    "Question 3.1 | 1\n",
    "Question 4.1 | 1\n",
    "Question 4.2 | 1\n",
    "Question 4.3 | 1\n",
    "Total | 9"
   ]
  },
  {
   "cell_type": "markdown",
   "metadata": {
    "deletable": false,
    "editable": false,
    "nbgrader": {
     "cell_type": "markdown",
     "checksum": "0ab2c3a35ace8752ce670c3c03d2acb8",
     "grade": false,
     "grade_id": "cell-d16eb9723104d3f7",
     "locked": true,
     "schema_version": 3,
     "solution": false,
     "task": false
    }
   },
   "source": [
    "We will study data from the stock market. The dataset has three columns.\n",
    "\n",
    "<img src=\"image.PNG\"  width=\"350\"/>\n",
    "\n",
    "The columns consist of\n",
    "\n",
    "- stock price \n",
    "- volume of trading \n",
    "- date and time of transaction\n",
    "\n",
    "However, the records have inconsistencies. Before we can look for trends in the price and volume, we must process the data particularly the time-stamps.  \n",
    "\n",
    "### 0. Load Packages\n",
    "\n",
    "We have been working with the\n",
    "\n",
    "-  `numpy` package for manipulations of arrays\n",
    "-  `matplotlib` package for generating charts\n",
    "- `pandas` package for handling tables \n",
    "\n",
    "Here we will learn about the `datetime` and `pytz` packages to get experience with operations on dates and times."
   ]
  },
  {
   "cell_type": "code",
   "execution_count": null,
   "metadata": {
    "deletable": false,
    "editable": false,
    "nbgrader": {
     "cell_type": "code",
     "checksum": "69de9beadd95904de98043ed9df528ce",
     "grade": false,
     "grade_id": "cell-78ed536253c2de08",
     "locked": true,
     "schema_version": 3,
     "solution": false,
     "task": false
    }
   },
   "outputs": [],
   "source": [
    "# import some packages\n",
    "\n",
    "import numpy as np\n",
    "import pandas as pd\n",
    "\n",
    "import matplotlib.pyplot as plt\n",
    "\n",
    "from datetime import datetime as dt\n",
    "import pytz\n",
    "\n",
    "# change some settings\n",
    "\n",
    "pd.set_option('display.max_rows', 10)\n",
    "pd.set_option('display.max_columns', 8)\n",
    "\n",
    "plt.rcParams['figure.figsize'] = (10,8)"
   ]
  },
  {
   "cell_type": "code",
   "execution_count": null,
   "metadata": {
    "deletable": false,
    "editable": false,
    "nbgrader": {
     "cell_type": "code",
     "checksum": "ca5b83f7d302dd86093990541588e263",
     "grade": true,
     "grade_id": "cell-36ec7b7001b0bcd7",
     "locked": true,
     "points": 0,
     "schema_version": 3,
     "solution": false,
     "task": false
    }
   },
   "outputs": [],
   "source": [
    "# TEST\n",
    "\n",
    "import sys\n",
    "\n",
    "assert \"numpy\" in sys.modules and \"np\" in locals()\n",
    "assert \"pandas\" in sys.modules and \"pd\" in locals()\n",
    "assert \"matplotlib\" in sys.modules and \"plt\" in locals()\n",
    "assert \"datetime\" in sys.modules and \"dt\" in locals()"
   ]
  },
  {
   "cell_type": "markdown",
   "metadata": {
    "deletable": false,
    "editable": false,
    "nbgrader": {
     "cell_type": "markdown",
     "checksum": "b8b60192da0aff0e5b7f08cd1aa77787",
     "grade": false,
     "grade_id": "cell-7462a01741d10a9c",
     "locked": true,
     "schema_version": 3,
     "solution": false,
     "task": false
    }
   },
   "source": [
    "Note that we changed some of the default settings in `pandas` with `set_option` and in `matplotlib` with `rcParams`. \n",
    "\n",
    "### 1. Date and Time Data Types\n",
    "\n",
    "The `datetime` package allows us to store an object containing year, month, and day.  "
   ]
  },
  {
   "cell_type": "code",
   "execution_count": null,
   "metadata": {
    "deletable": false,
    "editable": false,
    "nbgrader": {
     "cell_type": "code",
     "checksum": "a22d3c00cb3654b08b4bfd24b7671efd",
     "grade": false,
     "grade_id": "cell-377c9872c71633eb",
     "locked": true,
     "schema_version": 3,
     "solution": false,
     "task": false
    },
    "slideshow": {
     "slide_type": "fragment"
    }
   },
   "outputs": [],
   "source": [
    "date = dt(2011, 1, 7)\n",
    "\n",
    "print(date.year, date.month, date.day)"
   ]
  },
  {
   "cell_type": "markdown",
   "metadata": {
    "deletable": false,
    "editable": false,
    "nbgrader": {
     "cell_type": "markdown",
     "checksum": "9af757672b10f5fcd457b54587f3d71d",
     "grade": false,
     "grade_id": "cell-ec614800bfa839a6",
     "locked": true,
     "schema_version": 3,
     "solution": false,
     "task": false
    }
   },
   "source": [
    "Note that `datetime` objects have their own data type."
   ]
  },
  {
   "cell_type": "code",
   "execution_count": null,
   "metadata": {
    "deletable": false,
    "editable": false,
    "nbgrader": {
     "cell_type": "code",
     "checksum": "9233a5b60a86e1aef405f89dac2b62e9",
     "grade": false,
     "grade_id": "cell-c9ddd6a21630ed07",
     "locked": true,
     "schema_version": 3,
     "solution": false,
     "task": false
    }
   },
   "outputs": [],
   "source": [
    "type(date)"
   ]
  },
  {
   "cell_type": "markdown",
   "metadata": {
    "deletable": false,
    "editable": false,
    "nbgrader": {
     "cell_type": "markdown",
     "checksum": "5489dd1cb91e1300cb3c723e289b34f1",
     "grade": false,
     "grade_id": "cell-bdc8bb6589bc3242",
     "locked": true,
     "schema_version": 3,
     "solution": false,
     "task": false
    },
    "slideshow": {
     "slide_type": "subslide"
    }
   },
   "source": [
    "The `datetime` package has support for time in terms of hours, minutes, seconds, and microseconds."
   ]
  },
  {
   "cell_type": "code",
   "execution_count": null,
   "metadata": {
    "deletable": false,
    "editable": false,
    "nbgrader": {
     "cell_type": "code",
     "checksum": "85e3a20074f013e8b07860f7ea77100e",
     "grade": false,
     "grade_id": "cell-c92dbd57ba7c445e",
     "locked": true,
     "schema_version": 3,
     "solution": false,
     "task": false
    }
   },
   "outputs": [],
   "source": [
    "date = dt(2011, 1, 7, 10, 25, 55, 590172)\n",
    "print(date.hour, date.minute, date.second, date.microsecond)"
   ]
  },
  {
   "cell_type": "markdown",
   "metadata": {
    "deletable": false,
    "editable": false,
    "nbgrader": {
     "cell_type": "markdown",
     "checksum": "fba63104ec8354c3bf34fe88db0f8534",
     "grade": false,
     "grade_id": "cell-9df44be6e990ab89",
     "locked": true,
     "schema_version": 3,
     "solution": false,
     "task": false
    }
   },
   "source": [
    "#### Question 1.1\n",
    "\n",
    "We can perform operations on `datetime` objects. If we compare two dates, then we can check the order of occurence. "
   ]
  },
  {
   "cell_type": "code",
   "execution_count": null,
   "metadata": {
    "deletable": false,
    "editable": false,
    "nbgrader": {
     "cell_type": "code",
     "checksum": "a87418f43b44cb50638f835d10b07d36",
     "grade": false,
     "grade_id": "cell-559948b7405c88a1",
     "locked": true,
     "schema_version": 3,
     "solution": false,
     "task": false
    }
   },
   "outputs": [],
   "source": [
    "dt(2011, 1, 7) < dt(2012, 5, 15) "
   ]
  },
  {
   "cell_type": "markdown",
   "metadata": {
    "deletable": false,
    "editable": false,
    "nbgrader": {
     "cell_type": "markdown",
     "checksum": "66bcb528aab7da2ac6a16c66b5f57dd9",
     "grade": false,
     "grade_id": "cell-514b4159947b0f43",
     "locked": true,
     "schema_version": 3,
     "solution": false,
     "task": false
    }
   },
   "source": [
    "If we use subtraction then we can calculate a range of dates and times."
   ]
  },
  {
   "cell_type": "code",
   "execution_count": null,
   "metadata": {
    "deletable": false,
    "editable": false,
    "nbgrader": {
     "cell_type": "code",
     "checksum": "dd341f68a8b5d747e728eb26597e49e0",
     "grade": false,
     "grade_id": "cell-783f9eb433790b99",
     "locked": true,
     "schema_version": 3,
     "solution": false,
     "task": false
    },
    "slideshow": {
     "slide_type": "subslide"
    }
   },
   "outputs": [],
   "source": [
    "datetime_range = dt(2011, 1, 7, 10, 25, 55, 590172) - dt(2008, 2, 10, 16, 25, 35, 690192)\n",
    "\n",
    "print(datetime_range)"
   ]
  },
  {
   "cell_type": "markdown",
   "metadata": {
    "deletable": false,
    "editable": false,
    "nbgrader": {
     "cell_type": "markdown",
     "checksum": "3be5c281dd82656c195c7af621fc9db5",
     "grade": false,
     "grade_id": "cell-2dd7ce3560ea1797",
     "locked": true,
     "schema_version": 3,
     "solution": false,
     "task": false
    }
   },
   "source": [
    "Note that the difference of `datetime` objects has its own data type."
   ]
  },
  {
   "cell_type": "code",
   "execution_count": null,
   "metadata": {
    "deletable": false,
    "editable": false,
    "nbgrader": {
     "cell_type": "code",
     "checksum": "84f0f3073729e16c2d433e82d9accfbf",
     "grade": false,
     "grade_id": "cell-7d6d6501a27c033d",
     "locked": true,
     "schema_version": 3,
     "solution": false,
     "task": false
    }
   },
   "outputs": [],
   "source": [
    "type(datetime_range)"
   ]
  },
  {
   "cell_type": "markdown",
   "metadata": {
    "deletable": false,
    "editable": false,
    "nbgrader": {
     "cell_type": "markdown",
     "checksum": "2e0f9e9ef7fd4a64c0de7fc138d2f963",
     "grade": false,
     "grade_id": "cell-45077c769fcae74f",
     "locked": true,
     "schema_version": 3,
     "solution": false,
     "task": false
    }
   },
   "source": [
    "Use subtraction to determine the number of days between January 2, 2006 and July 7, 2012. Here we take the time to be `00:00:00:000000`. "
   ]
  },
  {
   "cell_type": "code",
   "execution_count": null,
   "metadata": {
    "deletable": false,
    "nbgrader": {
     "cell_type": "code",
     "checksum": "1df2f41e297112b83d9b0a89dd8667b6",
     "grade": false,
     "grade_id": "cell-067131c34bac6818",
     "locked": false,
     "schema_version": 3,
     "solution": true,
     "task": false
    }
   },
   "outputs": [],
   "source": [
    "q1_1 = dt(2012, 7, 7,0,0,0,0) - dt(2006, 1, 2,0,0,0,0)\n",
    "q1_1 = q1_1.days \n",
    "# YOUR CODE HERE\n",
    "#raise NotImplementedError()"
   ]
  },
  {
   "cell_type": "code",
   "execution_count": null,
   "metadata": {
    "deletable": false,
    "editable": false,
    "nbgrader": {
     "cell_type": "code",
     "checksum": "7eff48fe2c8e9c86494607649dda26e3",
     "grade": true,
     "grade_id": "cell-09f9805f397a72cf",
     "locked": true,
     "points": 1,
     "schema_version": 3,
     "solution": false,
     "task": false
    }
   },
   "outputs": [],
   "source": [
    "# TEST \n",
    "\n",
    "assert type(q1_1) == int\n",
    "assert 2000 < q1_1 < 3000\n"
   ]
  },
  {
   "cell_type": "markdown",
   "metadata": {
    "deletable": false,
    "editable": false,
    "nbgrader": {
     "cell_type": "markdown",
     "checksum": "cb6f7301eb62fda03caef9dd190611e4",
     "grade": false,
     "grade_id": "cell-6e7f28e1c9ca463a",
     "locked": true,
     "schema_version": 3,
     "solution": false,
     "task": false
    },
    "slideshow": {
     "slide_type": "slide"
    }
   },
   "source": [
    "#### Question 1.2\n",
    "\n",
    "We can convert `datetime` objects to strings.  "
   ]
  },
  {
   "cell_type": "code",
   "execution_count": null,
   "metadata": {
    "deletable": false,
    "editable": false,
    "nbgrader": {
     "cell_type": "code",
     "checksum": "1a8092a53413baf387ff9e4c7ed5a140",
     "grade": false,
     "grade_id": "cell-732f2a7b1d623267",
     "locked": true,
     "schema_version": 3,
     "solution": false,
     "task": false
    }
   },
   "outputs": [],
   "source": [
    "date = dt(2011, 7, 30)\n",
    "\n",
    "print(dt.strftime(date, '%Y-%m-%d'))"
   ]
  },
  {
   "cell_type": "markdown",
   "metadata": {
    "deletable": false,
    "editable": false,
    "nbgrader": {
     "cell_type": "markdown",
     "checksum": "2c70e616af36a197376a956b0bb0af66",
     "grade": false,
     "grade_id": "cell-7baef406117450a3",
     "locked": true,
     "schema_version": 3,
     "solution": false,
     "task": false
    },
    "slideshow": {
     "slide_type": "slide"
    }
   },
   "source": [
    "We can convert strings to `datetime` objects. Note that we need to specify the format of the dates."
   ]
  },
  {
   "cell_type": "code",
   "execution_count": null,
   "metadata": {
    "deletable": false,
    "editable": false,
    "nbgrader": {
     "cell_type": "code",
     "checksum": "26806939c53ca258aef0a9a346f8d116",
     "grade": false,
     "grade_id": "cell-849414e254e4488d",
     "locked": true,
     "schema_version": 3,
     "solution": false,
     "task": false
    }
   },
   "outputs": [],
   "source": [
    "datetime_string = '2011-07-30'\n",
    "\n",
    "date = dt.strptime(datetime_string, '%Y-%m-%d')\n",
    "\n",
    "type(date)"
   ]
  },
  {
   "cell_type": "markdown",
   "metadata": {
    "deletable": false,
    "editable": false,
    "nbgrader": {
     "cell_type": "markdown",
     "checksum": "a42f6123811bdc9f92334d1b5ecbb935",
     "grade": false,
     "grade_id": "cell-91601d9053fd3880",
     "locked": true,
     "schema_version": 3,
     "solution": false,
     "task": false
    }
   },
   "source": [
    "Please check the documentation for a [list of the formats](https://www.w3schools.com/python/python_datetime.asp).\n",
    "\n",
    "Convert the string `2011/01/20` into a `datetime` object for January 20, 2011."
   ]
  },
  {
   "cell_type": "code",
   "execution_count": null,
   "metadata": {
    "deletable": false,
    "nbgrader": {
     "cell_type": "code",
     "checksum": "c7c7d619fe30930bb92fb98659d7be8c",
     "grade": false,
     "grade_id": "cell-46f583281c8daddd",
     "locked": false,
     "schema_version": 3,
     "solution": true,
     "task": false
    }
   },
   "outputs": [],
   "source": [
    "q1_2 = dt.strptime('2011/01/20', '%Y/%m/%d')\n",
    "\n",
    "# YOUR CODE HERE\n",
    "#raise NotImplementedError()"
   ]
  },
  {
   "cell_type": "code",
   "execution_count": null,
   "metadata": {
    "deletable": false,
    "editable": false,
    "nbgrader": {
     "cell_type": "code",
     "checksum": "f9e739d0e650659c52d96ccf70d12351",
     "grade": true,
     "grade_id": "cell-0280f97f9664f099",
     "locked": true,
     "points": 1,
     "schema_version": 3,
     "solution": false,
     "task": false
    }
   },
   "outputs": [],
   "source": [
    "# TEST \n",
    "\n",
    "assert q1_2.year == 2011\n",
    "assert q1_2.month == 1\n",
    "assert q1_2.day == 20\n"
   ]
  },
  {
   "cell_type": "markdown",
   "metadata": {
    "deletable": false,
    "editable": false,
    "nbgrader": {
     "cell_type": "markdown",
     "checksum": "216b4543dda2fc7017e52b9b3a9b919d",
     "grade": false,
     "grade_id": "cell-d4a2cbd4b086f276",
     "locked": true,
     "schema_version": 3,
     "solution": false,
     "task": false
    },
    "slideshow": {
     "slide_type": "slide"
    }
   },
   "source": [
    "#### Question 1.3 \n",
    "\n",
    "Often we want to use `datetime` objects in the index of a `pandas` series or dataframe."
   ]
  },
  {
   "cell_type": "code",
   "execution_count": null,
   "metadata": {
    "deletable": false,
    "editable": false,
    "nbgrader": {
     "cell_type": "code",
     "checksum": "53af4c3404aae29e66cc154bac7d276a",
     "grade": false,
     "grade_id": "cell-5a33b75da9b7dabf",
     "locked": true,
     "schema_version": 3,
     "solution": false,
     "task": false
    },
    "slideshow": {
     "slide_type": "subslide"
    }
   },
   "outputs": [],
   "source": [
    "dates = [dt(2011, 1, 2), dt(2011, 1, 5), dt(2011, 1, 7)]\n",
    "\n",
    "index_dates = pd.DatetimeIndex(dates)\n",
    "index_dates"
   ]
  },
  {
   "cell_type": "markdown",
   "metadata": {
    "deletable": false,
    "editable": false,
    "nbgrader": {
     "cell_type": "markdown",
     "checksum": "7deacbb92bc490b2233a4b0acb635d03",
     "grade": false,
     "grade_id": "cell-fe41f4f97882a63f",
     "locked": true,
     "schema_version": 3,
     "solution": false,
     "task": false
    }
   },
   "source": [
    "We have a `DatetimeIndex` meaning a `pandas` container that supports operations on dates and times. We can use the `pandas` function `to_datetime` to convert a list of strings to a `DatetimeIndex`."
   ]
  },
  {
   "cell_type": "code",
   "execution_count": null,
   "metadata": {
    "deletable": false,
    "editable": false,
    "nbgrader": {
     "cell_type": "code",
     "checksum": "6929460755d58f322008a064b4ba0fb0",
     "grade": false,
     "grade_id": "cell-df46cd19010b4df6",
     "locked": true,
     "schema_version": 3,
     "solution": false,
     "task": false
    },
    "slideshow": {
     "slide_type": "subslide"
    }
   },
   "outputs": [],
   "source": [
    "dates = ['7/6/2011', '8/6/2011']\n",
    "\n",
    "pd.to_datetime(dates, format = \"%m/%d/%Y\")"
   ]
  },
  {
   "cell_type": "markdown",
   "metadata": {
    "deletable": false,
    "editable": false,
    "nbgrader": {
     "cell_type": "markdown",
     "checksum": "a3e3ddde97184c43f4dfe10404e171f4",
     "grade": false,
     "grade_id": "cell-1e488115aa1c6a8a",
     "locked": true,
     "schema_version": 3,
     "solution": false,
     "task": false
    }
   },
   "source": [
    "Convert the list of strings \n",
    "\n",
    "```python\n",
    "['2010-01-04', '2010-01-05', '2010-01-06', '2010-01-07', '2010-01-08']\n",
    "```\n",
    "\n",
    "to a `DatetimeIndex` object with `to_datetime`. "
   ]
  },
  {
   "cell_type": "code",
   "execution_count": null,
   "metadata": {
    "deletable": false,
    "nbgrader": {
     "cell_type": "code",
     "checksum": "8b0828aa4b75a5f4579d8161d150e806",
     "grade": false,
     "grade_id": "cell-6a1ae55f136a2fae",
     "locked": false,
     "schema_version": 3,
     "solution": true,
     "task": false
    }
   },
   "outputs": [],
   "source": [
    "q1_3 = ['2010-01-04', '2010-01-05', '2010-01-06', '2010-01-07', '2010-01-08']\n",
    "q1_3 = pd.to_datetime(q1_3, format = \"%Y-%m-%d\")\n",
    "#type(q1_3)\n",
    "# YOUR CODE HERE\n",
    "#raise NotImplementedError()"
   ]
  },
  {
   "cell_type": "code",
   "execution_count": null,
   "metadata": {
    "deletable": false,
    "editable": false,
    "nbgrader": {
     "cell_type": "code",
     "checksum": "e1fdf41bdb10a560d5d6a103017be9e1",
     "grade": true,
     "grade_id": "cell-d85e4afdfd0b07a9",
     "locked": true,
     "points": 1,
     "schema_version": 3,
     "solution": false,
     "task": false
    }
   },
   "outputs": [],
   "source": [
    "# TEST \n",
    "\n",
    "assert len(q1_3) == 5\n"
   ]
  },
  {
   "cell_type": "markdown",
   "metadata": {
    "deletable": false,
    "editable": false,
    "nbgrader": {
     "cell_type": "markdown",
     "checksum": "c7e9879d3b0a76770ddd347b76ba568d",
     "grade": false,
     "grade_id": "cell-4282d02aa1ed01f6",
     "locked": true,
     "schema_version": 3,
     "solution": false,
     "task": false
    },
    "slideshow": {
     "slide_type": "slide"
    }
   },
   "source": [
    "### 2. Date Ranges\n",
    "\n",
    "Often we want to generate many dates according to a pattern. "
   ]
  },
  {
   "cell_type": "markdown",
   "metadata": {
    "deletable": false,
    "editable": false,
    "nbgrader": {
     "cell_type": "markdown",
     "checksum": "210a404e8f0efae8a9e307a01702675b",
     "grade": false,
     "grade_id": "cell-f1331a67fb7f59db",
     "locked": true,
     "schema_version": 3,
     "solution": false,
     "task": false
    }
   },
   "source": [
    "#### Question 2.1 \n",
    "\n",
    "If we have a starting date and ending date, then we can fill in intermediate dates based on a frequency. "
   ]
  },
  {
   "cell_type": "code",
   "execution_count": null,
   "metadata": {
    "deletable": false,
    "editable": false,
    "nbgrader": {
     "cell_type": "code",
     "checksum": "7d08060b918e82b24f8ee17ddd7b125c",
     "grade": false,
     "grade_id": "cell-9a7f91b91be610a5",
     "locked": true,
     "schema_version": 3,
     "solution": false,
     "task": false
    },
    "slideshow": {
     "slide_type": "fragment"
    }
   },
   "outputs": [],
   "source": [
    "pd.date_range(start = '2012-04-01', end = '2012-04-03', freq=\"D\")"
   ]
  },
  {
   "cell_type": "markdown",
   "metadata": {
    "deletable": false,
    "editable": false,
    "nbgrader": {
     "cell_type": "markdown",
     "checksum": "f1edd0242d56456ae7c8ec5cad232d93",
     "grade": false,
     "grade_id": "cell-44553adab1fa1d28",
     "locked": true,
     "schema_version": 3,
     "solution": false,
     "task": false
    }
   },
   "source": [
    "If we have a starting date, then we can add a certain number of periods based on a frequency. "
   ]
  },
  {
   "cell_type": "code",
   "execution_count": null,
   "metadata": {
    "deletable": false,
    "editable": false,
    "nbgrader": {
     "cell_type": "code",
     "checksum": "cad5eb51a2883f64d916dc15644d7582",
     "grade": false,
     "grade_id": "cell-57396c752f851bd7",
     "locked": true,
     "schema_version": 3,
     "solution": false,
     "task": false
    },
    "slideshow": {
     "slide_type": "subslide"
    }
   },
   "outputs": [],
   "source": [
    "pd.date_range(start='4/1/2012', periods=3, freq=\"M\")"
   ]
  },
  {
   "cell_type": "markdown",
   "metadata": {
    "deletable": false,
    "editable": false,
    "nbgrader": {
     "cell_type": "markdown",
     "checksum": "b6716128944269ffadc291204c2f22a8",
     "grade": false,
     "grade_id": "cell-d5d408388004d7c3",
     "locked": true,
     "schema_version": 3,
     "solution": false,
     "task": false
    }
   },
   "source": [
    "Generate a `DatetimeIndex` containing 10 dates between `2010-01-01` and `2020-01-01` with frequency `Y`"
   ]
  },
  {
   "cell_type": "code",
   "execution_count": null,
   "metadata": {
    "deletable": false,
    "nbgrader": {
     "cell_type": "code",
     "checksum": "0bafe967aa89c828f59f4c2a248ea73e",
     "grade": false,
     "grade_id": "cell-4154e8b56f73e173",
     "locked": false,
     "schema_version": 3,
     "solution": true,
     "task": false
    }
   },
   "outputs": [],
   "source": [
    "q2_1 = pd.date_range(start = '2010-01-01', end = '2020-01-01', freq=\"Y\")\n",
    "\n",
    "# YOUR CODE HERE\n",
    "#raise NotImplementedError()"
   ]
  },
  {
   "cell_type": "code",
   "execution_count": null,
   "metadata": {
    "deletable": false,
    "editable": false,
    "nbgrader": {
     "cell_type": "code",
     "checksum": "505102ae4889a5402e48ae79704d9dc3",
     "grade": true,
     "grade_id": "cell-c4aa52dd0a4cb4de",
     "locked": true,
     "points": 1,
     "schema_version": 3,
     "solution": false,
     "task": false
    }
   },
   "outputs": [],
   "source": [
    "# TEST \n",
    "\n",
    "assert len(q2_1) == 10\n"
   ]
  },
  {
   "cell_type": "markdown",
   "metadata": {
    "deletable": false,
    "editable": false,
    "nbgrader": {
     "cell_type": "markdown",
     "checksum": "c0fc45254c3dd0b034af03f37a12343f",
     "grade": false,
     "grade_id": "cell-3f5352a4a3746af1",
     "locked": true,
     "schema_version": 3,
     "solution": false,
     "task": false
    }
   },
   "source": [
    "#### Question 2.2 \n",
    "\n",
    "Commonly we use a `DatetimeIndex` object for the index of a `pandas` Series or DataFrame."
   ]
  },
  {
   "cell_type": "code",
   "execution_count": null,
   "metadata": {
    "deletable": false,
    "editable": false,
    "nbgrader": {
     "cell_type": "code",
     "checksum": "ed87a4ba90ca785c447791421f124177",
     "grade": false,
     "grade_id": "cell-ac3d6c4ad96a41be",
     "locked": true,
     "schema_version": 3,
     "solution": false,
     "task": false
    },
    "slideshow": {
     "slide_type": "fragment"
    }
   },
   "outputs": [],
   "source": [
    "panel_data = pd.Series(data = range(5), index = pd.date_range(start='4/1/2012', periods=5, freq=\"M\"))\n",
    "panel_data"
   ]
  },
  {
   "cell_type": "markdown",
   "metadata": {
    "deletable": false,
    "editable": false,
    "nbgrader": {
     "cell_type": "markdown",
     "checksum": "0d685cac84d81f6b5991b4adc076d34b",
     "grade": false,
     "grade_id": "cell-d20cf29b44fc259f",
     "locked": true,
     "schema_version": 3,
     "solution": false,
     "task": false
    }
   },
   "source": [
    "We have different ways to access entries. We could specify a `datetime` object."
   ]
  },
  {
   "cell_type": "code",
   "execution_count": null,
   "metadata": {
    "deletable": false,
    "editable": false,
    "nbgrader": {
     "cell_type": "code",
     "checksum": "82939910156178e2ef077b4ff195d211",
     "grade": false,
     "grade_id": "cell-fb4b34e6fb918735",
     "locked": true,
     "schema_version": 3,
     "solution": false,
     "task": false
    },
    "slideshow": {
     "slide_type": "subslide"
    }
   },
   "outputs": [],
   "source": [
    "panel_data[dt(2012, 5, 31)]"
   ]
  },
  {
   "cell_type": "markdown",
   "metadata": {
    "deletable": false,
    "editable": false,
    "nbgrader": {
     "cell_type": "markdown",
     "checksum": "42345cef24b754d95d7693d252b371c6",
     "grade": false,
     "grade_id": "cell-53ff6b01dfa3a64b",
     "locked": true,
     "schema_version": 3,
     "solution": false,
     "task": false
    }
   },
   "source": [
    "We could specify a string."
   ]
  },
  {
   "cell_type": "code",
   "execution_count": null,
   "metadata": {
    "deletable": false,
    "editable": false,
    "nbgrader": {
     "cell_type": "code",
     "checksum": "487fad07f1550e7fb84875ad2271e7e0",
     "grade": false,
     "grade_id": "cell-86a6eabc17407bf5",
     "locked": true,
     "schema_version": 3,
     "solution": false,
     "task": false
    }
   },
   "outputs": [],
   "source": [
    "panel_data['2012-06-30']"
   ]
  },
  {
   "cell_type": "markdown",
   "metadata": {
    "deletable": false,
    "editable": false,
    "nbgrader": {
     "cell_type": "markdown",
     "checksum": "622f11327b19b5109b075be152bdc00c",
     "grade": false,
     "grade_id": "cell-5059c91693ff1a49",
     "locked": true,
     "schema_version": 3,
     "solution": false,
     "task": false
    }
   },
   "source": [
    "If we want entries for a range of dates, then we could specify less information."
   ]
  },
  {
   "cell_type": "code",
   "execution_count": null,
   "metadata": {
    "deletable": false,
    "editable": false,
    "nbgrader": {
     "cell_type": "code",
     "checksum": "6a53eb0070409966ddb95e09b7177ed3",
     "grade": false,
     "grade_id": "cell-324c5fd9deb789ad",
     "locked": true,
     "schema_version": 3,
     "solution": false,
     "task": false
    },
    "slideshow": {
     "slide_type": "subslide"
    }
   },
   "outputs": [],
   "source": [
    "panel_data['2012']"
   ]
  },
  {
   "cell_type": "markdown",
   "metadata": {
    "deletable": false,
    "editable": false,
    "nbgrader": {
     "cell_type": "markdown",
     "checksum": "104ce5c0a0dc85a75b7858b7834492cf",
     "grade": false,
     "grade_id": "cell-6f10b8384a86d732",
     "locked": true,
     "schema_version": 3,
     "solution": false,
     "task": false
    }
   },
   "source": [
    "Or we could specify a slice of dates like a slice of numbers."
   ]
  },
  {
   "cell_type": "code",
   "execution_count": null,
   "metadata": {
    "deletable": false,
    "editable": false,
    "nbgrader": {
     "cell_type": "code",
     "checksum": "9d1734bdab201785c721b44b4ee2dbf7",
     "grade": false,
     "grade_id": "cell-e8535d5fdecd399f",
     "locked": true,
     "schema_version": 3,
     "solution": false,
     "task": false
    },
    "slideshow": {
     "slide_type": "subslide"
    }
   },
   "outputs": [],
   "source": [
    "panel_data['2012-04-30':'2012-06-15']"
   ]
  },
  {
   "cell_type": "markdown",
   "metadata": {
    "deletable": false,
    "editable": false,
    "nbgrader": {
     "cell_type": "markdown",
     "checksum": "a6170b54d72eea1456da68a48c2a5726",
     "grade": false,
     "grade_id": "cell-0bebcc6de2654079",
     "locked": true,
     "schema_version": 3,
     "solution": false,
     "task": false
    }
   },
   "source": [
    "Access the entries from `panel_data` in June, July and August."
   ]
  },
  {
   "cell_type": "code",
   "execution_count": null,
   "metadata": {
    "deletable": false,
    "nbgrader": {
     "cell_type": "code",
     "checksum": "ca5b9b929c1acf88d6b11463d3bea475",
     "grade": false,
     "grade_id": "cell-a1fff1defa0339ec",
     "locked": false,
     "schema_version": 3,
     "solution": true,
     "task": false
    }
   },
   "outputs": [],
   "source": [
    "q2_2 = panel_data['2012-06':'2012-08']\n",
    "\n",
    "# YOUR CODE HERE\n",
    "#raise NotImplementedError()"
   ]
  },
  {
   "cell_type": "code",
   "execution_count": null,
   "metadata": {
    "deletable": false,
    "editable": false,
    "nbgrader": {
     "cell_type": "code",
     "checksum": "e15e98222950b1c46b738dbbde21629b",
     "grade": true,
     "grade_id": "cell-3317e2a8a20faa13",
     "locked": true,
     "points": 1,
     "schema_version": 3,
     "solution": false,
     "task": false
    }
   },
   "outputs": [],
   "source": [
    "# TEST \n",
    "\n",
    "assert np.all(q2_2.values == np.array([2, 3, 4]))\n"
   ]
  },
  {
   "cell_type": "markdown",
   "metadata": {
    "deletable": false,
    "editable": false,
    "nbgrader": {
     "cell_type": "markdown",
     "checksum": "3cfd1e404df29e91f15be56fc9deab22",
     "grade": false,
     "grade_id": "cell-283889c4443b13c5",
     "locked": true,
     "schema_version": 3,
     "solution": false,
     "task": false
    },
    "slideshow": {
     "slide_type": "slide"
    }
   },
   "source": [
    "### 3. Time Zones\n",
    "\n",
    "We will use the `pytz` package to deal with time zones. The package recognizes strings for time zones."
   ]
  },
  {
   "cell_type": "code",
   "execution_count": null,
   "metadata": {
    "deletable": false,
    "editable": false,
    "nbgrader": {
     "cell_type": "code",
     "checksum": "401fc0187906cdcd573bbb4e286ad1fd",
     "grade": false,
     "grade_id": "cell-6138f93226539c0b",
     "locked": true,
     "schema_version": 3,
     "solution": false,
     "task": false
    }
   },
   "outputs": [],
   "source": [
    "pytz.common_timezones[-5:]"
   ]
  },
  {
   "cell_type": "markdown",
   "metadata": {
    "deletable": false,
    "editable": false,
    "nbgrader": {
     "cell_type": "markdown",
     "checksum": "4cbef84a7ebf38ff5d2ee5a43d090f37",
     "grade": false,
     "grade_id": "cell-0c434de2120b4c5c",
     "locked": true,
     "schema_version": 3,
     "solution": false,
     "task": false
    }
   },
   "source": [
    "By default a `DatetimeIndex` does not have a time zone. We can specify the time zone with the argument `tz`. "
   ]
  },
  {
   "cell_type": "code",
   "execution_count": null,
   "metadata": {
    "deletable": false,
    "editable": false,
    "nbgrader": {
     "cell_type": "code",
     "checksum": "75f25f2b7cef3d718369f99c6fef0df2",
     "grade": false,
     "grade_id": "cell-57753d5f39bed794",
     "locked": true,
     "schema_version": 3,
     "solution": false,
     "task": false
    },
    "slideshow": {
     "slide_type": "fragment"
    }
   },
   "outputs": [],
   "source": [
    "index_dates = pd.date_range(start='4/1/2012', periods=5, freq=\"M\", tz = \"US/Mountain\")\n",
    "\n",
    "print(index_dates.tz)"
   ]
  },
  {
   "cell_type": "markdown",
   "metadata": {
    "deletable": false,
    "editable": false,
    "nbgrader": {
     "cell_type": "markdown",
     "checksum": "3bb0ddc804e0dd2b67eedbd10c8a4fde",
     "grade": false,
     "grade_id": "cell-790b6947e0f4a1c3",
     "locked": true,
     "schema_version": 3,
     "solution": false,
     "task": false
    }
   },
   "source": [
    "We can add time zones to an existing `DatetimeIndex` using the `tz_localize` function."
   ]
  },
  {
   "cell_type": "code",
   "execution_count": null,
   "metadata": {
    "deletable": false,
    "editable": false,
    "nbgrader": {
     "cell_type": "code",
     "checksum": "e35881374af584dc331a87b715e12986",
     "grade": false,
     "grade_id": "cell-bef6a9b959f9da42",
     "locked": true,
     "schema_version": 3,
     "solution": false,
     "task": false
    },
    "slideshow": {
     "slide_type": "fragment"
    }
   },
   "outputs": [],
   "source": [
    "index_dates = pd.date_range(start='4/1/2012', periods=5, freq=\"M\")\n",
    "index_dates_with_timezone = index_dates.tz_localize('US/Mountain')\n",
    "\n",
    "print(index_dates_with_timezone.tz)"
   ]
  },
  {
   "cell_type": "markdown",
   "metadata": {
    "deletable": false,
    "editable": false,
    "nbgrader": {
     "cell_type": "markdown",
     "checksum": "1f5fcd302d1683187ea478d3d57115c2",
     "grade": false,
     "grade_id": "cell-aff20354e2e827a1",
     "locked": true,
     "schema_version": 3,
     "solution": false,
     "task": false
    }
   },
   "source": [
    "If we have included the time zone, then we can convert using the `tz_convert` function. "
   ]
  },
  {
   "cell_type": "code",
   "execution_count": null,
   "metadata": {
    "deletable": false,
    "editable": false,
    "nbgrader": {
     "cell_type": "code",
     "checksum": "02810f4961a65f34410a0143e6e5a18e",
     "grade": false,
     "grade_id": "cell-9965a8e3efd1bf4d",
     "locked": true,
     "schema_version": 3,
     "solution": false,
     "task": false
    },
    "slideshow": {
     "slide_type": "subslide"
    }
   },
   "outputs": [],
   "source": [
    "index_dates_with_timezone = index_dates_with_timezone.tz_convert('US/Pacific')\n",
    "\n",
    "print(index_dates_with_timezone.tz)"
   ]
  },
  {
   "cell_type": "markdown",
   "metadata": {
    "deletable": false,
    "editable": false,
    "nbgrader": {
     "cell_type": "markdown",
     "checksum": "ca93f0613671eedfa96a937e31901ce0",
     "grade": false,
     "grade_id": "cell-778f696ea05fe3c9",
     "locked": true,
     "schema_version": 3,
     "solution": false,
     "task": false
    }
   },
   "source": [
    "#### Question 3.1\n",
    "\n",
    "**True/False** Is `US/Eastern` the time zone in `pytz` for New York City."
   ]
  },
  {
   "cell_type": "code",
   "execution_count": null,
   "metadata": {
    "deletable": false,
    "nbgrader": {
     "cell_type": "code",
     "checksum": "8d7077a4495c2762ba34aaa863771154",
     "grade": false,
     "grade_id": "cell-5baa412498310f90",
     "locked": false,
     "schema_version": 3,
     "solution": true,
     "task": false
    }
   },
   "outputs": [],
   "source": [
    "q3_1 = True\n",
    "\n",
    "# YOUR CODE HERE\n",
    "#raise NotImplementedError()"
   ]
  },
  {
   "cell_type": "code",
   "execution_count": null,
   "metadata": {
    "deletable": false,
    "editable": false,
    "nbgrader": {
     "cell_type": "code",
     "checksum": "6a36c27786e7b0b996b85fd5e6db645b",
     "grade": true,
     "grade_id": "cell-4d31adcdf8c00bff",
     "locked": true,
     "points": 1,
     "schema_version": 3,
     "solution": false,
     "task": false
    }
   },
   "outputs": [],
   "source": [
    "# TEST \n",
    "\n",
    "assert q3_1 in [True, False]\n"
   ]
  },
  {
   "cell_type": "markdown",
   "metadata": {
    "deletable": false,
    "editable": false,
    "nbgrader": {
     "cell_type": "markdown",
     "checksum": "66a1e848a8efed766bd637b6b43d5c1b",
     "grade": false,
     "grade_id": "cell-908ce47a60303849",
     "locked": true,
     "schema_version": 3,
     "solution": false,
     "task": false
    }
   },
   "source": [
    "### Question 4\n",
    "\n",
    "Having learned about different approaches for working with dates and times, we can process the data about stocks.\n",
    "\n",
    "#### Question 4.1\n",
    "\n",
    "Use the `pandas` function `read_csv` to load the data from `raw_data.csv` into a table called `df_raw`."
   ]
  },
  {
   "cell_type": "code",
   "execution_count": null,
   "metadata": {
    "deletable": false,
    "nbgrader": {
     "cell_type": "code",
     "checksum": "ff0ab96bec20b9365d8bcdcfa85c0a50",
     "grade": false,
     "grade_id": "cell-bb6cd4be5d11420b",
     "locked": false,
     "schema_version": 3,
     "solution": true,
     "task": false
    }
   },
   "outputs": [],
   "source": [
    "df_raw = pd.read_csv(\"raw_data.csv\")\n",
    "\n",
    "# YOUR CODE HERE\n",
    "#raise NotImplementedError()"
   ]
  },
  {
   "cell_type": "code",
   "execution_count": null,
   "metadata": {
    "deletable": false,
    "editable": false,
    "nbgrader": {
     "cell_type": "code",
     "checksum": "6e083d3fca0aea5cbe94aa98c45f44e7",
     "grade": true,
     "grade_id": "cell-f0b919e6123c11c0",
     "locked": true,
     "points": 1,
     "schema_version": 3,
     "solution": false,
     "task": false
    }
   },
   "outputs": [],
   "source": [
    "# TEST \n",
    "\n",
    "assert df_raw.shape == (23, 3)\n"
   ]
  },
  {
   "cell_type": "markdown",
   "metadata": {
    "deletable": false,
    "editable": false,
    "nbgrader": {
     "cell_type": "markdown",
     "checksum": "1a1a8a580d9ed9f0c8ea3411b9df341b",
     "grade": false,
     "grade_id": "cell-30584f0ff2fa0292",
     "locked": true,
     "schema_version": 3,
     "solution": false,
     "task": false
    }
   },
   "source": [
    "#### Question 4.2\n",
    "\n",
    "The column ```times_of_trade``` contains strings representing dates and times. The format is ```dd-mm-yyyy hh:mm:ss```. \n",
    "\n",
    "Create another table called ```df``` from ```df_raw```:\n",
    "\n",
    "$1.$ Use the `pandas` function `rename` to change the name ```times_of_trade``` to ```Time``` \n",
    "\n",
    "$2.$ Use the `pandas` function ```to_datetime``` to convert each string in the ```Time``` column to a `datetime` object.\n"
   ]
  },
  {
   "cell_type": "code",
   "execution_count": null,
   "metadata": {
    "deletable": false,
    "nbgrader": {
     "cell_type": "code",
     "checksum": "4024662f5e05a5a567b7ba4f7fa82fc9",
     "grade": false,
     "grade_id": "cell-6557366fbb2cb1d1",
     "locked": false,
     "schema_version": 3,
     "solution": true,
     "task": false
    }
   },
   "outputs": [],
   "source": [
    "df = df_raw.rename(columns={\"times_of_trade\": \"Time\"})\n",
    "df['Time'] = pd.to_datetime(df['Time'], format = \"%d-%m-%Y %X\")\n",
    "#type(df['Time'][0])\n",
    "#df['Time'][0]\n",
    "#raise NotImplementedError()"
   ]
  },
  {
   "cell_type": "code",
   "execution_count": null,
   "metadata": {
    "deletable": false,
    "editable": false,
    "nbgrader": {
     "cell_type": "code",
     "checksum": "a335b5eb14a2a5cebecba932ab7b26c2",
     "grade": true,
     "grade_id": "cell-73b6586c91a93094",
     "locked": true,
     "points": 1,
     "schema_version": 3,
     "solution": false,
     "task": false
    }
   },
   "outputs": [],
   "source": [
    "# TEST \n",
    "\n",
    "assert np.all(df.columns == np.array([\"Volume\", \"Price\", \"Time\"]))\n"
   ]
  },
  {
   "cell_type": "markdown",
   "metadata": {
    "deletable": false,
    "editable": false,
    "nbgrader": {
     "cell_type": "markdown",
     "checksum": "48020cac41eb81f0174086855d585884",
     "grade": false,
     "grade_id": "cell-332554be5998b4c3",
     "locked": true,
     "schema_version": 3,
     "solution": false,
     "task": false
    }
   },
   "source": [
    "#### Question 4.3\n",
    "\n",
    "We can use the `pandas` function `set_index` to make the `Time` column the index of the table."
   ]
  },
  {
   "cell_type": "code",
   "execution_count": null,
   "metadata": {
    "deletable": false,
    "editable": false,
    "nbgrader": {
     "cell_type": "code",
     "checksum": "65a8d92567b2ca74ebf882c03c4854e9",
     "grade": false,
     "grade_id": "cell-e6f2ca8b2f16317e",
     "locked": true,
     "schema_version": 3,
     "solution": false,
     "task": false
    }
   },
   "outputs": [],
   "source": [
    "df = df.set_index(\"Time\")"
   ]
  },
  {
   "cell_type": "markdown",
   "metadata": {
    "deletable": false,
    "editable": false,
    "nbgrader": {
     "cell_type": "markdown",
     "checksum": "39193d76738d995191e7012038078bd6",
     "grade": false,
     "grade_id": "cell-8485bd6e1e9d125c",
     "locked": true,
     "schema_version": 3,
     "solution": false,
     "task": false
    }
   },
   "source": [
    "The time zone should be `US/Pacific`. However, we did not specify `US/Pacific` in Question 4.2.\n",
    "\n",
    "Modify the index of `df`: \n",
    "\n",
    "$1.$ Using the `pandas` function `tz_localize`, add the timezone `US/Pacific`.\n",
    "\n",
    "$2.$ Using the `pandas` function `tz_convert`, convert the timezone to `US/Eastern`."
   ]
  },
  {
   "cell_type": "code",
   "execution_count": null,
   "metadata": {
    "deletable": false,
    "nbgrader": {
     "cell_type": "code",
     "checksum": "6e2f65b8600da9f05d675abbefdffcdb",
     "grade": false,
     "grade_id": "cell-6e221cb302d743ac",
     "locked": false,
     "schema_version": 3,
     "solution": true,
     "task": false
    }
   },
   "outputs": [],
   "source": [
    "df.index = df.index.tz_localize('US/Pacific')\n",
    "df.index = df.index.tz_convert('US/Eastern')\n",
    "\n",
    "# YOUR CODE HERE\n",
    "#raise NotImplementedError()"
   ]
  },
  {
   "cell_type": "code",
   "execution_count": null,
   "metadata": {
    "deletable": false,
    "editable": false,
    "nbgrader": {
     "cell_type": "code",
     "checksum": "b23d016d757e78462a902a1adc5db00e",
     "grade": true,
     "grade_id": "cell-334315a55ec623cc",
     "locked": true,
     "points": 1,
     "schema_version": 3,
     "solution": false,
     "task": false
    }
   },
   "outputs": [],
   "source": [
    "# TEST \n",
    "\n",
    "assert str(df.index.tz) == \"US/Eastern\"\n"
   ]
  }
 ],
 "metadata": {
  "kernelspec": {
   "display_name": "Python [conda env:grade-environment]",
   "language": "python",
   "name": "conda-env-grade-environment-py"
  },
  "language_info": {
   "codemirror_mode": {
    "name": "ipython",
    "version": 3
   },
   "file_extension": ".py",
   "mimetype": "text/x-python",
   "name": "python",
   "nbconvert_exporter": "python",
   "pygments_lexer": "ipython3",
   "version": "3.7.7"
  }
 },
 "nbformat": 4,
 "nbformat_minor": 4
}
