{
 "cells": [
  {
   "cell_type": "markdown",
   "metadata": {
    "deletable": false,
    "editable": false,
    "nbgrader": {
     "cell_type": "markdown",
     "checksum": "01aff474fa0935600582b531adaa7cb8",
     "grade": false,
     "grade_id": "cell-80d2c074a80faa82",
     "locked": true,
     "schema_version": 3,
     "solution": false,
     "task": false
    }
   },
   "source": [
    "Homework 3: Arrays\n",
    "\n",
    "\n",
    "In this assignment, we will study arrays. Along the way we will get practice with functions and packages.\n",
    "\n",
    "The questions guide you step-by-step through these approaches. Please post to Slack with any questions. \n"
   ]
  },
  {
   "cell_type": "markdown",
   "metadata": {
    "deletable": false,
    "editable": false,
    "nbgrader": {
     "cell_type": "markdown",
     "checksum": "fb64b6eb01b2302b4bd6d74c4368f7bc",
     "grade": false,
     "grade_id": "cell-946f429ec7438c5b",
     "locked": true,
     "schema_version": 3,
     "solution": false,
     "task": false
    }
   },
   "source": [
    "### Rubric\n",
    "\n",
    "Question | Points\n",
    "--- | ---\n",
    "Question 1.1 | 1\n",
    "Question 1.2 | 1\n",
    "Question 1.3 | 2\n",
    "Question 2.1 | 0\n",
    "Question 2.2 | 1\n",
    "Question 2.3 | 1\n",
    "Question 3.1 | 1\n",
    "Question 3.2 | 1\n",
    "Total | 8"
   ]
  },
  {
   "cell_type": "markdown",
   "metadata": {
    "deletable": false,
    "editable": false,
    "nbgrader": {
     "cell_type": "markdown",
     "checksum": "d50ac69c02a33bee958a603da5e9ad35",
     "grade": false,
     "grade_id": "cell-d729fda2c375f6c4",
     "locked": true,
     "schema_version": 3,
     "solution": false,
     "task": false
    }
   },
   "source": [
    "### 0. Load Packages\n",
    "\n",
    "We will be working with the `numpy` array for operations on arrays of numbers. "
   ]
  },
  {
   "cell_type": "code",
   "execution_count": 1,
   "metadata": {
    "deletable": false,
    "editable": false,
    "nbgrader": {
     "cell_type": "code",
     "checksum": "4efa228c2e17148cac8ae394857159df",
     "grade": false,
     "grade_id": "cell-09dae348d499abb3",
     "locked": true,
     "schema_version": 3,
     "solution": false,
     "task": false
    }
   },
   "outputs": [],
   "source": [
    "import numpy as np"
   ]
  },
  {
   "cell_type": "code",
   "execution_count": 2,
   "metadata": {
    "deletable": false,
    "editable": false,
    "nbgrader": {
     "cell_type": "code",
     "checksum": "079acd9183f75ec6605918327bd626a4",
     "grade": true,
     "grade_id": "cell-9a52609d23707c30",
     "locked": true,
     "points": 0,
     "schema_version": 3,
     "solution": false,
     "task": false
    }
   },
   "outputs": [],
   "source": [
    "# TEST \n",
    "\n",
    "import sys\n",
    "\n",
    "assert \"numpy\" in sys.modules and \"np\" in locals()"
   ]
  },
  {
   "cell_type": "markdown",
   "metadata": {
    "deletable": false,
    "editable": false,
    "nbgrader": {
     "cell_type": "markdown",
     "checksum": "ece8221a955c09314ea006c224366fda",
     "grade": false,
     "grade_id": "cell-88b8c1dc1ca92d9f",
     "locked": true,
     "schema_version": 3,
     "solution": false,
     "task": false
    }
   },
   "source": [
    "Many companies employ data analysts to understand the habits of customers. Instacart is a company that operates grocery delivery services in the United States and Canada. Their marketing groups want to encourage purchases in future orders based on records of purchases in past orders. Their data analytics groups will collect and analyze data on habits of customers.\n",
    "\n",
    "| order_id        | product_id           | add_to_cart_order  | reordered |\n",
    "|:-------------:|:-------------:|:-------------:|:-------------:|\n",
    "1|49302|1|1|\n",
    "1|11109|2|1|\n",
    "1|10246|3|0|\n",
    "1|49683|4|0|\n",
    "1|43633|5|1|\n",
    "1|13176|6|0|\n",
    "1|47209|7|0|\n",
    "1|22035|8|1|\n",
    "\n",
    "Each order has a record of purchased products. The records indicate whether the product has occurred in a past order. Data analysts at Instacart can look for patterns of recurring purchases in a table with orders of different customers.  \n",
    "\n",
    "<center>\n",
    "<img src=\"table.PNG\" width=\"500\"/>\n",
    "</center>\n",
    "    \n",
    "Each row is a customer and each column is an item in the company inventory. The entries are 0 for no purchase and 1 for purchase. Note that the table contains many entries with the value 0. We can think of these entries like blanks. \n",
    "\n",
    "If we have many blank entries then we have **sparse** data. Data analysts can avoid the blank entries to reduce computing time and save storage resources. \n",
    "\n",
    "### 1. Reshaping Arrays\n",
    "\n",
    "Sometimes we need to convert an array with two axes to an array with one axis. \n",
    "\n",
    "#### Question 1.1\n",
    "\n",
    "Write a function called `flatten`:\n",
    "\n",
    "- Input: a `numpy` array with two dimensions\n",
    "- Output: a `numpy` array with one dimension containing the entries of the input  \n",
    "\n",
    "For example, if the input is `np.array([[1,2], [3,4]])`, then the output would be `np.array([1,2,3,4])`. \n",
    "\n",
    "Try to use a `for` loop to add entries to a list. Iterate over the locations of the entries in the rows and columns. "
   ]
  },
  {
   "cell_type": "code",
   "execution_count": 7,
   "metadata": {
    "deletable": false,
    "nbgrader": {
     "cell_type": "code",
     "checksum": "156f3e73f24104d057687831df8097a6",
     "grade": false,
     "grade_id": "cell-f17004803da9ea05",
     "locked": false,
     "schema_version": 3,
     "solution": true,
     "task": false
    }
   },
   "outputs": [],
   "source": [
    "def flatten(input_array):\n",
    "    output_array = []\n",
    "    \n",
    "    number_rows, number_columns = input_array.shape \n",
    "    \n",
    "    for i in range(number_rows):\n",
    "        for j in range(number_columns):\n",
    "            output_array.append(input_array[i,j])\n",
    "\n",
    "    return np.array(output_array)"
   ]
  },
  {
   "cell_type": "code",
   "execution_count": 8,
   "metadata": {
    "deletable": false,
    "editable": false,
    "nbgrader": {
     "cell_type": "code",
     "checksum": "2764f94f738e4f83c2f487e5e71282ec",
     "grade": true,
     "grade_id": "cell-7f78f1c1dae18b70",
     "locked": true,
     "points": 1,
     "schema_version": 3,
     "solution": false,
     "task": false
    }
   },
   "outputs": [],
   "source": [
    "# TEST \n",
    "\n",
    "input_array = np.array([[1,2],[3,4]])\n",
    "output_array = flatten(input_array)\n",
    "\n",
    "assert output_array.shape == (4,)\n"
   ]
  },
  {
   "cell_type": "markdown",
   "metadata": {
    "deletable": false,
    "editable": false,
    "nbgrader": {
     "cell_type": "markdown",
     "checksum": "83e3fe407602d67d5910b0bbc167b479",
     "grade": false,
     "grade_id": "cell-e1230d5549d121ba",
     "locked": true,
     "schema_version": 3,
     "solution": false,
     "task": false
    }
   },
   "source": [
    "#### Question 1.2\n",
    "\n",
    "Write a function called `flatten_jagged`:\n",
    "\n",
    "- Input: a jagged `numpy` array with two dimensions\n",
    "- Output: a `numpy` array with one dimension containing the entries of the input  \n",
    "\n",
    "For example, if the input is `np.array([[1,2,3], [4]])`, then the output would be `np.array([1,2,3,4])`. \n",
    "\n",
    "Try to use a `for` loop to add entries to a list. Iterate over the location of the rows. For each row, iterate over the entries. "
   ]
  },
  {
   "cell_type": "code",
   "execution_count": 9,
   "metadata": {
    "deletable": false,
    "nbgrader": {
     "cell_type": "code",
     "checksum": "05e26151b7b6b10a1be6ffb922b7c36a",
     "grade": false,
     "grade_id": "cell-5bdd427ba0036157",
     "locked": false,
     "schema_version": 3,
     "solution": true,
     "task": false
    }
   },
   "outputs": [],
   "source": [
    "def flatten_jagged(input_array):\n",
    "    output_array = []\n",
    "    \n",
    "    number_rows = input_array.shape[0] \n",
    "    \n",
    "    for i in range(number_rows):\n",
    "        for j in range(len(input_array[i])):\n",
    "            output_array.append(input_array[i][j])\n",
    "    # YOUR CODE HERE\n",
    "    #raise NotImplementedError()\n",
    "\n",
    "    return np.array(output_array)"
   ]
  },
  {
   "cell_type": "code",
   "execution_count": 10,
   "metadata": {
    "deletable": false,
    "editable": false,
    "nbgrader": {
     "cell_type": "code",
     "checksum": "e6425b0dca9a3e3b2007ff0f51be43d2",
     "grade": true,
     "grade_id": "cell-7f622ca4d228bef7",
     "locked": true,
     "points": 1,
     "schema_version": 3,
     "solution": false,
     "task": false
    }
   },
   "outputs": [],
   "source": [
    "# TEST \n",
    "\n",
    "input_array = np.array([[1,2,3],[4]], dtype = object)\n",
    "output_array = flatten_jagged(input_array)\n",
    "\n",
    "assert output_array.shape == (4,)\n"
   ]
  },
  {
   "cell_type": "markdown",
   "metadata": {
    "deletable": false,
    "editable": false,
    "nbgrader": {
     "cell_type": "markdown",
     "checksum": "1904a9a5a219b9a6ec24a01004d21412",
     "grade": false,
     "grade_id": "cell-2eaef3b6d9965075",
     "locked": true,
     "schema_version": 3,
     "solution": false,
     "task": false
    }
   },
   "source": [
    "<ol start=2>\n",
    "<img src=\"diagram.PNG\" alt=\"drawing\" width=\"200\" style=\"float:right\"/>\n",
    "\n",
    "<br>\n",
    "<br>\n",
    "\n",
    "#### Question 1.3\n",
    "    \n",
    "Modify the function `flatten` from Question 1.1: \n",
    "\n",
    "- Add a parameter called `major`. \n",
    "  * Make the default value of `major` be `\"row\"`\n",
    "- Rewrite the loop so \n",
    "  * If `major` is `\"row\"`, then the array is flattened in row major order\n",
    "  * If `major` is `\"column\"`, then the array is flattened in column major order \n",
    " \n",
    "Call the function `flatten_v2`.\n",
    "</ol>"
   ]
  },
  {
   "cell_type": "code",
   "execution_count": 11,
   "metadata": {
    "deletable": false,
    "nbgrader": {
     "cell_type": "code",
     "checksum": "450a75b33cf4f5330293b20671d851e9",
     "grade": false,
     "grade_id": "cell-584e947774ffa149",
     "locked": false,
     "schema_version": 3,
     "solution": true,
     "task": false
    }
   },
   "outputs": [],
   "source": [
    "def flatten_v2(input_array, major = \"row\"):\n",
    "    output_array = []\n",
    "    \n",
    "    number_rows, number_columns = input_array.shape \n",
    "    \n",
    "    if major == \"row\":\n",
    "        output_array = flatten(input_array)\n",
    "    else:\n",
    "        for j in range(number_columns):\n",
    "            for i in range(number_rows):\n",
    "                output_array.append(input_array[i,j])\n",
    "        # YOUR CODE HERE\n",
    "        #raise NotImplementedError()\n",
    "\n",
    "    return np.array(output_array)"
   ]
  },
  {
   "cell_type": "code",
   "execution_count": 12,
   "metadata": {
    "deletable": false,
    "editable": false,
    "nbgrader": {
     "cell_type": "code",
     "checksum": "04606aac93c14b11cf7bdf8995e8d95d",
     "grade": true,
     "grade_id": "cell-a32d61b5007e5e18",
     "locked": true,
     "points": 1,
     "schema_version": 3,
     "solution": false,
     "task": false
    }
   },
   "outputs": [],
   "source": [
    "# TEST \n",
    "\n",
    "input_array = np.array([[1,2],[3,4]])\n",
    "output_array = flatten_v2(input_array, \"row\")\n",
    "\n",
    "assert output_array.shape == (4,)\n"
   ]
  },
  {
   "cell_type": "code",
   "execution_count": 13,
   "metadata": {
    "deletable": false,
    "editable": false,
    "nbgrader": {
     "cell_type": "code",
     "checksum": "8fbe154772d9a54343b33ec7055cb84d",
     "grade": true,
     "grade_id": "cell-fe6001f4222a203e",
     "locked": true,
     "points": 1,
     "schema_version": 3,
     "solution": false,
     "task": false
    }
   },
   "outputs": [],
   "source": [
    "# TEST \n",
    "\n",
    "input_array = np.array([[1,2],[3,4]])\n",
    "output_array = flatten_v2(input_array, \"column\")\n",
    "\n",
    "assert output_array.shape == (4,)\n"
   ]
  },
  {
   "cell_type": "markdown",
   "metadata": {
    "deletable": false,
    "editable": false,
    "nbgrader": {
     "cell_type": "markdown",
     "checksum": "347d7acec0c5ae07f80768e542dfed9e",
     "grade": false,
     "grade_id": "cell-0c5cc95e71589df5",
     "locked": true,
     "schema_version": 3,
     "solution": false,
     "task": false
    }
   },
   "source": [
    "### 2. Measuring Size of Arrays\n",
    "\n",
    "We can measure the size of arrays in different ways. We need space in memory to store the array. The memory usage helps us to distinguish small arrays and large arrays. \n",
    "\n",
    "#### Question 2.1\n",
    "\n",
    "We have provided you with a file called `helper_functions.py`. Import the module `helper_functions`."
   ]
  },
  {
   "cell_type": "code",
   "execution_count": 15,
   "metadata": {
    "deletable": false,
    "nbgrader": {
     "cell_type": "code",
     "checksum": "c7e98d5fae14479760b1a36d75c75b38",
     "grade": false,
     "grade_id": "cell-00aeae4669763c98",
     "locked": false,
     "schema_version": 3,
     "solution": true,
     "task": false
    }
   },
   "outputs": [],
   "source": [
    "import helper_functions\n",
    "# YOUR CODE HERE\n",
    "#raise NotImplementedError()"
   ]
  },
  {
   "cell_type": "markdown",
   "metadata": {
    "deletable": false,
    "editable": false,
    "nbgrader": {
     "cell_type": "markdown",
     "checksum": "cf616cae8e709f1405f1585cccac4080",
     "grade": false,
     "grade_id": "cell-05a6aa8409d83a14",
     "locked": true,
     "schema_version": 3,
     "solution": false,
     "task": false
    }
   },
   "source": [
    "#### Question 2.2\n",
    "\n",
    "Consider the array `arr` \n",
    "\n",
    "```python\n",
    "arr = np.array([[1, 0, 0, 1, 0, 0], [0, 0, 2, 0, 0, 1], [0, 0, 0, 2, 0, 0]])\n",
    "```\n",
    "\n",
    "Use `helper_functions.get_size` from Question 2.1 to determine how much space `arr` takes up in memory. Note that the input of `helper_functions.get_size` is an array and the output is number of bytes.\n"
   ]
  },
  {
   "cell_type": "code",
   "execution_count": 17,
   "metadata": {
    "deletable": false,
    "nbgrader": {
     "cell_type": "code",
     "checksum": "c6e083598d4e2062ae6e2cf69abff076",
     "grade": false,
     "grade_id": "cell-af712a5bbde519b1",
     "locked": false,
     "schema_version": 3,
     "solution": true,
     "task": false
    }
   },
   "outputs": [],
   "source": [
    "arr = np.array([[1, 0, 0, 1, 0, 0], [0, 0, 2, 0, 0, 1], [0, 0, 0, 2, 0, 0]])\n",
    "size_in_memory = helper_functions.get_size(arr)\n",
    "\n",
    "# YOUR CODE HERE\n",
    "#raise NotImplementedError()"
   ]
  },
  {
   "cell_type": "code",
   "execution_count": 18,
   "metadata": {
    "deletable": false,
    "editable": false,
    "nbgrader": {
     "cell_type": "code",
     "checksum": "d5ef16f6f50506e1c5aa4fa29fc8d13e",
     "grade": true,
     "grade_id": "cell-47ca101b56fcc573",
     "locked": true,
     "points": 1,
     "schema_version": 3,
     "solution": false,
     "task": false
    }
   },
   "outputs": [],
   "source": [
    "# TEST \n",
    "\n",
    "assert 0 < size_in_memory < 200\n"
   ]
  },
  {
   "cell_type": "markdown",
   "metadata": {
    "deletable": false,
    "editable": false,
    "nbgrader": {
     "cell_type": "markdown",
     "checksum": "b157421ad2c08af93cc3dcca0056292b",
     "grade": false,
     "grade_id": "cell-12231c746aa626d0",
     "locked": true,
     "schema_version": 3,
     "solution": false,
     "task": false
    }
   },
   "source": [
    "#### Question 2.3\n",
    "\n",
    "Use the function `helper_functions.sparse_matrix` to covert \n",
    "\n",
    "```python\n",
    "arr = np.array([[1, 0, 0, 1, 0, 0], [0, 0, 2, 0, 0, 1], [0, 0, 0, 2, 0, 0]])\n",
    "```\n",
    "\n",
    "into a `numpy` sparse array. Call the sparse array `arr_sparse`. Use `helper_functions.get_size` to determine how much space `arr_sparse` takes up in memory."
   ]
  },
  {
   "cell_type": "code",
   "execution_count": 21,
   "metadata": {
    "deletable": false,
    "nbgrader": {
     "cell_type": "code",
     "checksum": "049bc3e2aa1e8de1c80ede81a447ebff",
     "grade": false,
     "grade_id": "cell-02e64114817a69c1",
     "locked": false,
     "schema_version": 3,
     "solution": true,
     "task": false
    }
   },
   "outputs": [],
   "source": [
    "arr_sparse = helper_functions.sparse_matrix(arr)\n",
    "\n",
    "# YOUR CODE HERE\n",
    "#raise NotImplementedError()\n",
    "\n",
    "size_in_memory = helper_functions.get_size(arr_sparse)\n",
    "\n",
    "# YOUR CODE HERE\n",
    "#raise NotImplementedError()"
   ]
  },
  {
   "cell_type": "code",
   "execution_count": 22,
   "metadata": {
    "deletable": false,
    "editable": false,
    "nbgrader": {
     "cell_type": "code",
     "checksum": "eb4b562c2b1b0f3dc90a814b93eccb35",
     "grade": true,
     "grade_id": "cell-8b50b05d6df07d9d",
     "locked": true,
     "points": 1,
     "schema_version": 3,
     "solution": false,
     "task": false
    }
   },
   "outputs": [],
   "source": [
    "# TEST \n",
    "\n",
    "assert 0 < size_in_memory < 100\n"
   ]
  },
  {
   "cell_type": "markdown",
   "metadata": {
    "deletable": false,
    "editable": false,
    "nbgrader": {
     "cell_type": "markdown",
     "checksum": "ed1121defa50ff9b96ed8f95cca0a22c",
     "grade": false,
     "grade_id": "cell-d45515f688c8c5fe",
     "locked": true,
     "schema_version": 3,
     "solution": false,
     "task": false
    }
   },
   "source": [
    "### 3. Sparse Arrays\n",
    "\n",
    "We find that `arr_sparse` has a smaller size than `arr`. \n",
    "\n",
    "> While does `arr_sparse` take up less space in memory?\n",
    "\n",
    "If we think of the value `0` as a blank, then the array has many blank entries. We can use `sparse_matrix` to remove these blanks. So we just have to record the non-zero values.\n",
    "\n",
    "#### Question 3.1\n",
    "\n",
    "We can write our own version of `sparse_matrix`. Write a function called `dense_to_sparse` that inputs an array and outputs a dictionary with\n",
    "\n",
    "- Keys as tuples containing `(row,column)` of all non-zero entries    \n",
    "- Values as the corresponding non-zero entries.\n",
    "\n",
    "along with the shape of the input.\n",
    "\n",
    "The resulting entries should be in _row-major_ order (see Question 1.3). \n",
    "\n",
    "For example, if the input is \n",
    "\n",
    "> `np.array([[1,0], [0,4]])` \n",
    "\n",
    "then the output is\n",
    "\n",
    "> `{(0,0):1, (1,1):4}`, `(2,2)`       \n",
    "    "
   ]
  },
  {
   "cell_type": "code",
   "execution_count": 23,
   "metadata": {
    "deletable": false,
    "nbgrader": {
     "cell_type": "code",
     "checksum": "2ec465ebe56ef8b2d18ce34aa3cf7e2b",
     "grade": false,
     "grade_id": "cell-8207133136b09ad1",
     "locked": false,
     "schema_version": 3,
     "solution": true,
     "task": false
    }
   },
   "outputs": [],
   "source": [
    "def dense_to_sparse(array):\n",
    "    output_dictionary = {}\n",
    "    \n",
    "    for i in range(array.shape[0]):\n",
    "        for j in range(array.shape[1]):\n",
    "            if array[i][j]>0:\n",
    "                output_dictionary[(i,j)]=array[i][j]\n",
    "            else:\n",
    "                continue\n",
    "                \n",
    "    return output_dictionary, array.shape"
   ]
  },
  {
   "cell_type": "code",
   "execution_count": 24,
   "metadata": {
    "deletable": false,
    "editable": false,
    "nbgrader": {
     "cell_type": "code",
     "checksum": "5ec5b6aab4580e95fb871125c955ceb0",
     "grade": true,
     "grade_id": "cell-9247ad0c621eb4a3",
     "locked": true,
     "points": 1,
     "schema_version": 3,
     "solution": false,
     "task": false
    }
   },
   "outputs": [],
   "source": [
    "# TEST \n",
    "\n",
    "input_array = np.array([[1,0],[0,4]])\n",
    "output_array, shape = dense_to_sparse(input_array)\n",
    "\n",
    "assert len(output_array) == 2\n",
    "assert shape == (2,2)\n"
   ]
  },
  {
   "cell_type": "markdown",
   "metadata": {
    "deletable": false,
    "editable": false,
    "nbgrader": {
     "cell_type": "markdown",
     "checksum": "51b5062a8f53c8daa14e3528981ded70",
     "grade": false,
     "grade_id": "cell-9d03b4f90aae8075",
     "locked": true,
     "schema_version": 3,
     "solution": false,
     "task": false
    }
   },
   "source": [
    "#### Question 3.2\n",
    "\n",
    "\n",
    "\n",
    "Write the opposite function of `dense_to_sparse` from Question 3.1. Call it `sparse_to_dense`. For example, if the input is \n",
    "\n",
    "> `{(0,0):1, (1,1):4}`, `(2,2)`\n",
    "\n",
    "then the output is\n",
    "\n",
    "> `np.array([[1,0], [0,4]])` "
   ]
  },
  {
   "cell_type": "code",
   "execution_count": 25,
   "metadata": {
    "deletable": false,
    "nbgrader": {
     "cell_type": "code",
     "checksum": "9bced050deba1f519cfc0a1b75c8c5a0",
     "grade": false,
     "grade_id": "cell-83ce65e12497bf8d",
     "locked": false,
     "schema_version": 3,
     "solution": true,
     "task": false
    }
   },
   "outputs": [],
   "source": [
    "def sparse_to_dense(input_dictionary, shape):\n",
    "    output_array = np.zeros(shape)\n",
    "\n",
    "    for key, value in input_dictionary.items():\n",
    "        output_array[key]=value\n",
    "    \n",
    "    return output_array"
   ]
  },
  {
   "cell_type": "code",
   "execution_count": null,
   "metadata": {
    "deletable": false,
    "editable": false,
    "nbgrader": {
     "cell_type": "code",
     "checksum": "bf3e7f1cf9319afa64ce13cdadd27a73",
     "grade": true,
     "grade_id": "cell-e1e7b773a4953378",
     "locked": true,
     "points": 1,
     "schema_version": 3,
     "solution": false,
     "task": false
    }
   },
   "outputs": [],
   "source": [
    "# TEST \n",
    "\n",
    "input_array = {(0,0):1, (1,1):4}\n",
    "shape = (2,2)\n",
    "\n",
    "output_array = sparse_to_dense(input_array, shape)\n",
    "\n",
    "assert output_array.shape == (2,2)\n"
   ]
  }
 ],
 "metadata": {
  "kernelspec": {
   "display_name": "Python [conda env:grade-environment]",
   "language": "python",
   "name": "conda-env-grade-environment-py"
  },
  "language_info": {
   "codemirror_mode": {
    "name": "ipython",
    "version": 3
   },
   "file_extension": ".py",
   "mimetype": "text/x-python",
   "name": "python",
   "nbconvert_exporter": "python",
   "pygments_lexer": "ipython3",
   "version": "3.7.7"
  }
 },
 "nbformat": 4,
 "nbformat_minor": 2
}
